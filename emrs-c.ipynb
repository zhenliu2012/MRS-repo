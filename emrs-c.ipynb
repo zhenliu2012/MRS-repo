{
 "cells": [
  {
   "cell_type": "code",
   "execution_count": 21,
   "metadata": {
    "collapsed": true
   },
   "outputs": [],
   "source": [
    "import pandas as pd\n",
    "import ast\n",
    "from sklearn.feature_extraction.text import TfidfVectorizer, CountVectorizer\n",
    "from sklearn.metrics.pairwise import linear_kernel, cosine_similarity\n",
    "from nltk.stem.snowball import SnowballStemmer #porterstemmer?\n",
    "from nltk.stem.wordnet import WordNetLemmatizer\n",
    "from nltk.corpus import wordnet\n",
    "import numpy as np\n",
    "import re"
   ]
  },
  {
   "cell_type": "code",
   "execution_count": 22,
   "metadata": {
    "collapsed": true
   },
   "outputs": [],
   "source": [
    "def getdirector( crew ):\n",
    "    for i in crew:\n",
    "        if i['job'] == 'Director':\n",
    "            return i['name']\n",
    "    return np.nan"
   ]
  },
  {
   "cell_type": "code",
   "execution_count": 23,
   "metadata": {
    "collapsed": true
   },
   "outputs": [],
   "source": [
    "def getrecommendations(title, cosine_sim, df ):\n",
    "    titles = df['title']\n",
    "    indices = pd.Series(df.index, index=df['title'])\n",
    "    idx = indices[title]\n",
    "    sim_scores = list(enumerate(cosine_sim[idx]))\n",
    "    sim_scores = sorted(sim_scores, key=lambda x: x[1], reverse=True)\n",
    "    sim_scores = sim_scores[1:21]\n",
    "    movie_indices = [i[0] for i in sim_scores]\n",
    "    return titles.iloc[movie_indices]"
   ]
  },
  {
   "cell_type": "code",
   "execution_count": 24,
   "metadata": {
    "collapsed": true
   },
   "outputs": [],
   "source": [
    "def getrecommendation( movie_title, sim_matrix, df ):\n",
    "    idx = np.asscalar( \n",
    "        df.loc[ df['title'] == movie_title ].index.values )\n",
    "    sim_idx = sim_matrix[ idx ].argsort()[::-1][1:21].flatten().tolist()\n",
    "    df_top = df[ ['title', 'genres', 'keywords', 'director', 'cast'] ].iloc[ sim_idx ]\n",
    "    return( df_top )\n",
    "    "
   ]
  },
  {
   "cell_type": "code",
   "execution_count": 25,
   "metadata": {},
   "outputs": [
    {
     "name": "stderr",
     "output_type": "stream",
     "text": [
      "I:\\Anaconda\\lib\\site-packages\\IPython\\core\\interactiveshell.py:2698: DtypeWarning: Columns (10) have mixed types. Specify dtype option on import or set low_memory=False.\n",
      "  interactivity=interactivity, compiler=compiler, result=result)\n"
     ]
    }
   ],
   "source": [
    "df_md = pd. read_csv('../movielens_small/movies_metadata.csv')\n",
    "df_link = pd.read_csv('../movielens_small/links_small.csv')\n",
    "df_credits = pd.read_csv( '../movielens_small/credits.csv' )\n",
    "df_keywords = pd.read_csv( '../movielens_small/keywords.csv' )"
   ]
  },
  {
   "cell_type": "code",
   "execution_count": 26,
   "metadata": {
    "collapsed": true
   },
   "outputs": [],
   "source": [
    "df_link = df_link[df_link['tmdbId'].notnull()]['tmdbId'].astype('int')"
   ]
  },
  {
   "cell_type": "code",
   "execution_count": 27,
   "metadata": {
    "collapsed": true
   },
   "outputs": [],
   "source": [
    "df_md['genres'] = ( df_md['genres'].fillna('[]').\n",
    "                   apply(ast.literal_eval).\n",
    "                   apply( lambda x: [i['name'] for i in x] if isinstance(x, list) else []) )"
   ]
  },
  {
   "cell_type": "code",
   "execution_count": 28,
   "metadata": {
    "collapsed": true
   },
   "outputs": [],
   "source": [
    "df_md = df_md.drop([19730, 29503, 35587]) # invalid input in cols id & imdb_id"
   ]
  },
  {
   "cell_type": "code",
   "execution_count": 29,
   "metadata": {
    "collapsed": true
   },
   "outputs": [],
   "source": [
    "df_md['id'] = df_md['id'].astype('int')\n",
    "df_keywords['id'] = df_keywords['id'].astype('int')\n",
    "df_credits['id'] = df_credits['id'].astype('int')"
   ]
  },
  {
   "cell_type": "code",
   "execution_count": 30,
   "metadata": {
    "collapsed": true
   },
   "outputs": [],
   "source": [
    "df_md_small = ( df_md[ df_md['id'].isin(df_link)].\n",
    "               merge(df_credits, on='id').\n",
    "               merge(df_keywords, on='id').\n",
    "               reset_index() )\n",
    "df_md_so = df_md_small"
   ]
  },
  {
   "cell_type": "code",
   "execution_count": 31,
   "metadata": {
    "collapsed": true
   },
   "outputs": [],
   "source": [
    "df_md_small['director'] = ( df_md_small['crew'].\n",
    "                           apply(ast.literal_eval).\n",
    "                           apply(getdirector).astype('str').\n",
    "                           apply( lambda x: x.lower().replace( \" \", \"\") ).\n",
    "                           apply( lambda x: [x]) ) #more weights"
   ]
  },
  {
   "cell_type": "code",
   "execution_count": 32,
   "metadata": {
    "collapsed": true
   },
   "outputs": [],
   "source": [
    "df_md_small['cast'] = ( df_md_small['cast'].\n",
    "                       apply(ast.literal_eval).\n",
    "                       apply( lambda x: [i['name'] for i in x] if isinstance(x, list) else []).\n",
    "                       apply( lambda x: x[:3] if len(x) >=3 else x).\n",
    "                       apply( lambda x: [i.lower().replace( \" \", \"\") for i in x ]) )"
   ]
  },
  {
   "cell_type": "code",
   "execution_count": 33,
   "metadata": {
    "collapsed": true
   },
   "outputs": [],
   "source": [
    "df_md_small['keywords'] = ( df_md_small['keywords'].\n",
    "                           apply(ast.literal_eval).\n",
    "                           apply( lambda x: [i['name'] for i in x] if isinstance(x, list) else []).\n",
    "                           apply( lambda x: [SnowballStemmer( 'english' ).stem( i ) for i in x]).\n",
    "                           apply( lambda x: [i.lower().replace( \" \", \"\") for i in x ]) )"
   ]
  },
  {
   "cell_type": "code",
   "execution_count": 34,
   "metadata": {
    "collapsed": true
   },
   "outputs": [],
   "source": [
    "df_md_small['content'] = ( df_md_small['cast'] +\n",
    "                          df_md_small['director'] +\n",
    "                          df_md_small['keywords'] +\n",
    "                          df_md_small['genres'] ).apply( lambda x: ' '.join( x ) ) # combine all content features"
   ]
  },
  {
   "cell_type": "code",
   "execution_count": 35,
   "metadata": {
    "collapsed": true
   },
   "outputs": [],
   "source": [
    "content_matrix = CountVectorizer(\n",
    "    analyzer = 'word',\n",
    "    ngram_range = (1, 2),\n",
    "    min_df = 0,\n",
    "    stop_words = 'english').fit_transform(df_md_small['content'])\n",
    "cosine_sim = cosine_similarity(content_matrix, content_matrix)"
   ]
  },
  {
   "cell_type": "code",
   "execution_count": 36,
   "metadata": {},
   "outputs": [
    {
     "data": {
      "text/plain": [
       "array([[ 1.        ,  0.03456506,  0.03919309, ...,  0.        ,\n",
       "         0.        ,  0.        ],\n",
       "       [ 0.03456506,  1.        ,  0.        , ...,  0.046676  ,\n",
       "         0.03456506,  0.        ],\n",
       "       [ 0.03919309,  0.        ,  1.        , ...,  0.05292561,\n",
       "         0.        ,  0.        ],\n",
       "       ..., \n",
       "       [ 0.        ,  0.046676  ,  0.05292561, ...,  1.        ,\n",
       "         0.13068205,  0.        ],\n",
       "       [ 0.        ,  0.03456506,  0.        , ...,  0.13068205,\n",
       "         1.        ,  0.        ],\n",
       "       [ 0.        ,  0.        ,  0.        , ...,  0.        ,\n",
       "         0.        ,  1.        ]])"
      ]
     },
     "execution_count": 36,
     "metadata": {},
     "output_type": "execute_result"
    }
   ],
   "source": [
    "cosine_sim"
   ]
  },
  {
   "cell_type": "code",
   "execution_count": 37,
   "metadata": {},
   "outputs": [
    {
     "data": {
      "text/plain": [
       "994                             The Godfather: Part II\n",
       "1602                           The Godfather: Part III\n",
       "4148                                       The Gambler\n",
       "5436                                          Mitchell\n",
       "1346                                     The Rainmaker\n",
       "3705                                   The Cotton Club\n",
       "1765                                 The Paradine Case\n",
       "146                                      Feast of July\n",
       "284                           The Shawshank Redemption\n",
       "2742                            ...And Justice for All\n",
       "7464    The Bad Lieutenant: Port of Call - New Orleans\n",
       "1412                                     Men with Guns\n",
       "4663                                 Love the Hard Way\n",
       "7698                   Wall Street: Money Never Sleeps\n",
       "2808                                  Midnight Express\n",
       "Name: title, dtype: object"
      ]
     },
     "execution_count": 37,
     "metadata": {},
     "output_type": "execute_result"
    }
   ],
   "source": [
    "getrecommendations( 'The Godfather', cosine_sim, df_md_small ).head(15)"
   ]
  },
  {
   "cell_type": "code",
   "execution_count": 38,
   "metadata": {},
   "outputs": [
    {
     "data": {
      "text/html": [
       "<div>\n",
       "<style>\n",
       "    .dataframe thead tr:only-child th {\n",
       "        text-align: right;\n",
       "    }\n",
       "\n",
       "    .dataframe thead th {\n",
       "        text-align: left;\n",
       "    }\n",
       "\n",
       "    .dataframe tbody tr th {\n",
       "        vertical-align: top;\n",
       "    }\n",
       "</style>\n",
       "<table border=\"1\" class=\"dataframe\">\n",
       "  <thead>\n",
       "    <tr style=\"text-align: right;\">\n",
       "      <th></th>\n",
       "      <th>title</th>\n",
       "      <th>genres</th>\n",
       "      <th>keywords</th>\n",
       "      <th>director</th>\n",
       "      <th>cast</th>\n",
       "    </tr>\n",
       "  </thead>\n",
       "  <tbody>\n",
       "    <tr>\n",
       "      <th>994</th>\n",
       "      <td>The Godfather: Part II</td>\n",
       "      <td>[Drama, Crime]</td>\n",
       "      <td>[italo-american, cuba, vorort, melancholi, pra...</td>\n",
       "      <td>[francisfordcoppola]</td>\n",
       "      <td>[alpacino, robertduvall, dianekeaton]</td>\n",
       "    </tr>\n",
       "    <tr>\n",
       "      <th>1602</th>\n",
       "      <td>The Godfather: Part III</td>\n",
       "      <td>[Crime, Drama, Thriller]</td>\n",
       "      <td>[itali, christian, newyork, assassin, italo-am...</td>\n",
       "      <td>[francisfordcoppola]</td>\n",
       "      <td>[alpacino, dianekeaton, andygarcía]</td>\n",
       "    </tr>\n",
       "    <tr>\n",
       "      <th>4148</th>\n",
       "      <td>The Gambler</td>\n",
       "      <td>[Drama, Crime]</td>\n",
       "      <td>[gambl, professor, mafia, money, debt]</td>\n",
       "      <td>[karelreisz]</td>\n",
       "      <td>[jamescaan, paulsorvino, laurenhutton]</td>\n",
       "    </tr>\n",
       "    <tr>\n",
       "      <th>5436</th>\n",
       "      <td>Mitchell</td>\n",
       "      <td>[Crime, Drama, Action]</td>\n",
       "      <td>[drama, crime]</td>\n",
       "      <td>[andrewv.mclaglen]</td>\n",
       "      <td>[joedonbaker, martinbalsam, johnsaxon]</td>\n",
       "    </tr>\n",
       "    <tr>\n",
       "      <th>3705</th>\n",
       "      <td>The Cotton Club</td>\n",
       "      <td>[Music, Drama, Crime, Romance]</td>\n",
       "      <td>[jazz, jazzmusician, music, mafia]</td>\n",
       "      <td>[francisfordcoppola]</td>\n",
       "      <td>[richardgere, gregoryhines, dianelane]</td>\n",
       "    </tr>\n",
       "    <tr>\n",
       "      <th>1346</th>\n",
       "      <td>The Rainmaker</td>\n",
       "      <td>[Drama, Crime, Thriller]</td>\n",
       "      <td>[juror, proof, courtcas, leukemia, lawyer, cou...</td>\n",
       "      <td>[francisfordcoppola]</td>\n",
       "      <td>[mattdamon, dannydevito, jonvoight]</td>\n",
       "    </tr>\n",
       "    <tr>\n",
       "      <th>1765</th>\n",
       "      <td>The Paradine Case</td>\n",
       "      <td>[Drama, Crime, Thriller]</td>\n",
       "      <td>[femmefatal, lawyer]</td>\n",
       "      <td>[alfredhitchcock]</td>\n",
       "      <td>[gregorypeck, anntodd, charleslaughton]</td>\n",
       "    </tr>\n",
       "    <tr>\n",
       "      <th>146</th>\n",
       "      <td>Feast of July</td>\n",
       "      <td>[Drama, Crime]</td>\n",
       "      <td>[]</td>\n",
       "      <td>[christophermenaul]</td>\n",
       "      <td>[embethdavidtz, tombell, gemmajones]</td>\n",
       "    </tr>\n",
       "    <tr>\n",
       "      <th>284</th>\n",
       "      <td>The Shawshank Redemption</td>\n",
       "      <td>[Drama, Crime]</td>\n",
       "      <td>[prison, corrupt, policebrut, prisoncel, delin...</td>\n",
       "      <td>[frankdarabont]</td>\n",
       "      <td>[timrobbins, morganfreeman, bobgunton]</td>\n",
       "    </tr>\n",
       "    <tr>\n",
       "      <th>2742</th>\n",
       "      <td>...And Justice for All</td>\n",
       "      <td>[Crime, Drama, Mystery, Thriller]</td>\n",
       "      <td>[suspens, lawyer, courtroom, extramaritalaffair]</td>\n",
       "      <td>[normanjewison]</td>\n",
       "      <td>[alpacino, jackwarden, johnforsythe]</td>\n",
       "    </tr>\n",
       "    <tr>\n",
       "      <th>7464</th>\n",
       "      <td>The Bad Lieutenant: Port of Call - New Orleans</td>\n",
       "      <td>[Drama, Crime]</td>\n",
       "      <td>[policebrut, organizedcrim, policeman, illegal...</td>\n",
       "      <td>[wernerherzog]</td>\n",
       "      <td>[nicolascage, evamendes, valkilmer]</td>\n",
       "    </tr>\n",
       "    <tr>\n",
       "      <th>7698</th>\n",
       "      <td>Wall Street: Money Never Sleeps</td>\n",
       "      <td>[Drama, Crime]</td>\n",
       "      <td>[duringcreditssting]</td>\n",
       "      <td>[oliverstone]</td>\n",
       "      <td>[michaeldouglas, shialabeouf, joshbrolin]</td>\n",
       "    </tr>\n",
       "    <tr>\n",
       "      <th>4663</th>\n",
       "      <td>Love the Hard Way</td>\n",
       "      <td>[Romance, Drama, Crime]</td>\n",
       "      <td>[]</td>\n",
       "      <td>[petersehr]</td>\n",
       "      <td>[adrienbrody, charlotteayanna, jonseda]</td>\n",
       "    </tr>\n",
       "    <tr>\n",
       "      <th>1412</th>\n",
       "      <td>Men with Guns</td>\n",
       "      <td>[Drama, Crime]</td>\n",
       "      <td>[womandirector]</td>\n",
       "      <td>[kariskogland]</td>\n",
       "      <td>[donallogue, maxperlich, paulsorvino]</td>\n",
       "    </tr>\n",
       "    <tr>\n",
       "      <th>2808</th>\n",
       "      <td>Midnight Express</td>\n",
       "      <td>[Drama, Crime]</td>\n",
       "      <td>[prison, drugsmuggl, attempttoescap, escap, la...</td>\n",
       "      <td>[alanparker]</td>\n",
       "      <td>[braddavis, irenemiracle, bohopkins]</td>\n",
       "    </tr>\n",
       "  </tbody>\n",
       "</table>\n",
       "</div>"
      ],
      "text/plain": [
       "                                               title  \\\n",
       "994                           The Godfather: Part II   \n",
       "1602                         The Godfather: Part III   \n",
       "4148                                     The Gambler   \n",
       "5436                                        Mitchell   \n",
       "3705                                 The Cotton Club   \n",
       "1346                                   The Rainmaker   \n",
       "1765                               The Paradine Case   \n",
       "146                                    Feast of July   \n",
       "284                         The Shawshank Redemption   \n",
       "2742                          ...And Justice for All   \n",
       "7464  The Bad Lieutenant: Port of Call - New Orleans   \n",
       "7698                 Wall Street: Money Never Sleeps   \n",
       "4663                               Love the Hard Way   \n",
       "1412                                   Men with Guns   \n",
       "2808                                Midnight Express   \n",
       "\n",
       "                                 genres  \\\n",
       "994                      [Drama, Crime]   \n",
       "1602           [Crime, Drama, Thriller]   \n",
       "4148                     [Drama, Crime]   \n",
       "5436             [Crime, Drama, Action]   \n",
       "3705     [Music, Drama, Crime, Romance]   \n",
       "1346           [Drama, Crime, Thriller]   \n",
       "1765           [Drama, Crime, Thriller]   \n",
       "146                      [Drama, Crime]   \n",
       "284                      [Drama, Crime]   \n",
       "2742  [Crime, Drama, Mystery, Thriller]   \n",
       "7464                     [Drama, Crime]   \n",
       "7698                     [Drama, Crime]   \n",
       "4663            [Romance, Drama, Crime]   \n",
       "1412                     [Drama, Crime]   \n",
       "2808                     [Drama, Crime]   \n",
       "\n",
       "                                               keywords              director  \\\n",
       "994   [italo-american, cuba, vorort, melancholi, pra...  [francisfordcoppola]   \n",
       "1602  [itali, christian, newyork, assassin, italo-am...  [francisfordcoppola]   \n",
       "4148             [gambl, professor, mafia, money, debt]          [karelreisz]   \n",
       "5436                                     [drama, crime]    [andrewv.mclaglen]   \n",
       "3705                 [jazz, jazzmusician, music, mafia]  [francisfordcoppola]   \n",
       "1346  [juror, proof, courtcas, leukemia, lawyer, cou...  [francisfordcoppola]   \n",
       "1765                               [femmefatal, lawyer]     [alfredhitchcock]   \n",
       "146                                                  []   [christophermenaul]   \n",
       "284   [prison, corrupt, policebrut, prisoncel, delin...       [frankdarabont]   \n",
       "2742   [suspens, lawyer, courtroom, extramaritalaffair]       [normanjewison]   \n",
       "7464  [policebrut, organizedcrim, policeman, illegal...        [wernerherzog]   \n",
       "7698                               [duringcreditssting]         [oliverstone]   \n",
       "4663                                                 []           [petersehr]   \n",
       "1412                                    [womandirector]        [kariskogland]   \n",
       "2808  [prison, drugsmuggl, attempttoescap, escap, la...          [alanparker]   \n",
       "\n",
       "                                           cast  \n",
       "994       [alpacino, robertduvall, dianekeaton]  \n",
       "1602        [alpacino, dianekeaton, andygarcía]  \n",
       "4148     [jamescaan, paulsorvino, laurenhutton]  \n",
       "5436     [joedonbaker, martinbalsam, johnsaxon]  \n",
       "3705     [richardgere, gregoryhines, dianelane]  \n",
       "1346        [mattdamon, dannydevito, jonvoight]  \n",
       "1765    [gregorypeck, anntodd, charleslaughton]  \n",
       "146        [embethdavidtz, tombell, gemmajones]  \n",
       "284      [timrobbins, morganfreeman, bobgunton]  \n",
       "2742       [alpacino, jackwarden, johnforsythe]  \n",
       "7464        [nicolascage, evamendes, valkilmer]  \n",
       "7698  [michaeldouglas, shialabeouf, joshbrolin]  \n",
       "4663    [adrienbrody, charlotteayanna, jonseda]  \n",
       "1412      [donallogue, maxperlich, paulsorvino]  \n",
       "2808       [braddavis, irenemiracle, bohopkins]  "
      ]
     },
     "execution_count": 38,
     "metadata": {},
     "output_type": "execute_result"
    }
   ],
   "source": [
    "getrecommendation( 'The Godfather', cosine_sim, df_md_so ).head(15)"
   ]
  }
 ],
 "metadata": {
  "kernelspec": {
   "display_name": "Python 3",
   "language": "python",
   "name": "python3"
  },
  "language_info": {
   "codemirror_mode": {
    "name": "ipython",
    "version": 3
   },
   "file_extension": ".py",
   "mimetype": "text/x-python",
   "name": "python",
   "nbconvert_exporter": "python",
   "pygments_lexer": "ipython3",
   "version": "3.6.2"
  }
 },
 "nbformat": 4,
 "nbformat_minor": 2
}
