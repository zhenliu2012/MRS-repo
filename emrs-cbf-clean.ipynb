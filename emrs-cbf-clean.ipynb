{
 "cells": [
  {
   "cell_type": "code",
   "execution_count": 60,
   "metadata": {
    "collapsed": true
   },
   "outputs": [],
   "source": [
    "import pandas as pd\n",
    "import ast\n",
    "from sklearn.feature_extraction.text import TfidfVectorizer, CountVectorizer\n",
    "from sklearn.metrics.pairwise import linear_kernel, cosine_similarity\n",
    "from nltk.stem.snowball import SnowballStemmer #porterstemmer?\n",
    "import numpy as np"
   ]
  },
  {
   "cell_type": "code",
   "execution_count": 61,
   "metadata": {
    "collapsed": true
   },
   "outputs": [],
   "source": [
    "def getdirector( crew ):\n",
    "    for i in crew:\n",
    "        if i['job'] == 'Director':\n",
    "            return i['name']\n",
    "    return np.nan"
   ]
  },
  {
   "cell_type": "code",
   "execution_count": 62,
   "metadata": {
    "collapsed": true
   },
   "outputs": [],
   "source": [
    "def getrecommendation( movie_title, sim_matrix, df, perc = 0.80 ):\n",
    "    \"\"\" \n",
    "    the similarity matrix and data frame MUST have the same indices\n",
    "    MAKE SURE: df.reset_index()\n",
    "    \n",
    "    imdb weighted rating:\n",
    "    v is the number of votes for the movie\n",
    "    m is the minimum votes required to be listed in the chart\n",
    "    R is the average rating of the movie\n",
    "    C is the mean vote across the whole report\n",
    "    \"\"\"\n",
    "    idx = np.asscalar( df.loc[ df['title'] == movie_title ].index.values[0] )\n",
    "    sim_idx = sim_matrix[ idx ].argsort()[::-1][1:41].flatten().tolist()\n",
    "    df_top = df[ ['title','director','cast','genres','keywords','vote_count', 'vote_average']].iloc[ sim_idx ]\n",
    "    df_top['similarity'] = sorted( sim_matrix[ idx ], reverse = True )[1:41]\n",
    "\n",
    "    m = df_top.loc[ df_top['vote_count'].notnull(), 'vote_count' ].quantile(0.5)\n",
    "    C = df_top.loc[ df_top['vote_average'].notnull(), 'vote_average' ].mean()\n",
    "    \n",
    "    df_top = df_top.loc[( df_top['vote_count'] >= m ) &\n",
    "                          ( df_top['vote_count'].notnull() ) &\n",
    "                          ( df_top['vote_average'].notnull() ) ]    \n",
    "    v = df_top['vote_count'].values\n",
    "    R = df_top['vote_average'].values\n",
    "    r =  ( v * R / ( v + m ) + m * C / ( v + m ) ) / 10. * ( 1 - perc )\n",
    "#    r = df_top['vote_average'].values / 10 * ( 1 - perc )\n",
    "    sim_ = df_top['similarity'].values * perc\n",
    "    score = sim_ + r \n",
    "    df_top['score'] = score.tolist()\n",
    "    return( df_top.sort_values( by='score', ascending=False ) )"
   ]
  },
  {
   "cell_type": "code",
   "execution_count": 63,
   "metadata": {
    "collapsed": true
   },
   "outputs": [],
   "source": [
    "df_md_small = pd.read_csv('../movielens_small/metadata_clean.csv')"
   ]
  },
  {
   "cell_type": "code",
   "execution_count": 64,
   "metadata": {
    "collapsed": true
   },
   "outputs": [],
   "source": [
    "df_md_small['genres'] = df_md_small['genres'].apply(ast.literal_eval)\n",
    "df_md_small['cast'] = df_md_small['cast'].apply(ast.literal_eval)\n",
    "df_md_small['keywords'] = df_md_small['keywords'].apply(ast.literal_eval)"
   ]
  },
  {
   "cell_type": "code",
   "execution_count": 65,
   "metadata": {
    "collapsed": true
   },
   "outputs": [],
   "source": [
    "df_md_small['director_'] = ( df_md_small['director'].\n",
    "                            astype(str).\n",
    "                            apply( lambda x: x.lower().replace( \" \", \"\") ).\n",
    "                            apply( lambda x: [x]) ) # more weights?"
   ]
  },
  {
   "cell_type": "code",
   "execution_count": 66,
   "metadata": {
    "collapsed": true
   },
   "outputs": [],
   "source": [
    "df_md_small['cast_'] = ( df_md_small['cast'].\n",
    "                        apply( lambda x: [i.lower().replace( \" \", \"\") for i in x ]) )"
   ]
  },
  {
   "cell_type": "code",
   "execution_count": 67,
   "metadata": {
    "collapsed": true
   },
   "outputs": [],
   "source": [
    "df_md_small['keywords_'] = ( df_md_small['keywords'].\n",
    "                            apply( lambda x: [SnowballStemmer( 'english' ).stem( i ) for i in x]).\n",
    "                            apply( lambda x: [i.lower().replace( \" \", \"\") for i in x ]) )"
   ]
  },
  {
   "cell_type": "code",
   "execution_count": 68,
   "metadata": {
    "collapsed": true
   },
   "outputs": [],
   "source": [
    "df_md_small['content'] = ( df_md_small['cast_'] +\n",
    "                          df_md_small['director_'] +\n",
    "                          df_md_small['keywords_'] +\n",
    "                          df_md_small['genres'] ).apply( lambda x: ' '.join( x ) ) # combine all content features"
   ]
  },
  {
   "cell_type": "code",
   "execution_count": 69,
   "metadata": {
    "collapsed": true
   },
   "outputs": [],
   "source": [
    "content_matrix = CountVectorizer(\n",
    "    analyzer = 'word',\n",
    "    ngram_range = (1, 2),\n",
    "    min_df = 0,\n",
    "    stop_words = 'english').fit_transform(df_md_small['content'])\n",
    "cosine_sim = cosine_similarity(content_matrix, content_matrix)"
   ]
  },
  {
   "cell_type": "code",
   "execution_count": 72,
   "metadata": {
    "collapsed": true
   },
   "outputs": [],
   "source": [
    "getrecommendation( 'The Godfather', cosine_sim, df_md_small ).head(15)"
   ]
  },
  {
   "cell_type": "code",
   "execution_count": 73,
   "metadata": {
    "collapsed": true
   },
   "outputs": [],
   "source": [
    "#getrecommendation( 'Batman', cosine_sim, df_md_small ).head(15)"
   ]
  }
 ],
 "metadata": {
  "kernelspec": {
   "display_name": "Python 3",
   "language": "python",
   "name": "python3"
  },
  "language_info": {
   "codemirror_mode": {
    "name": "ipython",
    "version": 3
   },
   "file_extension": ".py",
   "mimetype": "text/x-python",
   "name": "python",
   "nbconvert_exporter": "python",
   "pygments_lexer": "ipython3",
   "version": "3.6.2"
  }
 },
 "nbformat": 4,
 "nbformat_minor": 2
}
