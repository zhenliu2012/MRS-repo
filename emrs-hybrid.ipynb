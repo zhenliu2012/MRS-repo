{
 "cells": [
  {
   "cell_type": "code",
   "execution_count": 92,
   "metadata": {
    "collapsed": true
   },
   "outputs": [],
   "source": [
    "import pandas as pd\n",
    "import ast\n",
    "from sklearn.feature_extraction.text import CountVectorizer\n",
    "from sklearn.metrics.pairwise import cosine_similarity\n",
    "from nltk.stem.snowball import SnowballStemmer #porterstemmer?\n",
    "import numpy as np\n",
    "from scipy.sparse.linalg import svds"
   ]
  },
  {
   "cell_type": "code",
   "execution_count": 93,
   "metadata": {
    "collapsed": true
   },
   "outputs": [],
   "source": [
    "def getratingmat( df_rating ):\n",
    "    df = df_rating.pivot(index='movieId', columns='userId', values='rating').fillna(0)\n",
    "    df.index.name = 'Movie ID'\n",
    "    df.columns.name = 'User ID'\n",
    "    Y = df.as_matrix()\n",
    "    R = ( Y > 0. ).astype(int)\n",
    "    return( df, Y, R );\n",
    "\n",
    "def normalizeratings2( Y, R ):\n",
    "    Y_sum = np.sum( Y, axis = 0 )\n",
    "    R_sum = np.sum( R, axis = 0 )\n",
    "    Y_mean = Y_sum / R_sum\n",
    "    Y_norm = np.zeros( Y.shape )\n",
    "    for i in range( Y.shape[1] ):\n",
    "        j = np.where( R[:,i] == 1 )\n",
    "        Y_norm[j,i] = Y[j,i] - Y_mean[i]       \n",
    "    return( Y_norm, Y_mean );"
   ]
  },
  {
   "cell_type": "code",
   "execution_count": 94,
   "metadata": {
    "collapsed": true
   },
   "outputs": [],
   "source": [
    "df_md_small = pd.read_csv('../movielens_small/metadata_clean.csv')\n",
    "df_small = pd.read_csv('../movielens_small/ratings_clean.csv')"
   ]
  },
  {
   "cell_type": "code",
   "execution_count": 95,
   "metadata": {
    "collapsed": true
   },
   "outputs": [],
   "source": [
    "df_md_small['genres'] = df_md_small['genres'].apply(ast.literal_eval)\n",
    "df_md_small['cast'] = df_md_small['cast'].apply(ast.literal_eval)\n",
    "df_md_small['keywords'] = df_md_small['keywords'].apply(ast.literal_eval)"
   ]
  },
  {
   "cell_type": "code",
   "execution_count": 96,
   "metadata": {
    "collapsed": true
   },
   "outputs": [],
   "source": [
    "df_md_small['director_'] = ( df_md_small['director'].\n",
    "                            astype(str).\n",
    "                            apply( lambda x: x.lower().replace( \" \", \"\") ).\n",
    "                            apply( lambda x: [x, x]) ) # more weights?"
   ]
  },
  {
   "cell_type": "code",
   "execution_count": 97,
   "metadata": {
    "collapsed": true
   },
   "outputs": [],
   "source": [
    "df_md_small['cast_'] = ( df_md_small['cast'].\n",
    "                        apply( lambda x: [i.lower().replace( \" \", \"\") for i in x ]) )"
   ]
  },
  {
   "cell_type": "code",
   "execution_count": 98,
   "metadata": {
    "collapsed": true
   },
   "outputs": [],
   "source": [
    "df_md_small['keywords_'] = ( df_md_small['keywords'].\n",
    "                            apply( lambda x: [SnowballStemmer( 'english' ).stem( i ) for i in x]).\n",
    "                            apply( lambda x: [i.lower().replace( \" \", \"\") for i in x ]) )"
   ]
  },
  {
   "cell_type": "code",
   "execution_count": 99,
   "metadata": {
    "collapsed": true
   },
   "outputs": [],
   "source": [
    "df_md_small['content'] = ( df_md_small['cast_'] +\n",
    "                          df_md_small['director_'] +\n",
    "                          df_md_small['keywords_'] +\n",
    "                          df_md_small['genres'] ).apply( lambda x: ' '.join( x ) ) # combine all content features"
   ]
  },
  {
   "cell_type": "code",
   "execution_count": 100,
   "metadata": {},
   "outputs": [
    {
     "data": {
      "text/html": [
       "<div>\n",
       "<style>\n",
       "    .dataframe thead tr:only-child th {\n",
       "        text-align: right;\n",
       "    }\n",
       "\n",
       "    .dataframe thead th {\n",
       "        text-align: left;\n",
       "    }\n",
       "\n",
       "    .dataframe tbody tr th {\n",
       "        vertical-align: top;\n",
       "    }\n",
       "</style>\n",
       "<table border=\"1\" class=\"dataframe\">\n",
       "  <thead>\n",
       "    <tr style=\"text-align: right;\">\n",
       "      <th></th>\n",
       "      <th>index</th>\n",
       "      <th>movieId</th>\n",
       "      <th>tmdbId</th>\n",
       "      <th>title</th>\n",
       "      <th>vote_average</th>\n",
       "      <th>vote_count</th>\n",
       "      <th>cast</th>\n",
       "      <th>director</th>\n",
       "      <th>keywords</th>\n",
       "      <th>genres</th>\n",
       "      <th>director_</th>\n",
       "      <th>cast_</th>\n",
       "      <th>keywords_</th>\n",
       "      <th>content</th>\n",
       "    </tr>\n",
       "  </thead>\n",
       "  <tbody>\n",
       "    <tr>\n",
       "      <th>0</th>\n",
       "      <td>0</td>\n",
       "      <td>1</td>\n",
       "      <td>862</td>\n",
       "      <td>Toy Story</td>\n",
       "      <td>7.7</td>\n",
       "      <td>5415</td>\n",
       "      <td>[Tom Hanks, Tim Allen, Don Rickles, Jim Varney...</td>\n",
       "      <td>John Lasseter</td>\n",
       "      <td>[jealousy, toy, boy, friendship, friends, riva...</td>\n",
       "      <td>[Animation, Comedy, Family]</td>\n",
       "      <td>[johnlasseter, johnlasseter]</td>\n",
       "      <td>[tomhanks, timallen, donrickles, jimvarney, wa...</td>\n",
       "      <td>[jealousi, toy, boy, friendship, friend, rival...</td>\n",
       "      <td>tomhanks timallen donrickles jimvarney wallace...</td>\n",
       "    </tr>\n",
       "    <tr>\n",
       "      <th>1</th>\n",
       "      <td>1</td>\n",
       "      <td>2</td>\n",
       "      <td>8844</td>\n",
       "      <td>Jumanji</td>\n",
       "      <td>6.9</td>\n",
       "      <td>2413</td>\n",
       "      <td>[Robin Williams, Jonathan Hyde, Kirsten Dunst,...</td>\n",
       "      <td>Joe Johnston</td>\n",
       "      <td>[board game, disappearance, based on children'...</td>\n",
       "      <td>[Adventure, Fantasy, Family]</td>\n",
       "      <td>[joejohnston, joejohnston]</td>\n",
       "      <td>[robinwilliams, jonathanhyde, kirstendunst, br...</td>\n",
       "      <td>[boardgam, disappear, basedonchildren'sbook, n...</td>\n",
       "      <td>robinwilliams jonathanhyde kirstendunst bradle...</td>\n",
       "    </tr>\n",
       "    <tr>\n",
       "      <th>2</th>\n",
       "      <td>2</td>\n",
       "      <td>3</td>\n",
       "      <td>15602</td>\n",
       "      <td>Grumpier Old Men</td>\n",
       "      <td>6.5</td>\n",
       "      <td>92</td>\n",
       "      <td>[Walter Matthau, Jack Lemmon, Ann-Margret, Sop...</td>\n",
       "      <td>Howard Deutch</td>\n",
       "      <td>[fishing, best friend, duringcreditsstinger, o...</td>\n",
       "      <td>[Romance, Comedy]</td>\n",
       "      <td>[howarddeutch, howarddeutch]</td>\n",
       "      <td>[waltermatthau, jacklemmon, ann-margret, sophi...</td>\n",
       "      <td>[fish, bestfriend, duringcreditssting, oldmen]</td>\n",
       "      <td>waltermatthau jacklemmon ann-margret sophialor...</td>\n",
       "    </tr>\n",
       "    <tr>\n",
       "      <th>3</th>\n",
       "      <td>3</td>\n",
       "      <td>4</td>\n",
       "      <td>31357</td>\n",
       "      <td>Waiting to Exhale</td>\n",
       "      <td>6.1</td>\n",
       "      <td>34</td>\n",
       "      <td>[Whitney Houston, Angela Bassett, Loretta Devi...</td>\n",
       "      <td>Forest Whitaker</td>\n",
       "      <td>[based on novel, interracial relationship, sin...</td>\n",
       "      <td>[Comedy, Drama, Romance]</td>\n",
       "      <td>[forestwhitaker, forestwhitaker]</td>\n",
       "      <td>[whitneyhouston, angelabassett, lorettadevine,...</td>\n",
       "      <td>[basedonnovel, interracialrelationship, single...</td>\n",
       "      <td>whitneyhouston angelabassett lorettadevine lel...</td>\n",
       "    </tr>\n",
       "    <tr>\n",
       "      <th>4</th>\n",
       "      <td>4</td>\n",
       "      <td>5</td>\n",
       "      <td>11862</td>\n",
       "      <td>Father of the Bride Part II</td>\n",
       "      <td>5.7</td>\n",
       "      <td>173</td>\n",
       "      <td>[Steve Martin, Diane Keaton, Martin Short, Kim...</td>\n",
       "      <td>Charles Shyer</td>\n",
       "      <td>[baby, midlife crisis, confidence, aging, daug...</td>\n",
       "      <td>[Comedy]</td>\n",
       "      <td>[charlesshyer, charlesshyer]</td>\n",
       "      <td>[stevemartin, dianekeaton, martinshort, kimber...</td>\n",
       "      <td>[babi, midlifecrisi, confid, age, daughter, mo...</td>\n",
       "      <td>stevemartin dianekeaton martinshort kimberlywi...</td>\n",
       "    </tr>\n",
       "  </tbody>\n",
       "</table>\n",
       "</div>"
      ],
      "text/plain": [
       "   index  movieId  tmdbId                        title  vote_average  \\\n",
       "0      0        1     862                    Toy Story           7.7   \n",
       "1      1        2    8844                      Jumanji           6.9   \n",
       "2      2        3   15602             Grumpier Old Men           6.5   \n",
       "3      3        4   31357            Waiting to Exhale           6.1   \n",
       "4      4        5   11862  Father of the Bride Part II           5.7   \n",
       "\n",
       "   vote_count                                               cast  \\\n",
       "0        5415  [Tom Hanks, Tim Allen, Don Rickles, Jim Varney...   \n",
       "1        2413  [Robin Williams, Jonathan Hyde, Kirsten Dunst,...   \n",
       "2          92  [Walter Matthau, Jack Lemmon, Ann-Margret, Sop...   \n",
       "3          34  [Whitney Houston, Angela Bassett, Loretta Devi...   \n",
       "4         173  [Steve Martin, Diane Keaton, Martin Short, Kim...   \n",
       "\n",
       "          director                                           keywords  \\\n",
       "0    John Lasseter  [jealousy, toy, boy, friendship, friends, riva...   \n",
       "1     Joe Johnston  [board game, disappearance, based on children'...   \n",
       "2    Howard Deutch  [fishing, best friend, duringcreditsstinger, o...   \n",
       "3  Forest Whitaker  [based on novel, interracial relationship, sin...   \n",
       "4    Charles Shyer  [baby, midlife crisis, confidence, aging, daug...   \n",
       "\n",
       "                         genres                         director_  \\\n",
       "0   [Animation, Comedy, Family]      [johnlasseter, johnlasseter]   \n",
       "1  [Adventure, Fantasy, Family]        [joejohnston, joejohnston]   \n",
       "2             [Romance, Comedy]      [howarddeutch, howarddeutch]   \n",
       "3      [Comedy, Drama, Romance]  [forestwhitaker, forestwhitaker]   \n",
       "4                      [Comedy]      [charlesshyer, charlesshyer]   \n",
       "\n",
       "                                               cast_  \\\n",
       "0  [tomhanks, timallen, donrickles, jimvarney, wa...   \n",
       "1  [robinwilliams, jonathanhyde, kirstendunst, br...   \n",
       "2  [waltermatthau, jacklemmon, ann-margret, sophi...   \n",
       "3  [whitneyhouston, angelabassett, lorettadevine,...   \n",
       "4  [stevemartin, dianekeaton, martinshort, kimber...   \n",
       "\n",
       "                                           keywords_  \\\n",
       "0  [jealousi, toy, boy, friendship, friend, rival...   \n",
       "1  [boardgam, disappear, basedonchildren'sbook, n...   \n",
       "2     [fish, bestfriend, duringcreditssting, oldmen]   \n",
       "3  [basedonnovel, interracialrelationship, single...   \n",
       "4  [babi, midlifecrisi, confid, age, daughter, mo...   \n",
       "\n",
       "                                             content  \n",
       "0  tomhanks timallen donrickles jimvarney wallace...  \n",
       "1  robinwilliams jonathanhyde kirstendunst bradle...  \n",
       "2  waltermatthau jacklemmon ann-margret sophialor...  \n",
       "3  whitneyhouston angelabassett lorettadevine lel...  \n",
       "4  stevemartin dianekeaton martinshort kimberlywi...  "
      ]
     },
     "execution_count": 100,
     "metadata": {},
     "output_type": "execute_result"
    }
   ],
   "source": [
    "df_md_small.head()"
   ]
  },
  {
   "cell_type": "code",
   "execution_count": 101,
   "metadata": {
    "collapsed": true
   },
   "outputs": [],
   "source": [
    "content_matrix = CountVectorizer(\n",
    "    analyzer = 'word',\n",
    "    ngram_range = (1, 2),\n",
    "    min_df = 0,\n",
    "    stop_words = 'english').fit_transform(df_md_small['content'])\n",
    "cosine_sim = cosine_similarity(content_matrix, content_matrix)"
   ]
  },
  {
   "cell_type": "code",
   "execution_count": 102,
   "metadata": {},
   "outputs": [
    {
     "data": {
      "text/plain": [
       "(9082, 9082)"
      ]
     },
     "execution_count": 102,
     "metadata": {},
     "output_type": "execute_result"
    }
   ],
   "source": [
    "cosine_sim.shape"
   ]
  },
  {
   "cell_type": "code",
   "execution_count": 103,
   "metadata": {
    "scrolled": true
   },
   "outputs": [],
   "source": [
    "df_ratings, Y, R = getratingmat( df_small )\n",
    "Y_norm, Y_mean = normalizeratings2( Y, R )"
   ]
  },
  {
   "cell_type": "code",
   "execution_count": 104,
   "metadata": {},
   "outputs": [],
   "source": [
    "U, sigma, Vt = svds(Y_norm, k = 50)\n",
    "sigma = np.diag(sigma)"
   ]
  },
  {
   "cell_type": "code",
   "execution_count": 105,
   "metadata": {
    "collapsed": true
   },
   "outputs": [],
   "source": [
    "all_user_predicted_ratings = np.dot(np.dot(U, sigma), Vt) + Y_mean"
   ]
  },
  {
   "cell_type": "code",
   "execution_count": 106,
   "metadata": {
    "collapsed": true
   },
   "outputs": [],
   "source": [
    "user_id = 50\n",
    "movie_title = 'Pulp Fiction'"
   ]
  },
  {
   "cell_type": "code",
   "execution_count": 107,
   "metadata": {
    "collapsed": true
   },
   "outputs": [],
   "source": [
    "df_svd_pred = pd.DataFrame(all_user_predicted_ratings, columns = df_ratings.columns, index = df_ratings.index)"
   ]
  },
  {
   "cell_type": "code",
   "execution_count": 108,
   "metadata": {},
   "outputs": [
    {
     "data": {
      "text/plain": [
       "(9025, 2)"
      ]
     },
     "execution_count": 108,
     "metadata": {},
     "output_type": "execute_result"
    }
   ],
   "source": [
    "df_userp = df_svd_pred[ user_id ].reset_index()\n",
    "df_userp.columns = [ 'movieId', 'svd_pred' ]\n",
    "df_userp.shape"
   ]
  },
  {
   "cell_type": "code",
   "execution_count": 109,
   "metadata": {},
   "outputs": [],
   "source": [
    "highest_svd = df_userp.sort_values('svd_pred', ascending = False ).reset_index( drop = True ).loc[0,'svd_pred']"
   ]
  },
  {
   "cell_type": "code",
   "execution_count": 110,
   "metadata": {},
   "outputs": [
    {
     "data": {
      "text/plain": [
       "(9082, 3)"
      ]
     },
     "execution_count": 110,
     "metadata": {},
     "output_type": "execute_result"
    }
   ],
   "source": [
    "idx = np.asscalar( df_md_small.loc[ df_md_small['title'] == movie_title ].index.values[0] )\n",
    "df_cbp = df_md_small[['movieId', 'title']].reset_index( drop = True )\n",
    "df_cbp[ 'sim' ] = cosine_sim[ idx ].flatten().tolist()\n",
    "df_cbp.shape"
   ]
  },
  {
   "cell_type": "code",
   "execution_count": 111,
   "metadata": {},
   "outputs": [],
   "source": [
    "highest_sim = df_cbp.sort_values('sim', ascending = False).head().reset_index( drop = True ).loc[1,'sim']"
   ]
  },
  {
   "cell_type": "code",
   "execution_count": 115,
   "metadata": {},
   "outputs": [
    {
     "data": {
      "text/html": [
       "<div>\n",
       "<style>\n",
       "    .dataframe thead tr:only-child th {\n",
       "        text-align: right;\n",
       "    }\n",
       "\n",
       "    .dataframe thead th {\n",
       "        text-align: left;\n",
       "    }\n",
       "\n",
       "    .dataframe tbody tr th {\n",
       "        vertical-align: top;\n",
       "    }\n",
       "</style>\n",
       "<table border=\"1\" class=\"dataframe\">\n",
       "  <thead>\n",
       "    <tr style=\"text-align: right;\">\n",
       "      <th></th>\n",
       "      <th>movieId</th>\n",
       "      <th>svd_pred</th>\n",
       "      <th>title</th>\n",
       "      <th>sim</th>\n",
       "      <th>score</th>\n",
       "    </tr>\n",
       "  </thead>\n",
       "  <tbody>\n",
       "    <tr>\n",
       "      <th>1360</th>\n",
       "      <td>1729</td>\n",
       "      <td>3.316758</td>\n",
       "      <td>Jackie Brown</td>\n",
       "      <td>0.201498</td>\n",
       "      <td>3.968442</td>\n",
       "    </tr>\n",
       "    <tr>\n",
       "      <th>8743</th>\n",
       "      <td>128360</td>\n",
       "      <td>3.279542</td>\n",
       "      <td>The Hateful Eight</td>\n",
       "      <td>0.186171</td>\n",
       "      <td>3.810439</td>\n",
       "    </tr>\n",
       "    <tr>\n",
       "      <th>5132</th>\n",
       "      <td>7438</td>\n",
       "      <td>3.246035</td>\n",
       "      <td>Kill Bill: Vol. 2</td>\n",
       "      <td>0.161591</td>\n",
       "      <td>3.574551</td>\n",
       "    </tr>\n",
       "    <tr>\n",
       "      <th>4700</th>\n",
       "      <td>6595</td>\n",
       "      <td>3.303196</td>\n",
       "      <td>S.W.A.T.</td>\n",
       "      <td>0.138343</td>\n",
       "      <td>3.410871</td>\n",
       "    </tr>\n",
       "    <tr>\n",
       "      <th>4532</th>\n",
       "      <td>6263</td>\n",
       "      <td>3.284950</td>\n",
       "      <td>Basic</td>\n",
       "      <td>0.138215</td>\n",
       "      <td>3.397554</td>\n",
       "    </tr>\n",
       "    <tr>\n",
       "      <th>8169</th>\n",
       "      <td>99114</td>\n",
       "      <td>3.294345</td>\n",
       "      <td>Django Unchained</td>\n",
       "      <td>0.133500</td>\n",
       "      <td>3.362894</td>\n",
       "    </tr>\n",
       "    <tr>\n",
       "      <th>6830</th>\n",
       "      <td>57401</td>\n",
       "      <td>3.287759</td>\n",
       "      <td>Cleaner</td>\n",
       "      <td>0.132453</td>\n",
       "      <td>3.349395</td>\n",
       "    </tr>\n",
       "    <tr>\n",
       "      <th>4837</th>\n",
       "      <td>6874</td>\n",
       "      <td>3.267465</td>\n",
       "      <td>Kill Bill: Vol. 1</td>\n",
       "      <td>0.129830</td>\n",
       "      <td>3.313040</td>\n",
       "    </tr>\n",
       "    <tr>\n",
       "      <th>231</th>\n",
       "      <td>259</td>\n",
       "      <td>3.283971</td>\n",
       "      <td>Kiss of Death</td>\n",
       "      <td>0.127453</td>\n",
       "      <td>3.303436</td>\n",
       "    </tr>\n",
       "    <tr>\n",
       "      <th>6995</th>\n",
       "      <td>61401</td>\n",
       "      <td>3.280374</td>\n",
       "      <td>The Spirit</td>\n",
       "      <td>0.124114</td>\n",
       "      <td>3.272033</td>\n",
       "    </tr>\n",
       "  </tbody>\n",
       "</table>\n",
       "</div>"
      ],
      "text/plain": [
       "      movieId  svd_pred              title       sim     score\n",
       "1360     1729  3.316758       Jackie Brown  0.201498  3.968442\n",
       "8743   128360  3.279542  The Hateful Eight  0.186171  3.810439\n",
       "5132     7438  3.246035  Kill Bill: Vol. 2  0.161591  3.574551\n",
       "4700     6595  3.303196           S.W.A.T.  0.138343  3.410871\n",
       "4532     6263  3.284950              Basic  0.138215  3.397554\n",
       "8169    99114  3.294345   Django Unchained  0.133500  3.362894\n",
       "6830    57401  3.287759            Cleaner  0.132453  3.349395\n",
       "4837     6874  3.267465  Kill Bill: Vol. 1  0.129830  3.313040\n",
       "231       259  3.283971      Kiss of Death  0.127453  3.303436\n",
       "6995    61401  3.280374         The Spirit  0.124114  3.272033"
      ]
     },
     "execution_count": 115,
     "metadata": {},
     "output_type": "execute_result"
    }
   ],
   "source": [
    "df_c = df_userp.merge( df_cbp, on = 'movieId' )\n",
    "df_c['score'] = df_c['svd_pred'] * ( 5 / highest_svd ) *0.5 + df_c[ 'sim'] * ( 3.5 / highest_sim ) * 0.5\n",
    "df_c.sort_values('score', ascending = False).iloc[1:11]"
   ]
  }
 ],
 "metadata": {
  "kernelspec": {
   "display_name": "Python 3",
   "language": "python",
   "name": "python3"
  },
  "language_info": {
   "codemirror_mode": {
    "name": "ipython",
    "version": 3
   },
   "file_extension": ".py",
   "mimetype": "text/x-python",
   "name": "python",
   "nbconvert_exporter": "python",
   "pygments_lexer": "ipython3",
   "version": "3.6.2"
  }
 },
 "nbformat": 4,
 "nbformat_minor": 2
}
