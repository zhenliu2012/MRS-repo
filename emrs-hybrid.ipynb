{
 "cells": [
  {
   "cell_type": "code",
   "execution_count": 155,
   "metadata": {
    "collapsed": true
   },
   "outputs": [],
   "source": [
    "import pandas as pd\n",
    "import ast\n",
    "from sklearn.feature_extraction.text import CountVectorizer\n",
    "from sklearn.metrics.pairwise import cosine_similarity\n",
    "from nltk.stem.snowball import SnowballStemmer #porterstemmer?\n",
    "import numpy as np\n",
    "from scipy.sparse.linalg import svds\n",
    "from scipy.stats import percentileofscore"
   ]
  },
  {
   "cell_type": "code",
   "execution_count": 156,
   "metadata": {
    "collapsed": true
   },
   "outputs": [],
   "source": [
    "def getratingmat( df_rating ):\n",
    "    df = df_rating.pivot(index='movieId', columns='userId', values='rating').fillna(0)\n",
    "    df.index.name = 'Movie ID'\n",
    "    df.columns.name = 'User ID'\n",
    "    Y = df.as_matrix()\n",
    "    R = ( Y > 0. ).astype(int)\n",
    "    return( df, Y, R );\n",
    "\n",
    "def normalizeratings2( Y, R ):\n",
    "    Y_sum = np.sum( Y, axis = 0 )\n",
    "    R_sum = np.sum( R, axis = 0 )\n",
    "    Y_mean = Y_sum / R_sum\n",
    "    Y_norm = np.zeros( Y.shape )\n",
    "    for i in range( Y.shape[1] ):\n",
    "        j = np.where( R[:,i] == 1 )\n",
    "        Y_norm[j,i] = Y[j,i] - Y_mean[i]       \n",
    "    return( Y_norm, Y_mean );"
   ]
  },
  {
   "cell_type": "code",
   "execution_count": 157,
   "metadata": {
    "collapsed": true
   },
   "outputs": [],
   "source": [
    "df_md_small = pd.read_csv('../movielens_small/metadata_clean.csv')\n",
    "df_small = pd.read_csv('../movielens_small/ratings_clean.csv')"
   ]
  },
  {
   "cell_type": "code",
   "execution_count": 158,
   "metadata": {
    "collapsed": true
   },
   "outputs": [],
   "source": [
    "df_md_small['genres'] = df_md_small['genres'].apply(ast.literal_eval)\n",
    "df_md_small['cast'] = df_md_small['cast'].apply(ast.literal_eval)\n",
    "df_md_small['keywords'] = df_md_small['keywords'].apply(ast.literal_eval)"
   ]
  },
  {
   "cell_type": "code",
   "execution_count": 159,
   "metadata": {
    "collapsed": true
   },
   "outputs": [],
   "source": [
    "df_md_small['director_'] = ( df_md_small['director'].\n",
    "                            astype(str).\n",
    "                            apply( lambda x: x.lower().replace( \" \", \"\") ).\n",
    "                            apply( lambda x: [x, x]) ) # more weights?"
   ]
  },
  {
   "cell_type": "code",
   "execution_count": 160,
   "metadata": {
    "collapsed": true
   },
   "outputs": [],
   "source": [
    "df_md_small['cast_'] = ( df_md_small['cast'].\n",
    "                        apply( lambda x: [i.lower().replace( \" \", \"\") for i in x ]) )"
   ]
  },
  {
   "cell_type": "code",
   "execution_count": 161,
   "metadata": {
    "collapsed": true
   },
   "outputs": [],
   "source": [
    "df_md_small['keywords_'] = ( df_md_small['keywords'].\n",
    "                            apply( lambda x: [SnowballStemmer( 'english' ).stem( i ) for i in x]).\n",
    "                            apply( lambda x: [i.lower().replace( \" \", \"\") for i in x ]) )"
   ]
  },
  {
   "cell_type": "code",
   "execution_count": 162,
   "metadata": {
    "collapsed": true
   },
   "outputs": [],
   "source": [
    "df_md_small['content'] = ( df_md_small['cast_'] +\n",
    "                          df_md_small['director_'] +\n",
    "                          df_md_small['keywords_'] +\n",
    "                          df_md_small['genres'] ).apply( lambda x: ' '.join( x ) ) # combine all content features"
   ]
  },
  {
   "cell_type": "code",
   "execution_count": 163,
   "metadata": {
    "collapsed": true
   },
   "outputs": [],
   "source": [
    "content_matrix = CountVectorizer(\n",
    "    analyzer = 'word',\n",
    "    ngram_range = (1, 2),\n",
    "    min_df = 0,\n",
    "    stop_words = 'english').fit_transform(df_md_small['content'])\n",
    "cosine_sim = cosine_similarity(content_matrix, content_matrix)"
   ]
  },
  {
   "cell_type": "code",
   "execution_count": 164,
   "metadata": {},
   "outputs": [
    {
     "data": {
      "text/plain": [
       "(9082, 9082)"
      ]
     },
     "execution_count": 164,
     "metadata": {},
     "output_type": "execute_result"
    }
   ],
   "source": [
    "cosine_sim.shape"
   ]
  },
  {
   "cell_type": "code",
   "execution_count": 165,
   "metadata": {
    "collapsed": true,
    "scrolled": true
   },
   "outputs": [],
   "source": [
    "df_ratings, Y, R = getratingmat( df_small )\n",
    "Y_norm, Y_mean = normalizeratings2( Y, R )"
   ]
  },
  {
   "cell_type": "code",
   "execution_count": 166,
   "metadata": {
    "collapsed": true
   },
   "outputs": [],
   "source": [
    "U, sigma, Vt = svds(Y_norm, k = 100, maxiter = 30 )\n",
    "sigma = np.diag(sigma)"
   ]
  },
  {
   "cell_type": "code",
   "execution_count": 167,
   "metadata": {
    "collapsed": true
   },
   "outputs": [],
   "source": [
    "all_user_predicted_ratings = np.dot(np.dot(U, sigma), Vt) + Y_mean"
   ]
  },
  {
   "cell_type": "code",
   "execution_count": 168,
   "metadata": {
    "collapsed": true
   },
   "outputs": [],
   "source": [
    "user_id = 50\n",
    "movie_title = 'Terminator 2: Judgment Day'"
   ]
  },
  {
   "cell_type": "code",
   "execution_count": 169,
   "metadata": {},
   "outputs": [
    {
     "data": {
      "text/html": [
       "<div>\n",
       "<style>\n",
       "    .dataframe thead tr:only-child th {\n",
       "        text-align: right;\n",
       "    }\n",
       "\n",
       "    .dataframe thead th {\n",
       "        text-align: left;\n",
       "    }\n",
       "\n",
       "    .dataframe tbody tr th {\n",
       "        vertical-align: top;\n",
       "    }\n",
       "</style>\n",
       "<table border=\"1\" class=\"dataframe\">\n",
       "  <thead>\n",
       "    <tr style=\"text-align: right;\">\n",
       "      <th></th>\n",
       "      <th>movieId</th>\n",
       "      <th>title</th>\n",
       "      <th>rating</th>\n",
       "    </tr>\n",
       "  </thead>\n",
       "  <tbody>\n",
       "    <tr>\n",
       "      <th>41</th>\n",
       "      <td>589</td>\n",
       "      <td>Terminator 2: Judgment Day</td>\n",
       "      <td>5.0</td>\n",
       "    </tr>\n",
       "    <tr>\n",
       "      <th>0</th>\n",
       "      <td>10</td>\n",
       "      <td>GoldenEye</td>\n",
       "      <td>4.0</td>\n",
       "    </tr>\n",
       "    <tr>\n",
       "      <th>15</th>\n",
       "      <td>292</td>\n",
       "      <td>Outbreak</td>\n",
       "      <td>4.0</td>\n",
       "    </tr>\n",
       "    <tr>\n",
       "      <th>44</th>\n",
       "      <td>780</td>\n",
       "      <td>Independence Day</td>\n",
       "      <td>4.0</td>\n",
       "    </tr>\n",
       "    <tr>\n",
       "      <th>37</th>\n",
       "      <td>527</td>\n",
       "      <td>Schindler's List</td>\n",
       "      <td>4.0</td>\n",
       "    </tr>\n",
       "    <tr>\n",
       "      <th>35</th>\n",
       "      <td>480</td>\n",
       "      <td>Jurassic Park</td>\n",
       "      <td>4.0</td>\n",
       "    </tr>\n",
       "    <tr>\n",
       "      <th>31</th>\n",
       "      <td>440</td>\n",
       "      <td>Dave</td>\n",
       "      <td>4.0</td>\n",
       "    </tr>\n",
       "    <tr>\n",
       "      <th>26</th>\n",
       "      <td>368</td>\n",
       "      <td>Maverick</td>\n",
       "      <td>4.0</td>\n",
       "    </tr>\n",
       "    <tr>\n",
       "      <th>25</th>\n",
       "      <td>367</td>\n",
       "      <td>The Mask</td>\n",
       "      <td>4.0</td>\n",
       "    </tr>\n",
       "    <tr>\n",
       "      <th>24</th>\n",
       "      <td>357</td>\n",
       "      <td>Four Weddings and a Funeral</td>\n",
       "      <td>4.0</td>\n",
       "    </tr>\n",
       "  </tbody>\n",
       "</table>\n",
       "</div>"
      ],
      "text/plain": [
       "    movieId                        title  rating\n",
       "41      589   Terminator 2: Judgment Day     5.0\n",
       "0        10                    GoldenEye     4.0\n",
       "15      292                     Outbreak     4.0\n",
       "44      780             Independence Day     4.0\n",
       "37      527             Schindler's List     4.0\n",
       "35      480                Jurassic Park     4.0\n",
       "31      440                         Dave     4.0\n",
       "26      368                     Maverick     4.0\n",
       "25      367                     The Mask     4.0\n",
       "24      357  Four Weddings and a Funeral     4.0"
      ]
     },
     "execution_count": 169,
     "metadata": {},
     "output_type": "execute_result"
    }
   ],
   "source": [
    "df_user_rating = ( df_small.loc[ df_small['userId'] == user_id ].\n",
    "               merge(df_md_small, on = 'movieId').\n",
    "               reset_index(drop = True) )\n",
    "df_user_rating[ ['movieId', 'title', 'rating'] ].sort_values('rating', ascending = False ).head(10)"
   ]
  },
  {
   "cell_type": "code",
   "execution_count": 170,
   "metadata": {
    "collapsed": true
   },
   "outputs": [],
   "source": [
    "df_svd_pred = pd.DataFrame(all_user_predicted_ratings, columns = df_ratings.columns, index = df_ratings.index)"
   ]
  },
  {
   "cell_type": "code",
   "execution_count": 171,
   "metadata": {},
   "outputs": [
    {
     "data": {
      "text/plain": [
       "(9025, 2)"
      ]
     },
     "execution_count": 171,
     "metadata": {},
     "output_type": "execute_result"
    }
   ],
   "source": [
    "df_userp = df_svd_pred[ user_id ].reset_index()\n",
    "df_userp.columns = [ 'movieId', 'rating_pred' ]\n",
    "df_userp.shape"
   ]
  },
  {
   "cell_type": "code",
   "execution_count": 172,
   "metadata": {},
   "outputs": [
    {
     "data": {
      "text/plain": [
       "(9082, 3)"
      ]
     },
     "execution_count": 172,
     "metadata": {},
     "output_type": "execute_result"
    }
   ],
   "source": [
    "idx = np.asscalar( df_md_small.loc[ df_md_small['title'] == movie_title ].index.values[0] )\n",
    "df_cbp = df_md_small[['movieId', 'title']].reset_index( drop = True )\n",
    "df_cbp[ 'sim' ] = cosine_sim[ idx ].flatten().tolist()\n",
    "df_cbp.shape"
   ]
  },
  {
   "cell_type": "code",
   "execution_count": 173,
   "metadata": {
    "collapsed": true
   },
   "outputs": [],
   "source": [
    "df_c = df_userp.merge( df_cbp, on = 'movieId' )\n",
    "df_c = df_c[ ~df_c['movieId'].isin(df_user_rating['movieId']) ]\n",
    "x = df_c['rating_pred'].values\n",
    "y = df_c['sim'].values\n",
    "x_p = np.array( [percentileofscore(x, i, 'strict') for i in x] )\n",
    "y_p = np.array( [percentileofscore(y, i, 'weak') for i in y] )\n",
    "df_c['rating_p'] = x_p.tolist()\n",
    "df_c['sim_p'] = y_p.tolist()"
   ]
  },
  {
   "cell_type": "code",
   "execution_count": 174,
   "metadata": {},
   "outputs": [
    {
     "data": {
      "text/html": [
       "<div>\n",
       "<style>\n",
       "    .dataframe thead tr:only-child th {\n",
       "        text-align: right;\n",
       "    }\n",
       "\n",
       "    .dataframe thead th {\n",
       "        text-align: left;\n",
       "    }\n",
       "\n",
       "    .dataframe tbody tr th {\n",
       "        vertical-align: top;\n",
       "    }\n",
       "</style>\n",
       "<table border=\"1\" class=\"dataframe\">\n",
       "  <thead>\n",
       "    <tr style=\"text-align: right;\">\n",
       "      <th></th>\n",
       "      <th>movieId</th>\n",
       "      <th>rating_pred</th>\n",
       "      <th>title</th>\n",
       "      <th>sim</th>\n",
       "      <th>rating_p</th>\n",
       "      <th>sim_p</th>\n",
       "      <th>score</th>\n",
       "    </tr>\n",
       "  </thead>\n",
       "  <tbody>\n",
       "    <tr>\n",
       "      <th>990</th>\n",
       "      <td>1240</td>\n",
       "      <td>3.433612</td>\n",
       "      <td>The Terminator</td>\n",
       "      <td>0.367653</td>\n",
       "      <td>99.933177</td>\n",
       "      <td>100.000000</td>\n",
       "      <td>99.966589</td>\n",
       "    </tr>\n",
       "    <tr>\n",
       "      <th>31</th>\n",
       "      <td>32</td>\n",
       "      <td>3.393068</td>\n",
       "      <td>Twelve Monkeys</td>\n",
       "      <td>0.187867</td>\n",
       "      <td>99.788395</td>\n",
       "      <td>99.721573</td>\n",
       "      <td>99.754984</td>\n",
       "    </tr>\n",
       "    <tr>\n",
       "      <th>2864</th>\n",
       "      <td>3593</td>\n",
       "      <td>3.363810</td>\n",
       "      <td>Battlefield Earth</td>\n",
       "      <td>0.192187</td>\n",
       "      <td>99.476556</td>\n",
       "      <td>99.777258</td>\n",
       "      <td>99.626907</td>\n",
       "    </tr>\n",
       "    <tr>\n",
       "      <th>953</th>\n",
       "      <td>1200</td>\n",
       "      <td>3.350868</td>\n",
       "      <td>Aliens</td>\n",
       "      <td>0.235294</td>\n",
       "      <td>99.220403</td>\n",
       "      <td>99.955452</td>\n",
       "      <td>99.587927</td>\n",
       "    </tr>\n",
       "    <tr>\n",
       "      <th>1476</th>\n",
       "      <td>1917</td>\n",
       "      <td>3.368883</td>\n",
       "      <td>Armageddon</td>\n",
       "      <td>0.127611</td>\n",
       "      <td>99.565653</td>\n",
       "      <td>98.774919</td>\n",
       "      <td>99.170286</td>\n",
       "    </tr>\n",
       "    <tr>\n",
       "      <th>2813</th>\n",
       "      <td>3527</td>\n",
       "      <td>3.348657</td>\n",
       "      <td>Predator</td>\n",
       "      <td>0.134535</td>\n",
       "      <td>99.153581</td>\n",
       "      <td>98.997661</td>\n",
       "      <td>99.075621</td>\n",
       "    </tr>\n",
       "    <tr>\n",
       "      <th>4359</th>\n",
       "      <td>5903</td>\n",
       "      <td>3.338866</td>\n",
       "      <td>Equilibrium</td>\n",
       "      <td>0.131212</td>\n",
       "      <td>98.774919</td>\n",
       "      <td>98.930839</td>\n",
       "      <td>98.852879</td>\n",
       "    </tr>\n",
       "    <tr>\n",
       "      <th>7365</th>\n",
       "      <td>72998</td>\n",
       "      <td>3.328616</td>\n",
       "      <td>Avatar</td>\n",
       "      <td>0.153964</td>\n",
       "      <td>98.140105</td>\n",
       "      <td>99.387460</td>\n",
       "      <td>98.763782</td>\n",
       "    </tr>\n",
       "    <tr>\n",
       "      <th>1328</th>\n",
       "      <td>1676</td>\n",
       "      <td>3.326458</td>\n",
       "      <td>Starship Troopers</td>\n",
       "      <td>0.156863</td>\n",
       "      <td>97.995322</td>\n",
       "      <td>99.432008</td>\n",
       "      <td>98.713665</td>\n",
       "    </tr>\n",
       "    <tr>\n",
       "      <th>7170</th>\n",
       "      <td>68319</td>\n",
       "      <td>3.321785</td>\n",
       "      <td>X-Men Origins: Wolverine</td>\n",
       "      <td>0.153081</td>\n",
       "      <td>97.560976</td>\n",
       "      <td>99.376323</td>\n",
       "      <td>98.468649</td>\n",
       "    </tr>\n",
       "    <tr>\n",
       "      <th>1449</th>\n",
       "      <td>1882</td>\n",
       "      <td>3.330559</td>\n",
       "      <td>Godzilla</td>\n",
       "      <td>0.117647</td>\n",
       "      <td>98.273750</td>\n",
       "      <td>98.262613</td>\n",
       "      <td>98.268181</td>\n",
       "    </tr>\n",
       "  </tbody>\n",
       "</table>\n",
       "</div>"
      ],
      "text/plain": [
       "      movieId  rating_pred                     title       sim   rating_p  \\\n",
       "990      1240     3.433612            The Terminator  0.367653  99.933177   \n",
       "31         32     3.393068            Twelve Monkeys  0.187867  99.788395   \n",
       "2864     3593     3.363810         Battlefield Earth  0.192187  99.476556   \n",
       "953      1200     3.350868                    Aliens  0.235294  99.220403   \n",
       "1476     1917     3.368883                Armageddon  0.127611  99.565653   \n",
       "2813     3527     3.348657                  Predator  0.134535  99.153581   \n",
       "4359     5903     3.338866               Equilibrium  0.131212  98.774919   \n",
       "7365    72998     3.328616                    Avatar  0.153964  98.140105   \n",
       "1328     1676     3.326458         Starship Troopers  0.156863  97.995322   \n",
       "7170    68319     3.321785  X-Men Origins: Wolverine  0.153081  97.560976   \n",
       "1449     1882     3.330559                  Godzilla  0.117647  98.273750   \n",
       "\n",
       "           sim_p      score  \n",
       "990   100.000000  99.966589  \n",
       "31     99.721573  99.754984  \n",
       "2864   99.777258  99.626907  \n",
       "953    99.955452  99.587927  \n",
       "1476   98.774919  99.170286  \n",
       "2813   98.997661  99.075621  \n",
       "4359   98.930839  98.852879  \n",
       "7365   99.387460  98.763782  \n",
       "1328   99.432008  98.713665  \n",
       "7170   99.376323  98.468649  \n",
       "1449   98.262613  98.268181  "
      ]
     },
     "execution_count": 174,
     "metadata": {},
     "output_type": "execute_result"
    }
   ],
   "source": [
    "weight_cb = 0.5\n",
    "score = ( x_p * ( 1 - weight_cb ) + y_p * weight_cb ) \n",
    "df_c['score'] = score.tolist()\n",
    "df_c.sort_values( 'score', ascending = False ).iloc[0:11]"
   ]
  },
  {
   "cell_type": "code",
   "execution_count": 175,
   "metadata": {},
   "outputs": [
    {
     "data": {
      "text/html": [
       "<div>\n",
       "<style>\n",
       "    .dataframe thead tr:only-child th {\n",
       "        text-align: right;\n",
       "    }\n",
       "\n",
       "    .dataframe thead th {\n",
       "        text-align: left;\n",
       "    }\n",
       "\n",
       "    .dataframe tbody tr th {\n",
       "        vertical-align: top;\n",
       "    }\n",
       "</style>\n",
       "<table border=\"1\" class=\"dataframe\">\n",
       "  <thead>\n",
       "    <tr style=\"text-align: right;\">\n",
       "      <th></th>\n",
       "      <th>index</th>\n",
       "      <th>movieId</th>\n",
       "      <th>tmdbId</th>\n",
       "      <th>title</th>\n",
       "      <th>vote_average</th>\n",
       "      <th>vote_count</th>\n",
       "      <th>cast</th>\n",
       "      <th>director</th>\n",
       "      <th>keywords</th>\n",
       "      <th>genres</th>\n",
       "      <th>director_</th>\n",
       "      <th>cast_</th>\n",
       "      <th>keywords_</th>\n",
       "      <th>content</th>\n",
       "    </tr>\n",
       "  </thead>\n",
       "  <tbody>\n",
       "    <tr>\n",
       "      <th>522</th>\n",
       "      <td>522</td>\n",
       "      <td>589</td>\n",
       "      <td>280</td>\n",
       "      <td>Terminator 2: Judgment Day</td>\n",
       "      <td>7.7</td>\n",
       "      <td>4274</td>\n",
       "      <td>[Arnold Schwarzenegger, Linda Hamilton, Robert...</td>\n",
       "      <td>James Cameron</td>\n",
       "      <td>[cyborg, shotgun, post-apocalyptic, dystopia, ...</td>\n",
       "      <td>[Action, Thriller, Science Fiction]</td>\n",
       "      <td>[jamescameron, jamescameron]</td>\n",
       "      <td>[arnoldschwarzenegger, lindahamilton, robertpa...</td>\n",
       "      <td>[cyborg, shotgun, post-apocalypt, dystopia, mo...</td>\n",
       "      <td>arnoldschwarzenegger lindahamilton robertpatri...</td>\n",
       "    </tr>\n",
       "  </tbody>\n",
       "</table>\n",
       "</div>"
      ],
      "text/plain": [
       "     index  movieId  tmdbId                       title  vote_average  \\\n",
       "522    522      589     280  Terminator 2: Judgment Day           7.7   \n",
       "\n",
       "     vote_count                                               cast  \\\n",
       "522        4274  [Arnold Schwarzenegger, Linda Hamilton, Robert...   \n",
       "\n",
       "          director                                           keywords  \\\n",
       "522  James Cameron  [cyborg, shotgun, post-apocalyptic, dystopia, ...   \n",
       "\n",
       "                                  genres                     director_  \\\n",
       "522  [Action, Thriller, Science Fiction]  [jamescameron, jamescameron]   \n",
       "\n",
       "                                                 cast_  \\\n",
       "522  [arnoldschwarzenegger, lindahamilton, robertpa...   \n",
       "\n",
       "                                             keywords_  \\\n",
       "522  [cyborg, shotgun, post-apocalypt, dystopia, mo...   \n",
       "\n",
       "                                               content  \n",
       "522  arnoldschwarzenegger lindahamilton robertpatri...  "
      ]
     },
     "execution_count": 175,
     "metadata": {},
     "output_type": "execute_result"
    }
   ],
   "source": [
    "df_md_small.loc[ df_md_small['title'] == 'Terminator 2: Judgment Day']"
   ]
  }
 ],
 "metadata": {
  "kernelspec": {
   "display_name": "Python 3",
   "language": "python",
   "name": "python3"
  },
  "language_info": {
   "codemirror_mode": {
    "name": "ipython",
    "version": 3
   },
   "file_extension": ".py",
   "mimetype": "text/x-python",
   "name": "python",
   "nbconvert_exporter": "python",
   "pygments_lexer": "ipython3",
   "version": "3.6.2"
  }
 },
 "nbformat": 4,
 "nbformat_minor": 2
}
