{
 "cells": [
  {
   "cell_type": "code",
   "execution_count": 2,
   "metadata": {
    "collapsed": true
   },
   "outputs": [],
   "source": [
    "import pandas as pd\n",
    "from collections import defaultdict\n",
    "from surprise import SVD\n",
    "from surprise import Dataset\n",
    "from surprise import Reader"
   ]
  },
  {
   "cell_type": "code",
   "execution_count": 23,
   "metadata": {
    "collapsed": true
   },
   "outputs": [],
   "source": [
    "def getprediction( predictions, userId ):\n",
    "    user_pred = []\n",
    "    for uid, iid, true_r, est, _ in predictions:\n",
    "        if uid == userId :\n",
    "            user_pred.append( (iid, est) )\n",
    "    df_userp = pd.DataFrame( user_pred, columns = [ 'movieId', 'prediction'] )\n",
    "    return( df_userp )"
   ]
  },
  {
   "cell_type": "code",
   "execution_count": 28,
   "metadata": {
    "collapsed": true
   },
   "outputs": [],
   "source": [
    "#load data\n",
    "df_small = pd.read_csv('../movielens_small/ratings_small.csv')\n",
    "df_mov = pd.read_csv( '../movielens_small/movies.csv' )\n",
    "#df_small.head()"
   ]
  },
  {
   "cell_type": "code",
   "execution_count": 5,
   "metadata": {
    "collapsed": true
   },
   "outputs": [],
   "source": [
    "reader = Reader()\n",
    "rating_data = Dataset.load_from_df(df_small[['userId', 'movieId', 'rating']], reader)\n",
    "#rating_data.split(n_folds=5)\n"
   ]
  },
  {
   "cell_type": "code",
   "execution_count": 7,
   "metadata": {},
   "outputs": [
    {
     "data": {
      "text/plain": [
       "<surprise.prediction_algorithms.matrix_factorization.SVD at 0x2738fa4db00>"
      ]
     },
     "execution_count": 7,
     "metadata": {},
     "output_type": "execute_result"
    }
   ],
   "source": [
    "algo = SVD()\n",
    "trainset = rating_data.build_full_trainset()\n",
    "algo.fit(trainset)"
   ]
  },
  {
   "cell_type": "code",
   "execution_count": 10,
   "metadata": {
    "collapsed": true
   },
   "outputs": [],
   "source": [
    "# Than predict ratings for all pairs (u, i) that are not in the training set.\n",
    "testset = trainset.build_anti_testset()\n",
    "predictions = algo.test(testset)\n",
    "#predictions"
   ]
  },
  {
   "cell_type": "code",
   "execution_count": 36,
   "metadata": {},
   "outputs": [
    {
     "data": {
      "text/html": [
       "<div>\n",
       "<style>\n",
       "    .dataframe thead tr:only-child th {\n",
       "        text-align: right;\n",
       "    }\n",
       "\n",
       "    .dataframe thead th {\n",
       "        text-align: left;\n",
       "    }\n",
       "\n",
       "    .dataframe tbody tr th {\n",
       "        vertical-align: top;\n",
       "    }\n",
       "</style>\n",
       "<table border=\"1\" class=\"dataframe\">\n",
       "  <thead>\n",
       "    <tr style=\"text-align: right;\">\n",
       "      <th></th>\n",
       "      <th>movieId</th>\n",
       "      <th>prediction</th>\n",
       "      <th>title</th>\n",
       "      <th>genres</th>\n",
       "    </tr>\n",
       "  </thead>\n",
       "  <tbody>\n",
       "    <tr>\n",
       "      <th>854</th>\n",
       "      <td>1945</td>\n",
       "      <td>4.377282</td>\n",
       "      <td>On the Waterfront (1954)</td>\n",
       "      <td>Crime|Drama</td>\n",
       "    </tr>\n",
       "    <tr>\n",
       "      <th>679</th>\n",
       "      <td>308</td>\n",
       "      <td>4.291882</td>\n",
       "      <td>Three Colors: White (Trzy kolory: Bialy) (1994)</td>\n",
       "      <td>Comedy|Drama</td>\n",
       "    </tr>\n",
       "    <tr>\n",
       "      <th>24</th>\n",
       "      <td>50</td>\n",
       "      <td>4.261336</td>\n",
       "      <td>Usual Suspects, The (1995)</td>\n",
       "      <td>Crime|Mystery|Thriller</td>\n",
       "    </tr>\n",
       "    <tr>\n",
       "      <th>2150</th>\n",
       "      <td>969</td>\n",
       "      <td>4.243894</td>\n",
       "      <td>African Queen, The (1951)</td>\n",
       "      <td>Adventure|Comedy|Romance|War</td>\n",
       "    </tr>\n",
       "    <tr>\n",
       "      <th>321</th>\n",
       "      <td>1247</td>\n",
       "      <td>4.242592</td>\n",
       "      <td>Graduate, The (1967)</td>\n",
       "      <td>Comedy|Drama|Romance</td>\n",
       "    </tr>\n",
       "    <tr>\n",
       "      <th>617</th>\n",
       "      <td>7502</td>\n",
       "      <td>4.241903</td>\n",
       "      <td>Band of Brothers (2001)</td>\n",
       "      <td>Action|Drama|War</td>\n",
       "    </tr>\n",
       "    <tr>\n",
       "      <th>4</th>\n",
       "      <td>1172</td>\n",
       "      <td>4.237099</td>\n",
       "      <td>Cinema Paradiso (Nuovo cinema Paradiso) (1989)</td>\n",
       "      <td>Drama</td>\n",
       "    </tr>\n",
       "    <tr>\n",
       "      <th>153</th>\n",
       "      <td>858</td>\n",
       "      <td>4.235537</td>\n",
       "      <td>Godfather, The (1972)</td>\n",
       "      <td>Crime|Drama</td>\n",
       "    </tr>\n",
       "    <tr>\n",
       "      <th>674</th>\n",
       "      <td>246</td>\n",
       "      <td>4.230656</td>\n",
       "      <td>Hoop Dreams (1994)</td>\n",
       "      <td>Documentary</td>\n",
       "    </tr>\n",
       "    <tr>\n",
       "      <th>1480</th>\n",
       "      <td>46578</td>\n",
       "      <td>4.230189</td>\n",
       "      <td>Little Miss Sunshine (2006)</td>\n",
       "      <td>Adventure|Comedy|Drama</td>\n",
       "    </tr>\n",
       "  </tbody>\n",
       "</table>\n",
       "</div>"
      ],
      "text/plain": [
       "      movieId  prediction                                            title  \\\n",
       "854      1945    4.377282                         On the Waterfront (1954)   \n",
       "679       308    4.291882  Three Colors: White (Trzy kolory: Bialy) (1994)   \n",
       "24         50    4.261336                       Usual Suspects, The (1995)   \n",
       "2150      969    4.243894                        African Queen, The (1951)   \n",
       "321      1247    4.242592                             Graduate, The (1967)   \n",
       "617      7502    4.241903                          Band of Brothers (2001)   \n",
       "4        1172    4.237099   Cinema Paradiso (Nuovo cinema Paradiso) (1989)   \n",
       "153       858    4.235537                            Godfather, The (1972)   \n",
       "674       246    4.230656                               Hoop Dreams (1994)   \n",
       "1480    46578    4.230189                      Little Miss Sunshine (2006)   \n",
       "\n",
       "                            genres  \n",
       "854                    Crime|Drama  \n",
       "679                   Comedy|Drama  \n",
       "24          Crime|Mystery|Thriller  \n",
       "2150  Adventure|Comedy|Romance|War  \n",
       "321           Comedy|Drama|Romance  \n",
       "617               Action|Drama|War  \n",
       "4                            Drama  \n",
       "153                    Crime|Drama  \n",
       "674                    Documentary  \n",
       "1480        Adventure|Comedy|Drama  "
      ]
     },
     "execution_count": 36,
     "metadata": {},
     "output_type": "execute_result"
    }
   ],
   "source": [
    "df_userp = getprediction( predictions, 668 )\n",
    "#df_userp.head()\n",
    "df_p = ( df_userp. join(df_mov.set_index('movieId'), on = 'movieId' ).\n",
    "            sort_values('prediction', ascending=False) )\n",
    "df_p.head(10)"
   ]
  }
 ],
 "metadata": {
  "kernelspec": {
   "display_name": "Python 3",
   "language": "python",
   "name": "python3"
  },
  "language_info": {
   "codemirror_mode": {
    "name": "ipython",
    "version": 3
   },
   "file_extension": ".py",
   "mimetype": "text/x-python",
   "name": "python",
   "nbconvert_exporter": "python",
   "pygments_lexer": "ipython3",
   "version": "3.6.2"
  }
 },
 "nbformat": 4,
 "nbformat_minor": 2
}
