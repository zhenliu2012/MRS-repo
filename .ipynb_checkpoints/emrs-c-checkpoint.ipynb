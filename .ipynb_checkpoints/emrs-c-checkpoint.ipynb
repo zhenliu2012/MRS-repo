{
 "cells": [
  {
   "cell_type": "code",
   "execution_count": 36,
   "metadata": {
    "collapsed": true
   },
   "outputs": [],
   "source": [
    "import pandas as pd\n",
    "import ast\n",
    "from sklearn.feature_extraction.text import TfidfVectorizer, CountVectorizer\n",
    "from sklearn.metrics.pairwise import linear_kernel, cosine_similarity\n",
    "from nltk.stem.snowball import SnowballStemmer #porterstemmer?\n",
    "import numpy as np"
   ]
  },
  {
   "cell_type": "code",
   "execution_count": 37,
   "metadata": {
    "collapsed": true
   },
   "outputs": [],
   "source": [
    "def getdirector( crew ):\n",
    "    for i in crew:\n",
    "        if i['job'] == 'Director':\n",
    "            return i['name']\n",
    "    return np.nan"
   ]
  },
  {
   "cell_type": "code",
   "execution_count": 114,
   "metadata": {},
   "outputs": [],
   "source": [
    "def getrecommendation( movie_title, sim_matrix, df, perc = 0.8 ):\n",
    "    \"\"\" \n",
    "    the similarity matrix and data frame MUST have the same indices\n",
    "    MAKE SURE: df.reset_index()\n",
    "    \n",
    "    weighted rating:\n",
    "    v is the number of votes for the movie\n",
    "    m is the minimum votes required to be listed in the chart\n",
    "    R is the average rating of the movie\n",
    "    C is the mean vote across the whole report\n",
    "    \"\"\"\n",
    "    idx = np.asscalar( df.loc[ df['title'] == movie_title ].index.values )\n",
    "    sim_idx = sim_matrix[ idx ].argsort()[::-1][1:41].flatten().tolist()\n",
    "    df_top = df[ ['title','director','cast','genres','keywords','vote_count', 'vote_average']].iloc[ sim_idx ]\n",
    "    df_top['similarity'] = sorted( sim_matrix[ idx ], reverse = True )[1:41]\n",
    "\n",
    "    m = df_top.loc[ df_top['vote_count'].notnull(), 'vote_count' ].quantile(0.5)\n",
    "    C = df_top.loc[ df_top['vote_average'].notnull(), 'vote_average' ].mean()\n",
    "    \n",
    "    df_qualified = df_top.loc[( df_top['vote_count'] >= m ) &\n",
    "                          ( df_top['vote_count'].notnull() ) &\n",
    "                          ( df_top['vote_average'].notnull() ) ]    \n",
    "#    v = df_qualified['vote_count'].values\n",
    "#    R = df_qualified['vote_average'].values\n",
    "    r = df_qualified['vote_average'].values * ( 1 - perc )\n",
    "#    r =  ( v * R / ( v + m ) + m * C / ( v + m ) ) / 10. * ( 1 - perc )\n",
    "    sim_ = df_qualified['similarity'].values * perc\n",
    "    score = sim_ + r \n",
    "    df_qualified['score'] = score.tolist()\n",
    "    return( df_qualified.sort_values(by='score', ascending=False) )"
   ]
  },
  {
   "cell_type": "code",
   "execution_count": 39,
   "metadata": {},
   "outputs": [
    {
     "name": "stderr",
     "output_type": "stream",
     "text": [
      "I:\\Anaconda\\lib\\site-packages\\IPython\\core\\interactiveshell.py:2698: DtypeWarning: Columns (10) have mixed types. Specify dtype option on import or set low_memory=False.\n",
      "  interactivity=interactivity, compiler=compiler, result=result)\n"
     ]
    }
   ],
   "source": [
    "df_md = pd. read_csv('../movielens_small/movies_metadata.csv')\n",
    "df_link = pd.read_csv('../movielens_small/links_small.csv')\n",
    "df_credits = pd.read_csv( '../movielens_small/credits.csv' )\n",
    "df_keywords = pd.read_csv( '../movielens_small/keywords.csv' )"
   ]
  },
  {
   "cell_type": "code",
   "execution_count": 40,
   "metadata": {
    "collapsed": true
   },
   "outputs": [],
   "source": [
    "df_link = df_link[df_link['tmdbId'].notnull()]['tmdbId'].astype('int')"
   ]
  },
  {
   "cell_type": "code",
   "execution_count": 41,
   "metadata": {
    "collapsed": true
   },
   "outputs": [],
   "source": [
    "df_md['genres'] = ( df_md['genres'].fillna('[]').\n",
    "                   apply(ast.literal_eval).\n",
    "                   apply( lambda x: [i['name'] for i in x] if isinstance(x, list) else []) )"
   ]
  },
  {
   "cell_type": "code",
   "execution_count": 42,
   "metadata": {
    "collapsed": true
   },
   "outputs": [],
   "source": [
    "df_md = df_md.drop([19730, 29503, 35587]) # invalid input in cols id & imdb_id"
   ]
  },
  {
   "cell_type": "code",
   "execution_count": 43,
   "metadata": {
    "collapsed": true
   },
   "outputs": [],
   "source": [
    "df_md['id'] = df_md['id'].astype('int')\n",
    "df_keywords['id'] = df_keywords['id'].astype('int')\n",
    "df_credits['id'] = df_credits['id'].astype('int')"
   ]
  },
  {
   "cell_type": "code",
   "execution_count": 44,
   "metadata": {},
   "outputs": [],
   "source": [
    "df_md_small = ( df_md[ df_md['id'].isin(df_link)].\n",
    "               merge(df_credits, on='id').\n",
    "               merge(df_keywords, on='id').\n",
    "               reset_index() )"
   ]
  },
  {
   "cell_type": "code",
   "execution_count": 45,
   "metadata": {
    "collapsed": true
   },
   "outputs": [],
   "source": [
    "df_md_small['director'] = ( df_md_small['crew'].\n",
    "                           apply(ast.literal_eval).\n",
    "                           apply(getdirector).astype('str') )\n",
    "df_md_small['cast'] = ( df_md_small['cast'].\n",
    "                       apply(ast.literal_eval).\n",
    "                       apply( lambda x: [i['name'] for i in x] if isinstance(x, list) else []).\n",
    "                       apply( lambda x: x[:3] if len(x) >=3 else x) )\n",
    "df_md_small['keywords'] = ( df_md_small['keywords'].\n",
    "                           apply(ast.literal_eval).\n",
    "                           apply( lambda x: [i['name'] for i in x] if isinstance(x, list) else []) )"
   ]
  },
  {
   "cell_type": "code",
   "execution_count": 46,
   "metadata": {
    "collapsed": true
   },
   "outputs": [],
   "source": [
    "df_md_small['director_'] = ( df_md_small['director'].\n",
    "                           apply( lambda x: x.lower().replace( \" \", \"\") ).\n",
    "                           apply( lambda x: [x]) ) # more weights?"
   ]
  },
  {
   "cell_type": "code",
   "execution_count": 47,
   "metadata": {
    "collapsed": true
   },
   "outputs": [],
   "source": [
    "df_md_small['cast_'] = ( df_md_small['cast'].\n",
    "                       apply( lambda x: [i.lower().replace( \" \", \"\") for i in x ]) )"
   ]
  },
  {
   "cell_type": "code",
   "execution_count": 48,
   "metadata": {
    "collapsed": true
   },
   "outputs": [],
   "source": [
    "df_md_small['keywords_'] = ( df_md_small['keywords'].\n",
    "                           apply( lambda x: [SnowballStemmer( 'english' ).stem( i ) for i in x]).\n",
    "                           apply( lambda x: [i.lower().replace( \" \", \"\") for i in x ]) )"
   ]
  },
  {
   "cell_type": "code",
   "execution_count": 49,
   "metadata": {
    "collapsed": true
   },
   "outputs": [],
   "source": [
    "df_md_small['content'] = ( df_md_small['cast_'] +\n",
    "                          df_md_small['director_'] +\n",
    "                          df_md_small['keywords_'] +\n",
    "                          df_md_small['genres'] ).apply( lambda x: ' '.join( x ) ) # combine all content features"
   ]
  },
  {
   "cell_type": "code",
   "execution_count": 50,
   "metadata": {
    "collapsed": true
   },
   "outputs": [],
   "source": [
    "content_matrix = CountVectorizer(\n",
    "    analyzer = 'word',\n",
    "    ngram_range = (1, 2),\n",
    "    min_df = 0,\n",
    "    stop_words = 'english').fit_transform(df_md_small['content'])\n",
    "cosine_sim = cosine_similarity(content_matrix, content_matrix)"
   ]
  },
  {
   "cell_type": "code",
   "execution_count": 115,
   "metadata": {},
   "outputs": [
    {
     "name": "stderr",
     "output_type": "stream",
     "text": [
      "I:\\Anaconda\\lib\\site-packages\\ipykernel_launcher.py:29: SettingWithCopyWarning: \n",
      "A value is trying to be set on a copy of a slice from a DataFrame.\n",
      "Try using .loc[row_indexer,col_indexer] = value instead\n",
      "\n",
      "See the caveats in the documentation: http://pandas.pydata.org/pandas-docs/stable/indexing.html#indexing-view-versus-copy\n"
     ]
    },
    {
     "data": {
      "text/html": [
       "<div>\n",
       "<style>\n",
       "    .dataframe thead tr:only-child th {\n",
       "        text-align: right;\n",
       "    }\n",
       "\n",
       "    .dataframe thead th {\n",
       "        text-align: left;\n",
       "    }\n",
       "\n",
       "    .dataframe tbody tr th {\n",
       "        vertical-align: top;\n",
       "    }\n",
       "</style>\n",
       "<table border=\"1\" class=\"dataframe\">\n",
       "  <thead>\n",
       "    <tr style=\"text-align: right;\">\n",
       "      <th></th>\n",
       "      <th>title</th>\n",
       "      <th>director</th>\n",
       "      <th>cast</th>\n",
       "      <th>genres</th>\n",
       "      <th>keywords</th>\n",
       "      <th>vote_count</th>\n",
       "      <th>vote_average</th>\n",
       "      <th>similarity</th>\n",
       "      <th>score</th>\n",
       "    </tr>\n",
       "  </thead>\n",
       "  <tbody>\n",
       "    <tr>\n",
       "      <th>994</th>\n",
       "      <td>The Godfather: Part II</td>\n",
       "      <td>Francis Ford Coppola</td>\n",
       "      <td>[Al Pacino, Robert Duvall, Diane Keaton]</td>\n",
       "      <td>[Drama, Crime]</td>\n",
       "      <td>[italo-american, cuba, vororte, melancholy, pr...</td>\n",
       "      <td>3418.0</td>\n",
       "      <td>8.3</td>\n",
       "      <td>0.222308</td>\n",
       "      <td>0.372682</td>\n",
       "    </tr>\n",
       "    <tr>\n",
       "      <th>284</th>\n",
       "      <td>The Shawshank Redemption</td>\n",
       "      <td>Frank Darabont</td>\n",
       "      <td>[Tim Robbins, Morgan Freeman, Bob Gunton]</td>\n",
       "      <td>[Drama, Crime]</td>\n",
       "      <td>[prison, corruption, police brutality, prison ...</td>\n",
       "      <td>8358.0</td>\n",
       "      <td>8.5</td>\n",
       "      <td>0.151794</td>\n",
       "      <td>0.325631</td>\n",
       "    </tr>\n",
       "    <tr>\n",
       "      <th>1602</th>\n",
       "      <td>The Godfather: Part III</td>\n",
       "      <td>Francis Ford Coppola</td>\n",
       "      <td>[Al Pacino, Diane Keaton, Andy García]</td>\n",
       "      <td>[Crime, Drama, Thriller]</td>\n",
       "      <td>[italy, christianity, new york, assassination,...</td>\n",
       "      <td>1589.0</td>\n",
       "      <td>7.1</td>\n",
       "      <td>0.194520</td>\n",
       "      <td>0.322228</td>\n",
       "    </tr>\n",
       "    <tr>\n",
       "      <th>1346</th>\n",
       "      <td>The Rainmaker</td>\n",
       "      <td>Francis Ford Coppola</td>\n",
       "      <td>[Matt Damon, Danny DeVito, Jon Voight]</td>\n",
       "      <td>[Drama, Crime, Thriller]</td>\n",
       "      <td>[jurors, proof, court case, leukemia, lawyer, ...</td>\n",
       "      <td>239.0</td>\n",
       "      <td>6.7</td>\n",
       "      <td>0.169031</td>\n",
       "      <td>0.291979</td>\n",
       "    </tr>\n",
       "    <tr>\n",
       "      <th>986</th>\n",
       "      <td>GoodFellas</td>\n",
       "      <td>Martin Scorsese</td>\n",
       "      <td>[Robert De Niro, Ray Liotta, Joe Pesci]</td>\n",
       "      <td>[Drama, Crime]</td>\n",
       "      <td>[prison, based on novel, florida, 1970s, mass ...</td>\n",
       "      <td>3211.0</td>\n",
       "      <td>8.2</td>\n",
       "      <td>0.116091</td>\n",
       "      <td>0.290510</td>\n",
       "    </tr>\n",
       "    <tr>\n",
       "      <th>2808</th>\n",
       "      <td>Midnight Express</td>\n",
       "      <td>Alan Parker</td>\n",
       "      <td>[Brad Davis, Irene Miracle, Bo Hopkins]</td>\n",
       "      <td>[Drama, Crime]</td>\n",
       "      <td>[prison, drug smuggle, attempt to escape, esca...</td>\n",
       "      <td>309.0</td>\n",
       "      <td>7.6</td>\n",
       "      <td>0.135225</td>\n",
       "      <td>0.283342</td>\n",
       "    </tr>\n",
       "    <tr>\n",
       "      <th>2742</th>\n",
       "      <td>...And Justice for All</td>\n",
       "      <td>Norman Jewison</td>\n",
       "      <td>[Al Pacino, Jack Warden, John Forsythe]</td>\n",
       "      <td>[Crime, Drama, Mystery, Thriller]</td>\n",
       "      <td>[suspense, lawyer, courtroom, extramarital aff...</td>\n",
       "      <td>118.0</td>\n",
       "      <td>7.1</td>\n",
       "      <td>0.140981</td>\n",
       "      <td>0.274790</td>\n",
       "    </tr>\n",
       "    <tr>\n",
       "      <th>1204</th>\n",
       "      <td>Donnie Brasco</td>\n",
       "      <td>Mike Newell</td>\n",
       "      <td>[Johnny Depp, Al Pacino, Michael Madsen]</td>\n",
       "      <td>[Crime, Drama, Thriller]</td>\n",
       "      <td>[undercover, colombia, mafia, mobster, dirty c...</td>\n",
       "      <td>1175.0</td>\n",
       "      <td>7.4</td>\n",
       "      <td>0.117698</td>\n",
       "      <td>0.271063</td>\n",
       "    </tr>\n",
       "    <tr>\n",
       "      <th>3003</th>\n",
       "      <td>Serpico</td>\n",
       "      <td>Sidney Lumet</td>\n",
       "      <td>[Al Pacino, John Randolph Jones, Jack Kehoe]</td>\n",
       "      <td>[Crime, Drama, History]</td>\n",
       "      <td>[corruption, hippie, money]</td>\n",
       "      <td>429.0</td>\n",
       "      <td>7.5</td>\n",
       "      <td>0.116335</td>\n",
       "      <td>0.268985</td>\n",
       "    </tr>\n",
       "    <tr>\n",
       "      <th>154</th>\n",
       "      <td>Kids</td>\n",
       "      <td>Larry Clark</td>\n",
       "      <td>[Leo Fitzpatrick, Rosario Dawson, Chloë Sevigny]</td>\n",
       "      <td>[Drama, Crime]</td>\n",
       "      <td>[puberty, first time]</td>\n",
       "      <td>280.0</td>\n",
       "      <td>6.8</td>\n",
       "      <td>0.130931</td>\n",
       "      <td>0.265407</td>\n",
       "    </tr>\n",
       "    <tr>\n",
       "      <th>7242</th>\n",
       "      <td>Il Divo</td>\n",
       "      <td>Paolo Sorrentino</td>\n",
       "      <td>[Toni Servillo, Anna Bonaiuto, Giulio Bosetti]</td>\n",
       "      <td>[Drama]</td>\n",
       "      <td>[italy, diva, politics, independent film, mafia]</td>\n",
       "      <td>166.0</td>\n",
       "      <td>7.5</td>\n",
       "      <td>0.116335</td>\n",
       "      <td>0.263617</td>\n",
       "    </tr>\n",
       "    <tr>\n",
       "      <th>6774</th>\n",
       "      <td>Mr. Brooks</td>\n",
       "      <td>Bruce A. Evans</td>\n",
       "      <td>[Kevin Costner, Demi Moore, Dane Cook]</td>\n",
       "      <td>[Drama, Crime, Mystery, Thriller]</td>\n",
       "      <td>[]</td>\n",
       "      <td>543.0</td>\n",
       "      <td>6.8</td>\n",
       "      <td>0.122988</td>\n",
       "      <td>0.260563</td>\n",
       "    </tr>\n",
       "    <tr>\n",
       "      <th>7464</th>\n",
       "      <td>The Bad Lieutenant: Port of Call - New Orleans</td>\n",
       "      <td>Werner Herzog</td>\n",
       "      <td>[Nicolas Cage, Eva Mendes, Val Kilmer]</td>\n",
       "      <td>[Drama, Crime]</td>\n",
       "      <td>[police brutality, organized crime, policeman,...</td>\n",
       "      <td>331.0</td>\n",
       "      <td>6.0</td>\n",
       "      <td>0.140981</td>\n",
       "      <td>0.258470</td>\n",
       "    </tr>\n",
       "    <tr>\n",
       "      <th>7698</th>\n",
       "      <td>Wall Street: Money Never Sleeps</td>\n",
       "      <td>Oliver Stone</td>\n",
       "      <td>[Michael Douglas, Shia LaBeouf, Josh Brolin]</td>\n",
       "      <td>[Drama, Crime]</td>\n",
       "      <td>[duringcreditsstinger]</td>\n",
       "      <td>504.0</td>\n",
       "      <td>5.8</td>\n",
       "      <td>0.140642</td>\n",
       "      <td>0.253392</td>\n",
       "    </tr>\n",
       "    <tr>\n",
       "      <th>252</th>\n",
       "      <td>Murder in the First</td>\n",
       "      <td>Marc Rocco</td>\n",
       "      <td>[Christian Slater, Kevin Bacon, Gary Oldman]</td>\n",
       "      <td>[Crime, Drama]</td>\n",
       "      <td>[prison, prisoner, death row, alcatraz, lawyer...</td>\n",
       "      <td>140.0</td>\n",
       "      <td>6.9</td>\n",
       "      <td>0.114286</td>\n",
       "      <td>0.252764</td>\n",
       "    </tr>\n",
       "  </tbody>\n",
       "</table>\n",
       "</div>"
      ],
      "text/plain": [
       "                                               title              director  \\\n",
       "994                           The Godfather: Part II  Francis Ford Coppola   \n",
       "284                         The Shawshank Redemption        Frank Darabont   \n",
       "1602                         The Godfather: Part III  Francis Ford Coppola   \n",
       "1346                                   The Rainmaker  Francis Ford Coppola   \n",
       "986                                       GoodFellas       Martin Scorsese   \n",
       "2808                                Midnight Express           Alan Parker   \n",
       "2742                          ...And Justice for All        Norman Jewison   \n",
       "1204                                   Donnie Brasco           Mike Newell   \n",
       "3003                                         Serpico          Sidney Lumet   \n",
       "154                                             Kids           Larry Clark   \n",
       "7242                                         Il Divo      Paolo Sorrentino   \n",
       "6774                                      Mr. Brooks        Bruce A. Evans   \n",
       "7464  The Bad Lieutenant: Port of Call - New Orleans         Werner Herzog   \n",
       "7698                 Wall Street: Money Never Sleeps          Oliver Stone   \n",
       "252                              Murder in the First            Marc Rocco   \n",
       "\n",
       "                                                  cast  \\\n",
       "994           [Al Pacino, Robert Duvall, Diane Keaton]   \n",
       "284          [Tim Robbins, Morgan Freeman, Bob Gunton]   \n",
       "1602            [Al Pacino, Diane Keaton, Andy García]   \n",
       "1346            [Matt Damon, Danny DeVito, Jon Voight]   \n",
       "986            [Robert De Niro, Ray Liotta, Joe Pesci]   \n",
       "2808           [Brad Davis, Irene Miracle, Bo Hopkins]   \n",
       "2742           [Al Pacino, Jack Warden, John Forsythe]   \n",
       "1204          [Johnny Depp, Al Pacino, Michael Madsen]   \n",
       "3003      [Al Pacino, John Randolph Jones, Jack Kehoe]   \n",
       "154   [Leo Fitzpatrick, Rosario Dawson, Chloë Sevigny]   \n",
       "7242    [Toni Servillo, Anna Bonaiuto, Giulio Bosetti]   \n",
       "6774            [Kevin Costner, Demi Moore, Dane Cook]   \n",
       "7464            [Nicolas Cage, Eva Mendes, Val Kilmer]   \n",
       "7698      [Michael Douglas, Shia LaBeouf, Josh Brolin]   \n",
       "252       [Christian Slater, Kevin Bacon, Gary Oldman]   \n",
       "\n",
       "                                 genres  \\\n",
       "994                      [Drama, Crime]   \n",
       "284                      [Drama, Crime]   \n",
       "1602           [Crime, Drama, Thriller]   \n",
       "1346           [Drama, Crime, Thriller]   \n",
       "986                      [Drama, Crime]   \n",
       "2808                     [Drama, Crime]   \n",
       "2742  [Crime, Drama, Mystery, Thriller]   \n",
       "1204           [Crime, Drama, Thriller]   \n",
       "3003            [Crime, Drama, History]   \n",
       "154                      [Drama, Crime]   \n",
       "7242                            [Drama]   \n",
       "6774  [Drama, Crime, Mystery, Thriller]   \n",
       "7464                     [Drama, Crime]   \n",
       "7698                     [Drama, Crime]   \n",
       "252                      [Crime, Drama]   \n",
       "\n",
       "                                               keywords  vote_count  \\\n",
       "994   [italo-american, cuba, vororte, melancholy, pr...      3418.0   \n",
       "284   [prison, corruption, police brutality, prison ...      8358.0   \n",
       "1602  [italy, christianity, new york, assassination,...      1589.0   \n",
       "1346  [jurors, proof, court case, leukemia, lawyer, ...       239.0   \n",
       "986   [prison, based on novel, florida, 1970s, mass ...      3211.0   \n",
       "2808  [prison, drug smuggle, attempt to escape, esca...       309.0   \n",
       "2742  [suspense, lawyer, courtroom, extramarital aff...       118.0   \n",
       "1204  [undercover, colombia, mafia, mobster, dirty c...      1175.0   \n",
       "3003                        [corruption, hippie, money]       429.0   \n",
       "154                               [puberty, first time]       280.0   \n",
       "7242   [italy, diva, politics, independent film, mafia]       166.0   \n",
       "6774                                                 []       543.0   \n",
       "7464  [police brutality, organized crime, policeman,...       331.0   \n",
       "7698                             [duringcreditsstinger]       504.0   \n",
       "252   [prison, prisoner, death row, alcatraz, lawyer...       140.0   \n",
       "\n",
       "      vote_average  similarity     score  \n",
       "994            8.3    0.222308  0.372682  \n",
       "284            8.5    0.151794  0.325631  \n",
       "1602           7.1    0.194520  0.322228  \n",
       "1346           6.7    0.169031  0.291979  \n",
       "986            8.2    0.116091  0.290510  \n",
       "2808           7.6    0.135225  0.283342  \n",
       "2742           7.1    0.140981  0.274790  \n",
       "1204           7.4    0.117698  0.271063  \n",
       "3003           7.5    0.116335  0.268985  \n",
       "154            6.8    0.130931  0.265407  \n",
       "7242           7.5    0.116335  0.263617  \n",
       "6774           6.8    0.122988  0.260563  \n",
       "7464           6.0    0.140981  0.258470  \n",
       "7698           5.8    0.140642  0.253392  \n",
       "252            6.9    0.114286  0.252764  "
      ]
     },
     "execution_count": 115,
     "metadata": {},
     "output_type": "execute_result"
    }
   ],
   "source": [
    "getrecommendation( 'The Godfather', cosine_sim, df_md_small ).head(15)"
   ]
  }
 ],
 "metadata": {
  "kernelspec": {
   "display_name": "Python 3",
   "language": "python",
   "name": "python3"
  },
  "language_info": {
   "codemirror_mode": {
    "name": "ipython",
    "version": 3
   },
   "file_extension": ".py",
   "mimetype": "text/x-python",
   "name": "python",
   "nbconvert_exporter": "python",
   "pygments_lexer": "ipython3",
   "version": "3.6.2"
  }
 },
 "nbformat": 4,
 "nbformat_minor": 2
}
