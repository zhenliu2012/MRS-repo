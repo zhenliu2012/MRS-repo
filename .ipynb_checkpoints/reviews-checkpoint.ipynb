{
 "cells": [
  {
   "cell_type": "code",
   "execution_count": 11,
   "metadata": {
    "collapsed": true
   },
   "outputs": [],
   "source": [
    "import indicoio\n",
    "import os\n",
    "import requests\n",
    "import simplejson as json\n",
    "import pandas as pd"
   ]
  },
  {
   "cell_type": "code",
   "execution_count": null,
   "metadata": {
    "collapsed": true
   },
   "outputs": [],
   "source": [
    "def emoReviews(movie_tile):\n",
    "    df_sel = df_md_small.loc[ df_md_small['title'] == movie_title ]\n",
    "    movie_id = str( df_sel['tmdbId'].values[0] )\n",
    "    request_url = 'http://api.themoviedb.org/3/movie/' + movie_id + '/reviews?api_key=' + tmdb_api_key\n",
    "    json_response = requests.get( request_url )\n",
    "    json_review = json.loads( json_response.content )\n",
    "    df_review = pd.DataFrame( json_review['results'])\n",
    "    for row in df_review.itertuples():\n",
    "        print( row.author, \":\", indicoio.emotion( row.content ) )\n",
    "    return"
   ]
  },
  {
   "cell_type": "code",
   "execution_count": 12,
   "metadata": {},
   "outputs": [],
   "source": [
    "indico_api_key = os.environ[\"INDICO_API_KEY\"]\n",
    "tmdb_api_key = os.environ[\"TMDB_API_KEY\"]"
   ]
  },
  {
   "cell_type": "code",
   "execution_count": 13,
   "metadata": {},
   "outputs": [],
   "source": [
    "indicoio.config.api_key = indico_api_key"
   ]
  },
  {
   "cell_type": "code",
   "execution_count": 55,
   "metadata": {},
   "outputs": [
    {
     "data": {
      "text/plain": [
       "274"
      ]
     },
     "execution_count": 55,
     "metadata": {},
     "output_type": "execute_result"
    }
   ],
   "source": [
    "df_md_small = pd.read_csv('../movielens_small/metadata_clean.csv')\n",
    "df_sel = df_md_small.loc[ df_md_small['title'] == 'The Silence of the Lambs' ]\n",
    "df_sel['tmdbId'].values[0]"
   ]
  },
  {
   "cell_type": "code",
   "execution_count": 56,
   "metadata": {
    "collapsed": true
   },
   "outputs": [],
   "source": [
    "movie_id = str( df_sel['tmdbId'].values[0] )\n",
    "request_url = 'http://api.themoviedb.org/3/movie/' + movie_id + '/reviews?api_key=' + tmdb_api_key\n",
    "json_response = requests.get( request_url )\n",
    "json_review = json.loads( json_response.content )"
   ]
  },
  {
   "cell_type": "code",
   "execution_count": 57,
   "metadata": {},
   "outputs": [
    {
     "data": {
      "text/html": [
       "<div>\n",
       "<style>\n",
       "    .dataframe thead tr:only-child th {\n",
       "        text-align: right;\n",
       "    }\n",
       "\n",
       "    .dataframe thead th {\n",
       "        text-align: left;\n",
       "    }\n",
       "\n",
       "    .dataframe tbody tr th {\n",
       "        vertical-align: top;\n",
       "    }\n",
       "</style>\n",
       "<table border=\"1\" class=\"dataframe\">\n",
       "  <thead>\n",
       "    <tr style=\"text-align: right;\">\n",
       "      <th></th>\n",
       "      <th>author</th>\n",
       "      <th>content</th>\n",
       "      <th>id</th>\n",
       "      <th>url</th>\n",
       "    </tr>\n",
       "  </thead>\n",
       "  <tbody>\n",
       "    <tr>\n",
       "      <th>0</th>\n",
       "      <td>Ted Fraraccio</td>\n",
       "      <td>Unlike a lot of viewers, I first saw _The Sile...</td>\n",
       "      <td>55a85f749251411e140029d1</td>\n",
       "      <td>https://www.themoviedb.org/review/55a85f749251...</td>\n",
       "    </tr>\n",
       "  </tbody>\n",
       "</table>\n",
       "</div>"
      ],
      "text/plain": [
       "          author                                            content  \\\n",
       "0  Ted Fraraccio  Unlike a lot of viewers, I first saw _The Sile...   \n",
       "\n",
       "                         id                                                url  \n",
       "0  55a85f749251411e140029d1  https://www.themoviedb.org/review/55a85f749251...  "
      ]
     },
     "execution_count": 57,
     "metadata": {},
     "output_type": "execute_result"
    }
   ],
   "source": [
    "df_review = pd.DataFrame( json_review['results'])\n",
    "df_review.head()"
   ]
  },
  {
   "cell_type": "code",
   "execution_count": 58,
   "metadata": {},
   "outputs": [
    {
     "name": "stdout",
     "output_type": "stream",
     "text": [
      "Ted Fraraccio Unlike a lot of viewers, I first saw _The Silence of the Lambs_ at five years old. So, for me, _The Silence of the Lambs_ is a childhood favorite. Some would say I had an unusual childhood, in this age where some people actually **avoid** R-rated movies like the plague. The fact that I saw _Something Wild_, which Jonathan Demme directed five years before _The Silence of the Lambs_, as well as the original _Alien_ (alone at that), at the same age probably indicates that they were okay with me watching pretty much anything that wasn't rated X, though, honestly, I've **never** had any interest in that stuff. It was probably due to the fact that, like the movie's protagonist, I don't \"spook easily,\" and many so-called \"scary\" movies, including this one, never scared me, but (many of them) definitely thrilled me. Granted, I'd seen _Saving Private Ryan_ a few months before, which probably gave me a strong stomach. Well, enough about my wild, albeit fun, childhood. How does _The Silence of the Lambs_ hold up all these years later? For me personally, _The Silence of the Lambs_ is every bit as good as it was the first time I saw it at five years old.\r\n",
      "\r\n",
      "On the off chance you don't already know the plot by now, Jodie Foster stars as Clarice Starling, a rookie FBI agent with a degree in psychology who is called from training by her boss Jack Crawford (Scott Glenn) in the middle of a string of murders by a man nicknamed \"Buffalo Bill\" (Ted Levine) who skins his victims, all of whom happen to be women. Crawford tells her to interview the psychotic Dr. Hannibal \"the Cannibal\" Lecter (Anthony Hopkins) in prison, hoping he might have an answer of some kind. Lecter brushes her off. After Catherine Martin (Brooke Smith), the daughter of a senator is kidnapped, Lecter agrees to give Starling information about Buffalo Bill on the condition that she tell him personal information about herself.\r\n",
      "\r\n",
      "If I had to pick the greatest Best Picture Oscar winner ever, it would most likely be _The Silence of the Lambs_. Well-acted, well-written, and well-directed, it's definitely my favorite.\r\n",
      "\r\n",
      "Let's look at the acting to start. Jodie Foster, unsurprisingly, won a well-deserved Oscar for her performance as Starling. Foster plays Starling as a little scared yet strong at the same time, definitely not a coward as Julianne Moore later played the character in the movie _Hannibal_, and definitely not someone who would turn cannibal as Thomas Harris wrote the character as doing in the novel Hannibal. Movie or novel, in my honest opinion, the Clarice Starling depicted in _Hannibal_ is an insult to what this Clarice Starling stands for. As we find out about what's been nagging Starling since childhood, Foster plays it especially well where another actress may have overdone it.\r\n",
      "Anthony Hopkins, like Foster, won an Oscar for his performance as Lecter, and I speak for a lot of people, if not everybody, when I say it was also well-deserved. Hopkins plays Lecter as brilliant yet insane, making him one of the more interesting villains in movie history.\r\n",
      "Scott Glenn plays Crawford very well for the time he's onscreen.\r\n",
      "Ted Levine plays \"Buffalo Bill\" as straight up crazy, and does a very good job of making us hate him.\r\n",
      "Brooke Smith is only supposed to play Catherine Martin as scared and she does - with dead-on accuracy.\r\n",
      "\r\n",
      "Ted Tally won a well-deserved Oscar for his screenplay, adapted from Thomas Harris' novel of the same name. Tally doesn't feel the need to focus on violence and gore, which is one of the movie's strengths. Instead he focuses on the characters, and I'd be lying if I said he didn't flesh them out very, very, very, well.\r\n",
      "\r\n",
      "Jonathan Demme also won an Oscar for his directing and he does a very good job of it.\r\n",
      "\r\n",
      "_The Silence of the Lambs_ is relentlessly thrilling and it holds me to my seat until the last frame every time I see it, all without relying on excessive gore.\r\n",
      "I've already mentioned that _The Silence of the Lambs_ doesn't scare me, so it may - or may not - scare you, depending on what you're afraid of. Admittedly, there are a few creepy things displayed onscreen so I can see why it would scare some viewers.\r\n",
      "Either way, I can't recommend _The Silence of the Lambs_ enough, and everybody should see it at least once.\r\n",
      "\r\n",
      "_The Silence of the Lambs_ is a childhood favorite of mine, and it holds up very, very well almost 25 years after its release. It's relentlessly thrilling, flawlessly acted, flawlessly written, flawlessly directed, and one of the few movies that actually deserved all the Oscars it won.\n"
     ]
    }
   ],
   "source": [
    "for row in df_review.itertuples():\n",
    "    print (row.author, row.content)"
   ]
  },
  {
   "cell_type": "code",
   "execution_count": 59,
   "metadata": {
    "scrolled": true
   },
   "outputs": [
    {
     "name": "stdout",
     "output_type": "stream",
     "text": [
      "Ted Fraraccio : {'anger': 0.0687854886, 'joy': 0.1784714013, 'sadness': 0.4140207469, 'fear': 0.2557959557, 'surprise': 0.0829264}\n"
     ]
    }
   ],
   "source": [
    "for row in df_review.itertuples():\n",
    "    print( row.author, \":\", indicoio.emotion( row.content ) )"
   ]
  },
  {
   "cell_type": "code",
   "execution_count": null,
   "metadata": {
    "collapsed": true
   },
   "outputs": [],
   "source": []
  },
  {
   "cell_type": "code",
   "execution_count": 60,
   "metadata": {},
   "outputs": [
    {
     "data": {
      "text/plain": [
       "{'anger': 0.055252198100000004,\n",
       " 'fear': 0.048116561,\n",
       " 'joy': 0.1691451073,\n",
       " 'sadness': 0.245955795,\n",
       " 'surprise': 0.4815303683}"
      ]
     },
     "execution_count": 60,
     "metadata": {},
     "output_type": "execute_result"
    }
   ],
   "source": [
    "indicoio.emotion( \"This was probably the best movie I've ever seen\" )"
   ]
  }
 ],
 "metadata": {
  "kernelspec": {
   "display_name": "Python 3",
   "language": "python",
   "name": "python3"
  },
  "language_info": {
   "codemirror_mode": {
    "name": "ipython",
    "version": 3
   },
   "file_extension": ".py",
   "mimetype": "text/x-python",
   "name": "python",
   "nbconvert_exporter": "python",
   "pygments_lexer": "ipython3",
   "version": "3.6.2"
  }
 },
 "nbformat": 4,
 "nbformat_minor": 2
}
