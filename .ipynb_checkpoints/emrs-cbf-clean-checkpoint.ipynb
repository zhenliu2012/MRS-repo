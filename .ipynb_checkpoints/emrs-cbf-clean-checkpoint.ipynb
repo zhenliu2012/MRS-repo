{
 "cells": [
  {
   "cell_type": "code",
   "execution_count": 15,
   "metadata": {
    "collapsed": true
   },
   "outputs": [],
   "source": [
    "import pandas as pd\n",
    "import ast\n",
    "from sklearn.feature_extraction.text import TfidfVectorizer, CountVectorizer\n",
    "from sklearn.metrics.pairwise import linear_kernel, cosine_similarity\n",
    "from nltk.stem.snowball import SnowballStemmer #porterstemmer?\n",
    "import numpy as np"
   ]
  },
  {
   "cell_type": "code",
   "execution_count": 16,
   "metadata": {
    "collapsed": true
   },
   "outputs": [],
   "source": [
    "def getdirector( crew ):\n",
    "    for i in crew:\n",
    "        if i['job'] == 'Director':\n",
    "            return i['name']\n",
    "    return np.nan"
   ]
  },
  {
   "cell_type": "code",
   "execution_count": 17,
   "metadata": {
    "collapsed": true
   },
   "outputs": [],
   "source": [
    "def getrecommendation( movie_title, sim_matrix, df, perc = 0.80 ):\n",
    "    \"\"\" \n",
    "    the similarity matrix and data frame MUST have the same indices\n",
    "    MAKE SURE: df.reset_index()\n",
    "    \n",
    "    imdb weighted rating:\n",
    "    v is the number of votes for the movie\n",
    "    m is the minimum votes required to be listed in the chart\n",
    "    R is the average rating of the movie\n",
    "    C is the mean vote across the whole report\n",
    "    \"\"\"\n",
    "    idx = np.asscalar( df.loc[ df['title'] == movie_title ].index.values[0] )\n",
    "    sim_idx = sim_matrix[ idx ].argsort()[::-1][1:41].flatten().tolist()\n",
    "    df_top = df[ ['title','director','cast','genres','keywords','vote_count', 'vote_average']].iloc[ sim_idx ]\n",
    "    df_top['similarity'] = sorted( sim_matrix[ idx ], reverse = True )[1:41]\n",
    "\n",
    "    m = df_top.loc[ df_top['vote_count'].notnull(), 'vote_count' ].quantile(0.5)\n",
    "    C = df_top.loc[ df_top['vote_average'].notnull(), 'vote_average' ].mean()\n",
    "    \n",
    "    df_top = df_top.loc[( df_top['vote_count'] >= m ) &\n",
    "                          ( df_top['vote_count'].notnull() ) &\n",
    "                          ( df_top['vote_average'].notnull() ) ]    \n",
    "    v = df_top['vote_count'].values\n",
    "    R = df_top['vote_average'].values\n",
    "    r =  ( v * R / ( v + m ) + m * C / ( v + m ) ) / 10. * ( 1 - perc )\n",
    "#    r = df_top['vote_average'].values / 10 * ( 1 - perc )\n",
    "    sim_ = df_top['similarity'].values * perc\n",
    "    score = sim_ + r \n",
    "    df_top['score'] = score.tolist()\n",
    "    return( df_top.sort_values( by='score', ascending=False ) )"
   ]
  },
  {
   "cell_type": "code",
   "execution_count": 18,
   "metadata": {
    "collapsed": true
   },
   "outputs": [],
   "source": [
    "df_md_small = pd.read_csv('../movielens_small/metadata_clean.csv')"
   ]
  },
  {
   "cell_type": "code",
   "execution_count": 19,
   "metadata": {
    "collapsed": true
   },
   "outputs": [],
   "source": [
    "df_md_small['genres'] = df_md_small['genres'].apply(ast.literal_eval)\n",
    "df_md_small['cast'] = df_md_small['cast'].apply(ast.literal_eval)\n",
    "df_md_small['keywords'] = df_md_small['keywords'].apply(ast.literal_eval)"
   ]
  },
  {
   "cell_type": "code",
   "execution_count": 20,
   "metadata": {
    "collapsed": true
   },
   "outputs": [],
   "source": [
    "df_md_small['director_'] = ( df_md_small['director'].\n",
    "                            astype(str).\n",
    "                            apply( lambda x: x.lower().replace( \" \", \"\") ).\n",
    "                            apply( lambda x: [x,x]) ) # more weights?"
   ]
  },
  {
   "cell_type": "code",
   "execution_count": 21,
   "metadata": {
    "collapsed": true
   },
   "outputs": [],
   "source": [
    "df_md_small['cast_'] = ( df_md_small['cast'].\n",
    "                        apply( lambda x: [i.lower().replace( \" \", \"\") for i in x ]) )"
   ]
  },
  {
   "cell_type": "code",
   "execution_count": 22,
   "metadata": {
    "collapsed": true
   },
   "outputs": [],
   "source": [
    "df_md_small['keywords_'] = ( df_md_small['keywords'].\n",
    "                            apply( lambda x: [SnowballStemmer( 'english' ).stem( i ) for i in x]).\n",
    "                            apply( lambda x: [i.lower().replace( \" \", \"\") for i in x ]) )"
   ]
  },
  {
   "cell_type": "code",
   "execution_count": 23,
   "metadata": {
    "collapsed": true
   },
   "outputs": [],
   "source": [
    "df_md_small['content'] = ( df_md_small['cast_'] +\n",
    "                          df_md_small['director_'] +\n",
    "                          df_md_small['keywords_'] +\n",
    "                          df_md_small['genres'] ).apply( lambda x: ' '.join( x ) ) # combine all content features"
   ]
  },
  {
   "cell_type": "code",
   "execution_count": 24,
   "metadata": {
    "collapsed": true
   },
   "outputs": [],
   "source": [
    "content_matrix = CountVectorizer(\n",
    "    analyzer = 'word',\n",
    "    ngram_range = (1, 2),\n",
    "    min_df = 0,\n",
    "    stop_words = 'english').fit_transform(df_md_small['content'])\n",
    "cosine_sim = cosine_similarity(content_matrix, content_matrix)"
   ]
  },
  {
   "cell_type": "code",
   "execution_count": 25,
   "metadata": {
    "collapsed": true
   },
   "outputs": [],
   "source": [
    "#getrecommendation( 'The Godfather', cosine_sim, df_md_small ).head(15)"
   ]
  },
  {
   "cell_type": "code",
   "execution_count": 26,
   "metadata": {
    "collapsed": true
   },
   "outputs": [],
   "source": [
    "#getrecommendation( 'Batman', cosine_sim, df_md_small ).head(15)"
   ]
  },
  {
   "cell_type": "code",
   "execution_count": 28,
   "metadata": {},
   "outputs": [
    {
     "data": {
      "text/html": [
       "<div>\n",
       "<style>\n",
       "    .dataframe thead tr:only-child th {\n",
       "        text-align: right;\n",
       "    }\n",
       "\n",
       "    .dataframe thead th {\n",
       "        text-align: left;\n",
       "    }\n",
       "\n",
       "    .dataframe tbody tr th {\n",
       "        vertical-align: top;\n",
       "    }\n",
       "</style>\n",
       "<table border=\"1\" class=\"dataframe\">\n",
       "  <thead>\n",
       "    <tr style=\"text-align: right;\">\n",
       "      <th></th>\n",
       "      <th>title</th>\n",
       "      <th>director</th>\n",
       "      <th>cast</th>\n",
       "      <th>genres</th>\n",
       "      <th>keywords</th>\n",
       "      <th>vote_count</th>\n",
       "      <th>vote_average</th>\n",
       "      <th>similarity</th>\n",
       "      <th>score</th>\n",
       "    </tr>\n",
       "  </thead>\n",
       "  <tbody>\n",
       "    <tr>\n",
       "      <th>990</th>\n",
       "      <td>The Terminator</td>\n",
       "      <td>James Cameron</td>\n",
       "      <td>[Arnold Schwarzenegger, Michael Biehn, Linda H...</td>\n",
       "      <td>[Action, Thriller, Science Fiction]</td>\n",
       "      <td>[saving the world, artificial intelligence, re...</td>\n",
       "      <td>4208</td>\n",
       "      <td>7.4</td>\n",
       "      <td>0.367653</td>\n",
       "      <td>0.367653</td>\n",
       "    </tr>\n",
       "    <tr>\n",
       "      <th>7404</th>\n",
       "      <td>The Book of Eli</td>\n",
       "      <td>Albert Hughes</td>\n",
       "      <td>[Denzel Washington, Gary Oldman, Mila Kunis, R...</td>\n",
       "      <td>[Action, Thriller, Science Fiction]</td>\n",
       "      <td>[book, post-apocalyptic, dystopia, faith, blind]</td>\n",
       "      <td>2207</td>\n",
       "      <td>6.6</td>\n",
       "      <td>0.284029</td>\n",
       "      <td>0.284029</td>\n",
       "    </tr>\n",
       "    <tr>\n",
       "      <th>6821</th>\n",
       "      <td>I Am Legend</td>\n",
       "      <td>Francis Lawrence</td>\n",
       "      <td>[Will Smith, Alice Braga, Charlie Tahan, Salli...</td>\n",
       "      <td>[Drama, Horror, Action, Thriller, Science Fict...</td>\n",
       "      <td>[saving the world, lost civilisation, post-apo...</td>\n",
       "      <td>4977</td>\n",
       "      <td>6.9</td>\n",
       "      <td>0.240048</td>\n",
       "      <td>0.240048</td>\n",
       "    </tr>\n",
       "    <tr>\n",
       "      <th>953</th>\n",
       "      <td>Aliens</td>\n",
       "      <td>James Cameron</td>\n",
       "      <td>[Sigourney Weaver, Michael Biehn, James Remar,...</td>\n",
       "      <td>[Horror, Action, Thriller, Science Fiction]</td>\n",
       "      <td>[android, extraterrestrial technology, space m...</td>\n",
       "      <td>3282</td>\n",
       "      <td>7.7</td>\n",
       "      <td>0.235294</td>\n",
       "      <td>0.235294</td>\n",
       "    </tr>\n",
       "    <tr>\n",
       "      <th>2951</th>\n",
       "      <td>Mad Max</td>\n",
       "      <td>George Miller</td>\n",
       "      <td>[Mel Gibson, Joanne Samuel, Hugh Keays-Byrne, ...</td>\n",
       "      <td>[Adventure, Action, Thriller, Science Fiction]</td>\n",
       "      <td>[chain, baby, bridge, post-apocalyptic, dystop...</td>\n",
       "      <td>1235</td>\n",
       "      <td>6.6</td>\n",
       "      <td>0.222566</td>\n",
       "      <td>0.222566</td>\n",
       "    </tr>\n",
       "    <tr>\n",
       "      <th>7205</th>\n",
       "      <td>Terminator Salvation</td>\n",
       "      <td>McG</td>\n",
       "      <td>[Christian Bale, Sam Worthington, Anton Yelchi...</td>\n",
       "      <td>[Action, Science Fiction, Thriller]</td>\n",
       "      <td>[saving the world, artificial intelligence, pr...</td>\n",
       "      <td>2496</td>\n",
       "      <td>5.9</td>\n",
       "      <td>0.215686</td>\n",
       "      <td>0.215686</td>\n",
       "    </tr>\n",
       "    <tr>\n",
       "      <th>8735</th>\n",
       "      <td>Terminator Genisys</td>\n",
       "      <td>Alan Taylor</td>\n",
       "      <td>[Arnold Schwarzenegger, Jason Clarke, Emilia C...</td>\n",
       "      <td>[Science Fiction, Action, Thriller, Adventure]</td>\n",
       "      <td>[saving the world, artificial intelligence, cy...</td>\n",
       "      <td>3677</td>\n",
       "      <td>5.8</td>\n",
       "      <td>0.200040</td>\n",
       "      <td>0.200040</td>\n",
       "    </tr>\n",
       "    <tr>\n",
       "      <th>6766</th>\n",
       "      <td>Resident Evil: Extinction</td>\n",
       "      <td>Russell Mulcahy</td>\n",
       "      <td>[Milla Jovovich, Oded Fehr, Ali Larter, Iain G...</td>\n",
       "      <td>[Horror, Action, Science Fiction]</td>\n",
       "      <td>[clone, mutant, post-apocalyptic, dystopia, co...</td>\n",
       "      <td>1308</td>\n",
       "      <td>6.1</td>\n",
       "      <td>0.196818</td>\n",
       "      <td>0.196818</td>\n",
       "    </tr>\n",
       "    <tr>\n",
       "      <th>4683</th>\n",
       "      <td>Terminator 3: Rise of the Machines</td>\n",
       "      <td>Jonathan Mostow</td>\n",
       "      <td>[Arnold Schwarzenegger, Nick Stahl, Claire Dan...</td>\n",
       "      <td>[Action, Thriller, Science Fiction]</td>\n",
       "      <td>[saving the world, artificial intelligence, ma...</td>\n",
       "      <td>2177</td>\n",
       "      <td>5.9</td>\n",
       "      <td>0.196078</td>\n",
       "      <td>0.196078</td>\n",
       "    </tr>\n",
       "    <tr>\n",
       "      <th>7293</th>\n",
       "      <td>9</td>\n",
       "      <td>Shane Acker</td>\n",
       "      <td>[Christopher Plummer, Martin Landau, John C. R...</td>\n",
       "      <td>[Action, Adventure, Animation, Science Fiction...</td>\n",
       "      <td>[man vs machine, hope, post-apocalyptic, dysto...</td>\n",
       "      <td>1291</td>\n",
       "      <td>6.6</td>\n",
       "      <td>0.196078</td>\n",
       "      <td>0.196078</td>\n",
       "    </tr>\n",
       "  </tbody>\n",
       "</table>\n",
       "</div>"
      ],
      "text/plain": [
       "                                   title          director  \\\n",
       "990                       The Terminator     James Cameron   \n",
       "7404                     The Book of Eli     Albert Hughes   \n",
       "6821                         I Am Legend  Francis Lawrence   \n",
       "953                               Aliens     James Cameron   \n",
       "2951                             Mad Max     George Miller   \n",
       "7205                Terminator Salvation               McG   \n",
       "8735                  Terminator Genisys       Alan Taylor   \n",
       "6766           Resident Evil: Extinction   Russell Mulcahy   \n",
       "4683  Terminator 3: Rise of the Machines   Jonathan Mostow   \n",
       "7293                                   9       Shane Acker   \n",
       "\n",
       "                                                   cast  \\\n",
       "990   [Arnold Schwarzenegger, Michael Biehn, Linda H...   \n",
       "7404  [Denzel Washington, Gary Oldman, Mila Kunis, R...   \n",
       "6821  [Will Smith, Alice Braga, Charlie Tahan, Salli...   \n",
       "953   [Sigourney Weaver, Michael Biehn, James Remar,...   \n",
       "2951  [Mel Gibson, Joanne Samuel, Hugh Keays-Byrne, ...   \n",
       "7205  [Christian Bale, Sam Worthington, Anton Yelchi...   \n",
       "8735  [Arnold Schwarzenegger, Jason Clarke, Emilia C...   \n",
       "6766  [Milla Jovovich, Oded Fehr, Ali Larter, Iain G...   \n",
       "4683  [Arnold Schwarzenegger, Nick Stahl, Claire Dan...   \n",
       "7293  [Christopher Plummer, Martin Landau, John C. R...   \n",
       "\n",
       "                                                 genres  \\\n",
       "990                 [Action, Thriller, Science Fiction]   \n",
       "7404                [Action, Thriller, Science Fiction]   \n",
       "6821  [Drama, Horror, Action, Thriller, Science Fict...   \n",
       "953         [Horror, Action, Thriller, Science Fiction]   \n",
       "2951     [Adventure, Action, Thriller, Science Fiction]   \n",
       "7205                [Action, Science Fiction, Thriller]   \n",
       "8735     [Science Fiction, Action, Thriller, Adventure]   \n",
       "6766                  [Horror, Action, Science Fiction]   \n",
       "4683                [Action, Thriller, Science Fiction]   \n",
       "7293  [Action, Adventure, Animation, Science Fiction...   \n",
       "\n",
       "                                               keywords  vote_count  \\\n",
       "990   [saving the world, artificial intelligence, re...        4208   \n",
       "7404   [book, post-apocalyptic, dystopia, faith, blind]        2207   \n",
       "6821  [saving the world, lost civilisation, post-apo...        4977   \n",
       "953   [android, extraterrestrial technology, space m...        3282   \n",
       "2951  [chain, baby, bridge, post-apocalyptic, dystop...        1235   \n",
       "7205  [saving the world, artificial intelligence, pr...        2496   \n",
       "8735  [saving the world, artificial intelligence, cy...        3677   \n",
       "6766  [clone, mutant, post-apocalyptic, dystopia, co...        1308   \n",
       "4683  [saving the world, artificial intelligence, ma...        2177   \n",
       "7293  [man vs machine, hope, post-apocalyptic, dysto...        1291   \n",
       "\n",
       "      vote_average  similarity     score  \n",
       "990            7.4    0.367653  0.367653  \n",
       "7404           6.6    0.284029  0.284029  \n",
       "6821           6.9    0.240048  0.240048  \n",
       "953            7.7    0.235294  0.235294  \n",
       "2951           6.6    0.222566  0.222566  \n",
       "7205           5.9    0.215686  0.215686  \n",
       "8735           5.8    0.200040  0.200040  \n",
       "6766           6.1    0.196818  0.196818  \n",
       "4683           5.9    0.196078  0.196078  \n",
       "7293           6.6    0.196078  0.196078  "
      ]
     },
     "execution_count": 28,
     "metadata": {},
     "output_type": "execute_result"
    }
   ],
   "source": [
    "getrecommendation( 'Terminator 2: Judgment Day', cosine_sim, df_md_small, 1 ).head(10)"
   ]
  }
 ],
 "metadata": {
  "kernelspec": {
   "display_name": "Python 3",
   "language": "python",
   "name": "python3"
  },
  "language_info": {
   "codemirror_mode": {
    "name": "ipython",
    "version": 3
   },
   "file_extension": ".py",
   "mimetype": "text/x-python",
   "name": "python",
   "nbconvert_exporter": "python",
   "pygments_lexer": "ipython3",
   "version": "3.6.2"
  }
 },
 "nbformat": 4,
 "nbformat_minor": 2
}
