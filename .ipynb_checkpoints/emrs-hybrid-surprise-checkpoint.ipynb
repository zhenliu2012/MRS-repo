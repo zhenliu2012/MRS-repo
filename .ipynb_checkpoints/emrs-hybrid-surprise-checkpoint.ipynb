{
 "cells": [
  {
   "cell_type": "code",
   "execution_count": 174,
   "metadata": {},
   "outputs": [],
   "source": [
    "import pandas as pd\n",
    "import numpy as np\n",
    "import ast\n",
    "from sklearn.feature_extraction.text import CountVectorizer\n",
    "from sklearn.metrics.pairwise import cosine_similarity\n",
    "from nltk.stem.snowball import SnowballStemmer #porterstemmer?\n",
    "from scipy.sparse.linalg import svds\n",
    "from scipy.stats import percentileofscore\n",
    "from surprise import SVD\n",
    "from surprise import Dataset\n",
    "from surprise import Reader"
   ]
  },
  {
   "cell_type": "code",
   "execution_count": 175,
   "metadata": {
    "collapsed": true
   },
   "outputs": [],
   "source": [
    "def getpredictions( predictions, userId ):\n",
    "    user_pred = []\n",
    "    for uid, iid, true_r, est, _ in predictions:\n",
    "        if uid == userId :\n",
    "            user_pred.append( (iid, est) )\n",
    "    df_userp = pd.DataFrame( user_pred, columns = [ 'movieId', 'rating_pred'] )\n",
    "    df_userp['movieId'] = df_userp['movieId'].astype(int)\n",
    "    return( df_userp )"
   ]
  },
  {
   "cell_type": "code",
   "execution_count": 176,
   "metadata": {
    "collapsed": true
   },
   "outputs": [],
   "source": [
    "df_md_small = pd.read_csv('../movielens_small/metadata_clean.csv')\n",
    "df_small = pd.read_csv('../movielens_small/ratings_clean.csv')"
   ]
  },
  {
   "cell_type": "code",
   "execution_count": 177,
   "metadata": {
    "collapsed": true
   },
   "outputs": [],
   "source": [
    "reader = Reader()\n",
    "rating_data = Dataset.load_from_df(df_small[['userId', 'movieId', 'rating']], reader)\n",
    "#rating_data.split(n_folds=5)"
   ]
  },
  {
   "cell_type": "code",
   "execution_count": 178,
   "metadata": {},
   "outputs": [
    {
     "data": {
      "text/plain": [
       "<surprise.prediction_algorithms.matrix_factorization.SVD at 0x1a544f8dd8>"
      ]
     },
     "execution_count": 178,
     "metadata": {},
     "output_type": "execute_result"
    }
   ],
   "source": [
    "algo = SVD( biased = True, n_factors = 60, n_epochs = 30 )\n",
    "trainset = rating_data.build_full_trainset()\n",
    "algo.fit(trainset)"
   ]
  },
  {
   "cell_type": "code",
   "execution_count": 179,
   "metadata": {
    "collapsed": true
   },
   "outputs": [],
   "source": [
    "# predict ratings for all pairs (u, i) that are not in the training set.\n",
    "testset = trainset.build_anti_testset()\n",
    "predictions = algo.test(testset)"
   ]
  },
  {
   "cell_type": "code",
   "execution_count": 180,
   "metadata": {},
   "outputs": [],
   "source": [
    "df_md_small['genres'] = df_md_small['genres'].apply(ast.literal_eval)\n",
    "df_md_small['cast'] = df_md_small['cast'].apply(ast.literal_eval)\n",
    "df_md_small['keywords'] = df_md_small['keywords'].apply(ast.literal_eval)"
   ]
  },
  {
   "cell_type": "code",
   "execution_count": 181,
   "metadata": {
    "collapsed": true
   },
   "outputs": [],
   "source": [
    "df_md_small['director_'] = ( df_md_small['director'].\n",
    "                            astype(str).\n",
    "                            apply( lambda x: x.lower().replace( \" \", \"\") ).\n",
    "                            apply( lambda x: [x, x]) ) # more weights"
   ]
  },
  {
   "cell_type": "code",
   "execution_count": 182,
   "metadata": {
    "collapsed": true
   },
   "outputs": [],
   "source": [
    "df_md_small['cast_'] = ( df_md_small['cast'].\n",
    "                        apply( lambda x: [i.lower().replace( \" \", \"\") for i in x ]) )"
   ]
  },
  {
   "cell_type": "code",
   "execution_count": 183,
   "metadata": {
    "collapsed": true
   },
   "outputs": [],
   "source": [
    "df_md_small['keywords_'] = ( df_md_small['keywords'].\n",
    "                            apply( lambda x: [SnowballStemmer( 'english' ).stem( i ) for i in x]).\n",
    "                            apply( lambda x: [i.lower().replace( \" \", \"\") for i in x ]) )"
   ]
  },
  {
   "cell_type": "code",
   "execution_count": 184,
   "metadata": {
    "collapsed": true
   },
   "outputs": [],
   "source": [
    "df_md_small['content'] = ( df_md_small['cast_'] +\n",
    "                          df_md_small['director_'] +\n",
    "                          df_md_small['keywords_'] +\n",
    "                          df_md_small['genres'] ).apply( lambda x: ' '.join( x ) ) # combine all content features"
   ]
  },
  {
   "cell_type": "code",
   "execution_count": 185,
   "metadata": {
    "collapsed": true
   },
   "outputs": [],
   "source": [
    "content_matrix = CountVectorizer(\n",
    "    analyzer = 'word',\n",
    "    ngram_range = (1, 2),\n",
    "    min_df = 0,\n",
    "    stop_words = 'english').fit_transform(df_md_small['content'])\n",
    "cosine_sim = cosine_similarity(content_matrix, content_matrix)"
   ]
  },
  {
   "cell_type": "code",
   "execution_count": 186,
   "metadata": {},
   "outputs": [
    {
     "data": {
      "text/html": [
       "<div>\n",
       "<style>\n",
       "    .dataframe thead tr:only-child th {\n",
       "        text-align: right;\n",
       "    }\n",
       "\n",
       "    .dataframe thead th {\n",
       "        text-align: left;\n",
       "    }\n",
       "\n",
       "    .dataframe tbody tr th {\n",
       "        vertical-align: top;\n",
       "    }\n",
       "</style>\n",
       "<table border=\"1\" class=\"dataframe\">\n",
       "  <thead>\n",
       "    <tr style=\"text-align: right;\">\n",
       "      <th></th>\n",
       "      <th>title</th>\n",
       "      <th>director</th>\n",
       "      <th>genres</th>\n",
       "      <th>cast</th>\n",
       "    </tr>\n",
       "  </thead>\n",
       "  <tbody>\n",
       "    <tr>\n",
       "      <th>522</th>\n",
       "      <td>Terminator 2: Judgment Day</td>\n",
       "      <td>James Cameron</td>\n",
       "      <td>[Action, Thriller, Science Fiction]</td>\n",
       "      <td>[Arnold Schwarzenegger, Linda Hamilton, Robert...</td>\n",
       "    </tr>\n",
       "  </tbody>\n",
       "</table>\n",
       "</div>"
      ],
      "text/plain": [
       "                          title       director  \\\n",
       "522  Terminator 2: Judgment Day  James Cameron   \n",
       "\n",
       "                                  genres  \\\n",
       "522  [Action, Thriller, Science Fiction]   \n",
       "\n",
       "                                                  cast  \n",
       "522  [Arnold Schwarzenegger, Linda Hamilton, Robert...  "
      ]
     },
     "execution_count": 186,
     "metadata": {},
     "output_type": "execute_result"
    }
   ],
   "source": [
    "user_id = 50\n",
    "movie_title = 'Terminator 2: Judgment Day'\n",
    "df_md_small.loc[ df_md_small['title'] == movie_title, ['title', 'director', 'genres', 'cast'] ]"
   ]
  },
  {
   "cell_type": "code",
   "execution_count": 187,
   "metadata": {
    "collapsed": true
   },
   "outputs": [],
   "source": [
    "df_user_rating = ( df_small.loc[ df_small['userId'] == user_id ].\n",
    "               merge(df_md_small, on = 'movieId').\n",
    "               reset_index(drop = True) )"
   ]
  },
  {
   "cell_type": "code",
   "execution_count": 188,
   "metadata": {},
   "outputs": [
    {
     "data": {
      "text/html": [
       "<div>\n",
       "<style>\n",
       "    .dataframe thead tr:only-child th {\n",
       "        text-align: right;\n",
       "    }\n",
       "\n",
       "    .dataframe thead th {\n",
       "        text-align: left;\n",
       "    }\n",
       "\n",
       "    .dataframe tbody tr th {\n",
       "        vertical-align: top;\n",
       "    }\n",
       "</style>\n",
       "<table border=\"1\" class=\"dataframe\">\n",
       "  <thead>\n",
       "    <tr style=\"text-align: right;\">\n",
       "      <th></th>\n",
       "      <th>movieId</th>\n",
       "      <th>title</th>\n",
       "      <th>rating</th>\n",
       "      <th>genres</th>\n",
       "    </tr>\n",
       "  </thead>\n",
       "  <tbody>\n",
       "    <tr>\n",
       "      <th>41</th>\n",
       "      <td>589</td>\n",
       "      <td>Terminator 2: Judgment Day</td>\n",
       "      <td>5.0</td>\n",
       "      <td>[Action, Thriller, Science Fiction]</td>\n",
       "    </tr>\n",
       "    <tr>\n",
       "      <th>0</th>\n",
       "      <td>10</td>\n",
       "      <td>GoldenEye</td>\n",
       "      <td>4.0</td>\n",
       "      <td>[Adventure, Action, Thriller]</td>\n",
       "    </tr>\n",
       "    <tr>\n",
       "      <th>15</th>\n",
       "      <td>292</td>\n",
       "      <td>Outbreak</td>\n",
       "      <td>4.0</td>\n",
       "      <td>[Action, Drama, Science Fiction, Thriller]</td>\n",
       "    </tr>\n",
       "    <tr>\n",
       "      <th>44</th>\n",
       "      <td>780</td>\n",
       "      <td>Independence Day</td>\n",
       "      <td>4.0</td>\n",
       "      <td>[Action, Adventure, Science Fiction]</td>\n",
       "    </tr>\n",
       "    <tr>\n",
       "      <th>37</th>\n",
       "      <td>527</td>\n",
       "      <td>Schindler's List</td>\n",
       "      <td>4.0</td>\n",
       "      <td>[Drama, History, War]</td>\n",
       "    </tr>\n",
       "    <tr>\n",
       "      <th>35</th>\n",
       "      <td>480</td>\n",
       "      <td>Jurassic Park</td>\n",
       "      <td>4.0</td>\n",
       "      <td>[Adventure, Science Fiction]</td>\n",
       "    </tr>\n",
       "    <tr>\n",
       "      <th>31</th>\n",
       "      <td>440</td>\n",
       "      <td>Dave</td>\n",
       "      <td>4.0</td>\n",
       "      <td>[Comedy]</td>\n",
       "    </tr>\n",
       "    <tr>\n",
       "      <th>26</th>\n",
       "      <td>368</td>\n",
       "      <td>Maverick</td>\n",
       "      <td>4.0</td>\n",
       "      <td>[Action, Adventure, Comedy, Drama, Western]</td>\n",
       "    </tr>\n",
       "    <tr>\n",
       "      <th>25</th>\n",
       "      <td>367</td>\n",
       "      <td>The Mask</td>\n",
       "      <td>4.0</td>\n",
       "      <td>[Romance, Comedy, Crime, Fantasy]</td>\n",
       "    </tr>\n",
       "    <tr>\n",
       "      <th>24</th>\n",
       "      <td>357</td>\n",
       "      <td>Four Weddings and a Funeral</td>\n",
       "      <td>4.0</td>\n",
       "      <td>[Comedy, Drama, Romance]</td>\n",
       "    </tr>\n",
       "  </tbody>\n",
       "</table>\n",
       "</div>"
      ],
      "text/plain": [
       "    movieId                        title  rating  \\\n",
       "41      589   Terminator 2: Judgment Day     5.0   \n",
       "0        10                    GoldenEye     4.0   \n",
       "15      292                     Outbreak     4.0   \n",
       "44      780             Independence Day     4.0   \n",
       "37      527             Schindler's List     4.0   \n",
       "35      480                Jurassic Park     4.0   \n",
       "31      440                         Dave     4.0   \n",
       "26      368                     Maverick     4.0   \n",
       "25      367                     The Mask     4.0   \n",
       "24      357  Four Weddings and a Funeral     4.0   \n",
       "\n",
       "                                         genres  \n",
       "41          [Action, Thriller, Science Fiction]  \n",
       "0                 [Adventure, Action, Thriller]  \n",
       "15   [Action, Drama, Science Fiction, Thriller]  \n",
       "44         [Action, Adventure, Science Fiction]  \n",
       "37                        [Drama, History, War]  \n",
       "35                 [Adventure, Science Fiction]  \n",
       "31                                     [Comedy]  \n",
       "26  [Action, Adventure, Comedy, Drama, Western]  \n",
       "25            [Romance, Comedy, Crime, Fantasy]  \n",
       "24                     [Comedy, Drama, Romance]  "
      ]
     },
     "execution_count": 188,
     "metadata": {},
     "output_type": "execute_result"
    }
   ],
   "source": [
    "# user's top rated movies\n",
    "df_user_rating[ ['movieId', 'title', 'rating', 'genres'] ].sort_values('rating', ascending = False ).head(10)"
   ]
  },
  {
   "cell_type": "code",
   "execution_count": 189,
   "metadata": {},
   "outputs": [
    {
     "data": {
      "text/plain": [
       "(8979, 2)"
      ]
     },
     "execution_count": 189,
     "metadata": {},
     "output_type": "execute_result"
    }
   ],
   "source": [
    "df_userp = getpredictions( predictions, user_id )\n",
    "df_userp.shape"
   ]
  },
  {
   "cell_type": "code",
   "execution_count": 190,
   "metadata": {},
   "outputs": [
    {
     "data": {
      "text/html": [
       "<div>\n",
       "<style>\n",
       "    .dataframe thead tr:only-child th {\n",
       "        text-align: right;\n",
       "    }\n",
       "\n",
       "    .dataframe thead th {\n",
       "        text-align: left;\n",
       "    }\n",
       "\n",
       "    .dataframe tbody tr th {\n",
       "        vertical-align: top;\n",
       "    }\n",
       "</style>\n",
       "<table border=\"1\" class=\"dataframe\">\n",
       "  <thead>\n",
       "    <tr style=\"text-align: right;\">\n",
       "      <th></th>\n",
       "      <th>movieId</th>\n",
       "      <th>rating_pred</th>\n",
       "      <th>title</th>\n",
       "    </tr>\n",
       "  </thead>\n",
       "  <tbody>\n",
       "    <tr>\n",
       "      <th>0</th>\n",
       "      <td>1198</td>\n",
       "      <td>4.371471</td>\n",
       "      <td>Raiders of the Lost Ark</td>\n",
       "    </tr>\n",
       "    <tr>\n",
       "      <th>1</th>\n",
       "      <td>969</td>\n",
       "      <td>4.340013</td>\n",
       "      <td>The African Queen</td>\n",
       "    </tr>\n",
       "    <tr>\n",
       "      <th>2</th>\n",
       "      <td>1217</td>\n",
       "      <td>4.323491</td>\n",
       "      <td>Ran</td>\n",
       "    </tr>\n",
       "    <tr>\n",
       "      <th>3</th>\n",
       "      <td>2300</td>\n",
       "      <td>4.320075</td>\n",
       "      <td>The Producers</td>\n",
       "    </tr>\n",
       "    <tr>\n",
       "      <th>4</th>\n",
       "      <td>1172</td>\n",
       "      <td>4.310298</td>\n",
       "      <td>Cinema Paradiso</td>\n",
       "    </tr>\n",
       "    <tr>\n",
       "      <th>5</th>\n",
       "      <td>1237</td>\n",
       "      <td>4.280328</td>\n",
       "      <td>The Seventh Seal</td>\n",
       "    </tr>\n",
       "    <tr>\n",
       "      <th>6</th>\n",
       "      <td>1252</td>\n",
       "      <td>4.259827</td>\n",
       "      <td>Chinatown</td>\n",
       "    </tr>\n",
       "    <tr>\n",
       "      <th>7</th>\n",
       "      <td>5782</td>\n",
       "      <td>4.250366</td>\n",
       "      <td>The Professional</td>\n",
       "    </tr>\n",
       "    <tr>\n",
       "      <th>8</th>\n",
       "      <td>922</td>\n",
       "      <td>4.238978</td>\n",
       "      <td>Sunset Boulevard</td>\n",
       "    </tr>\n",
       "    <tr>\n",
       "      <th>9</th>\n",
       "      <td>2064</td>\n",
       "      <td>4.236367</td>\n",
       "      <td>Roger &amp; Me</td>\n",
       "    </tr>\n",
       "  </tbody>\n",
       "</table>\n",
       "</div>"
      ],
      "text/plain": [
       "   movieId  rating_pred                    title\n",
       "0     1198     4.371471  Raiders of the Lost Ark\n",
       "1      969     4.340013        The African Queen\n",
       "2     1217     4.323491                      Ran\n",
       "3     2300     4.320075            The Producers\n",
       "4     1172     4.310298          Cinema Paradiso\n",
       "5     1237     4.280328         The Seventh Seal\n",
       "6     1252     4.259827                Chinatown\n",
       "7     5782     4.250366         The Professional\n",
       "8      922     4.238978         Sunset Boulevard\n",
       "9     2064     4.236367               Roger & Me"
      ]
     },
     "execution_count": 190,
     "metadata": {},
     "output_type": "execute_result"
    }
   ],
   "source": [
    "# top recommendations using CF\n",
    "df_userp.sort_values( 'rating_pred', ascending = False ).merge( df_md_small[['movieId', 'title']], on = 'movieId').head(10)"
   ]
  },
  {
   "cell_type": "code",
   "execution_count": 196,
   "metadata": {},
   "outputs": [
    {
     "data": {
      "text/plain": [
       "(9082, 4)"
      ]
     },
     "execution_count": 196,
     "metadata": {},
     "output_type": "execute_result"
    }
   ],
   "source": [
    "idx = np.asscalar( df_md_small.loc[ df_md_small['title'] == movie_title ].index.values[0] )\n",
    "df_cbp = df_md_small[['movieId', 'title', 'genres']].reset_index( drop = True )\n",
    "df_cbp[ 'sim' ] = cosine_sim[ idx ].flatten().tolist()\n",
    "df_cbp.shape"
   ]
  },
  {
   "cell_type": "code",
   "execution_count": 197,
   "metadata": {},
   "outputs": [
    {
     "data": {
      "text/html": [
       "<div>\n",
       "<style>\n",
       "    .dataframe thead tr:only-child th {\n",
       "        text-align: right;\n",
       "    }\n",
       "\n",
       "    .dataframe thead th {\n",
       "        text-align: left;\n",
       "    }\n",
       "\n",
       "    .dataframe tbody tr th {\n",
       "        vertical-align: top;\n",
       "    }\n",
       "</style>\n",
       "<table border=\"1\" class=\"dataframe\">\n",
       "  <thead>\n",
       "    <tr style=\"text-align: right;\">\n",
       "      <th></th>\n",
       "      <th>movieId</th>\n",
       "      <th>title</th>\n",
       "      <th>genres</th>\n",
       "      <th>sim</th>\n",
       "    </tr>\n",
       "  </thead>\n",
       "  <tbody>\n",
       "    <tr>\n",
       "      <th>522</th>\n",
       "      <td>589</td>\n",
       "      <td>Terminator 2: Judgment Day</td>\n",
       "      <td>[Action, Thriller, Science Fiction]</td>\n",
       "      <td>1.000000</td>\n",
       "    </tr>\n",
       "    <tr>\n",
       "      <th>990</th>\n",
       "      <td>1240</td>\n",
       "      <td>The Terminator</td>\n",
       "      <td>[Action, Thriller, Science Fiction]</td>\n",
       "      <td>0.367653</td>\n",
       "    </tr>\n",
       "    <tr>\n",
       "      <th>7404</th>\n",
       "      <td>73321</td>\n",
       "      <td>The Book of Eli</td>\n",
       "      <td>[Action, Thriller, Science Fiction]</td>\n",
       "      <td>0.284029</td>\n",
       "    </tr>\n",
       "    <tr>\n",
       "      <th>3671</th>\n",
       "      <td>4691</td>\n",
       "      <td>Def-Con 4</td>\n",
       "      <td>[Horror, Science Fiction, Thriller, Action]</td>\n",
       "      <td>0.243757</td>\n",
       "    </tr>\n",
       "    <tr>\n",
       "      <th>6821</th>\n",
       "      <td>56174</td>\n",
       "      <td>I Am Legend</td>\n",
       "      <td>[Drama, Horror, Action, Thriller, Science Fict...</td>\n",
       "      <td>0.240048</td>\n",
       "    </tr>\n",
       "    <tr>\n",
       "      <th>953</th>\n",
       "      <td>1200</td>\n",
       "      <td>Aliens</td>\n",
       "      <td>[Horror, Action, Thriller, Science Fiction]</td>\n",
       "      <td>0.235294</td>\n",
       "    </tr>\n",
       "    <tr>\n",
       "      <th>2024</th>\n",
       "      <td>2531</td>\n",
       "      <td>Battle for the Planet of the Apes</td>\n",
       "      <td>[Action, Science Fiction]</td>\n",
       "      <td>0.234023</td>\n",
       "    </tr>\n",
       "    <tr>\n",
       "      <th>901</th>\n",
       "      <td>1127</td>\n",
       "      <td>The Abyss</td>\n",
       "      <td>[Adventure, Action, Thriller, Science Fiction]</td>\n",
       "      <td>0.230812</td>\n",
       "    </tr>\n",
       "    <tr>\n",
       "      <th>2430</th>\n",
       "      <td>3032</td>\n",
       "      <td>The Omega Man</td>\n",
       "      <td>[Action, Science Fiction, Thriller]</td>\n",
       "      <td>0.230205</td>\n",
       "    </tr>\n",
       "    <tr>\n",
       "      <th>2951</th>\n",
       "      <td>3702</td>\n",
       "      <td>Mad Max</td>\n",
       "      <td>[Adventure, Action, Thriller, Science Fiction]</td>\n",
       "      <td>0.222566</td>\n",
       "    </tr>\n",
       "    <tr>\n",
       "      <th>7205</th>\n",
       "      <td>68791</td>\n",
       "      <td>Terminator Salvation</td>\n",
       "      <td>[Action, Science Fiction, Thriller]</td>\n",
       "      <td>0.215686</td>\n",
       "    </tr>\n",
       "  </tbody>\n",
       "</table>\n",
       "</div>"
      ],
      "text/plain": [
       "      movieId                              title  \\\n",
       "522       589         Terminator 2: Judgment Day   \n",
       "990      1240                     The Terminator   \n",
       "7404    73321                    The Book of Eli   \n",
       "3671     4691                          Def-Con 4   \n",
       "6821    56174                        I Am Legend   \n",
       "953      1200                             Aliens   \n",
       "2024     2531  Battle for the Planet of the Apes   \n",
       "901      1127                          The Abyss   \n",
       "2430     3032                      The Omega Man   \n",
       "2951     3702                            Mad Max   \n",
       "7205    68791               Terminator Salvation   \n",
       "\n",
       "                                                 genres       sim  \n",
       "522                 [Action, Thriller, Science Fiction]  1.000000  \n",
       "990                 [Action, Thriller, Science Fiction]  0.367653  \n",
       "7404                [Action, Thriller, Science Fiction]  0.284029  \n",
       "3671        [Horror, Science Fiction, Thriller, Action]  0.243757  \n",
       "6821  [Drama, Horror, Action, Thriller, Science Fict...  0.240048  \n",
       "953         [Horror, Action, Thriller, Science Fiction]  0.235294  \n",
       "2024                          [Action, Science Fiction]  0.234023  \n",
       "901      [Adventure, Action, Thriller, Science Fiction]  0.230812  \n",
       "2430                [Action, Science Fiction, Thriller]  0.230205  \n",
       "2951     [Adventure, Action, Thriller, Science Fiction]  0.222566  \n",
       "7205                [Action, Science Fiction, Thriller]  0.215686  "
      ]
     },
     "execution_count": 197,
     "metadata": {},
     "output_type": "execute_result"
    }
   ],
   "source": [
    "# top recommendations using content-based filtering (CBF)\n",
    "df_cbp.sort_values( 'sim', ascending = False ).head(11)"
   ]
  },
  {
   "cell_type": "code",
   "execution_count": 193,
   "metadata": {
    "collapsed": true
   },
   "outputs": [],
   "source": [
    "df_c = df_userp.merge( df_cbp, on = 'movieId' )\n",
    "x = df_c['rating_pred'].values\n",
    "y = df_c['sim'].values\n",
    "x_p = np.array( [percentileofscore(x, i, 'mean') for i in x] )\n",
    "y_p = np.array( [percentileofscore(y, i, 'mean') for i in y] )\n",
    "df_c['rating_p'] = x_p.tolist()\n",
    "df_c['sim_p'] = y_p.tolist()"
   ]
  },
  {
   "cell_type": "code",
   "execution_count": 200,
   "metadata": {
    "collapsed": true
   },
   "outputs": [],
   "source": [
    "weight_cb = 0.6\n",
    "score = x_p * ( 1 - weight_cb ) + y_p * weight_cb\n",
    "df_c['score'] = score.tolist()"
   ]
  },
  {
   "cell_type": "code",
   "execution_count": 210,
   "metadata": {},
   "outputs": [
    {
     "data": {
      "text/html": [
       "<div>\n",
       "<style>\n",
       "    .dataframe thead tr:only-child th {\n",
       "        text-align: right;\n",
       "    }\n",
       "\n",
       "    .dataframe thead th {\n",
       "        text-align: left;\n",
       "    }\n",
       "\n",
       "    .dataframe tbody tr th {\n",
       "        vertical-align: top;\n",
       "    }\n",
       "</style>\n",
       "<table border=\"1\" class=\"dataframe\">\n",
       "  <thead>\n",
       "    <tr style=\"text-align: right;\">\n",
       "      <th></th>\n",
       "      <th>title</th>\n",
       "      <th>director</th>\n",
       "      <th>genres</th>\n",
       "      <th>cast</th>\n",
       "    </tr>\n",
       "  </thead>\n",
       "  <tbody>\n",
       "    <tr>\n",
       "      <th>0</th>\n",
       "      <td>Delicatessen</td>\n",
       "      <td>Jean-Pierre Jeunet</td>\n",
       "      <td>[Comedy, Science Fiction, Fantasy]</td>\n",
       "      <td>[Dominique Pinon, Marie-Laure Dougnac, Jean-Cl...</td>\n",
       "    </tr>\n",
       "    <tr>\n",
       "      <th>1</th>\n",
       "      <td>The Terminator</td>\n",
       "      <td>James Cameron</td>\n",
       "      <td>[Action, Thriller, Science Fiction]</td>\n",
       "      <td>[Arnold Schwarzenegger, Michael Biehn, Linda H...</td>\n",
       "    </tr>\n",
       "    <tr>\n",
       "      <th>2</th>\n",
       "      <td>Serenity</td>\n",
       "      <td>Joss Whedon</td>\n",
       "      <td>[Science Fiction, Action, Adventure, Thriller]</td>\n",
       "      <td>[Nathan Fillion, Gina Torres, Alan Tudyk, More...</td>\n",
       "    </tr>\n",
       "    <tr>\n",
       "      <th>3</th>\n",
       "      <td>Star Trek: First Contact</td>\n",
       "      <td>Jonathan Frakes</td>\n",
       "      <td>[Science Fiction, Action, Adventure, Thriller]</td>\n",
       "      <td>[Patrick Stewart, Jonathan Frakes, Brent Spine...</td>\n",
       "    </tr>\n",
       "    <tr>\n",
       "      <th>4</th>\n",
       "      <td>Mad Max 2: The Road Warrior</td>\n",
       "      <td>George Miller</td>\n",
       "      <td>[Adventure, Action, Thriller, Science Fiction]</td>\n",
       "      <td>[Mel Gibson, Bruce Spence, Michael Preston, Ma...</td>\n",
       "    </tr>\n",
       "  </tbody>\n",
       "</table>\n",
       "</div>"
      ],
      "text/plain": [
       "                         title            director  \\\n",
       "0                 Delicatessen  Jean-Pierre Jeunet   \n",
       "1               The Terminator       James Cameron   \n",
       "2                     Serenity         Joss Whedon   \n",
       "3     Star Trek: First Contact     Jonathan Frakes   \n",
       "4  Mad Max 2: The Road Warrior       George Miller   \n",
       "\n",
       "                                           genres  \\\n",
       "0              [Comedy, Science Fiction, Fantasy]   \n",
       "1             [Action, Thriller, Science Fiction]   \n",
       "2  [Science Fiction, Action, Adventure, Thriller]   \n",
       "3  [Science Fiction, Action, Adventure, Thriller]   \n",
       "4  [Adventure, Action, Thriller, Science Fiction]   \n",
       "\n",
       "                                                cast  \n",
       "0  [Dominique Pinon, Marie-Laure Dougnac, Jean-Cl...  \n",
       "1  [Arnold Schwarzenegger, Michael Biehn, Linda H...  \n",
       "2  [Nathan Fillion, Gina Torres, Alan Tudyk, More...  \n",
       "3  [Patrick Stewart, Jonathan Frakes, Brent Spine...  \n",
       "4  [Mel Gibson, Bruce Spence, Michael Preston, Ma...  "
      ]
     },
     "execution_count": 210,
     "metadata": {},
     "output_type": "execute_result"
    }
   ],
   "source": [
    "# top recommendations from hybrid recommendation engine\n",
    "df_c.sort_values( 'score', ascending = False ).iloc[0:5][ ['title'] ].merge( df_md_small[['title', 'director', 'genres', 'cast']], on = 'title').reset_index( drop = True )"
   ]
  },
  {
   "cell_type": "code",
   "execution_count": 213,
   "metadata": {},
   "outputs": [
    {
     "data": {
      "text/html": [
       "<div>\n",
       "<style>\n",
       "    .dataframe thead tr:only-child th {\n",
       "        text-align: right;\n",
       "    }\n",
       "\n",
       "    .dataframe thead th {\n",
       "        text-align: left;\n",
       "    }\n",
       "\n",
       "    .dataframe tbody tr th {\n",
       "        vertical-align: top;\n",
       "    }\n",
       "</style>\n",
       "<table border=\"1\" class=\"dataframe\">\n",
       "  <thead>\n",
       "    <tr style=\"text-align: right;\">\n",
       "      <th></th>\n",
       "      <th>title</th>\n",
       "      <th>rating_pred</th>\n",
       "      <th>sim</th>\n",
       "      <th>rating_p</th>\n",
       "      <th>sim_p</th>\n",
       "      <th>score</th>\n",
       "    </tr>\n",
       "  </thead>\n",
       "  <tbody>\n",
       "    <tr>\n",
       "      <th>0</th>\n",
       "      <td>Delicatessen</td>\n",
       "      <td>3.945775</td>\n",
       "      <td>0.121578</td>\n",
       "      <td>98.412964</td>\n",
       "      <td>98.496492</td>\n",
       "      <td>98.463081</td>\n",
       "    </tr>\n",
       "    <tr>\n",
       "      <th>1</th>\n",
       "      <td>The Terminator</td>\n",
       "      <td>3.802743</td>\n",
       "      <td>0.367653</td>\n",
       "      <td>95.405947</td>\n",
       "      <td>99.994431</td>\n",
       "      <td>98.159038</td>\n",
       "    </tr>\n",
       "    <tr>\n",
       "      <th>2</th>\n",
       "      <td>Serenity</td>\n",
       "      <td>3.886605</td>\n",
       "      <td>0.117647</td>\n",
       "      <td>97.432899</td>\n",
       "      <td>98.245907</td>\n",
       "      <td>97.920704</td>\n",
       "    </tr>\n",
       "    <tr>\n",
       "      <th>3</th>\n",
       "      <td>Star Trek: First Contact</td>\n",
       "      <td>3.851929</td>\n",
       "      <td>0.115406</td>\n",
       "      <td>96.720125</td>\n",
       "      <td>98.140105</td>\n",
       "      <td>97.572113</td>\n",
       "    </tr>\n",
       "    <tr>\n",
       "      <th>4</th>\n",
       "      <td>Mad Max 2: The Road Warrior</td>\n",
       "      <td>3.735432</td>\n",
       "      <td>0.197446</td>\n",
       "      <td>93.122842</td>\n",
       "      <td>99.849649</td>\n",
       "      <td>97.158926</td>\n",
       "    </tr>\n",
       "  </tbody>\n",
       "</table>\n",
       "</div>"
      ],
      "text/plain": [
       "                         title  rating_pred       sim   rating_p      sim_p  \\\n",
       "0                 Delicatessen     3.945775  0.121578  98.412964  98.496492   \n",
       "1               The Terminator     3.802743  0.367653  95.405947  99.994431   \n",
       "2                     Serenity     3.886605  0.117647  97.432899  98.245907   \n",
       "3     Star Trek: First Contact     3.851929  0.115406  96.720125  98.140105   \n",
       "4  Mad Max 2: The Road Warrior     3.735432  0.197446  93.122842  99.849649   \n",
       "\n",
       "       score  \n",
       "0  98.463081  \n",
       "1  98.159038  \n",
       "2  97.920704  \n",
       "3  97.572113  \n",
       "4  97.158926  "
      ]
     },
     "execution_count": 213,
     "metadata": {},
     "output_type": "execute_result"
    }
   ],
   "source": [
    "# explanation for top recommendations from hybrid recommendation engine\n",
    "df_c.sort_values( 'score', ascending = False ).iloc[0:5][['title', 'rating_pred', 'sim', 'rating_p', 'sim_p', 'score']].reset_index( drop = True )"
   ]
  }
 ],
 "metadata": {
  "kernelspec": {
   "display_name": "Python 3",
   "language": "python",
   "name": "python3"
  },
  "language_info": {
   "codemirror_mode": {
    "name": "ipython",
    "version": 3
   },
   "file_extension": ".py",
   "mimetype": "text/x-python",
   "name": "python",
   "nbconvert_exporter": "python",
   "pygments_lexer": "ipython3",
   "version": "3.6.2"
  }
 },
 "nbformat": 4,
 "nbformat_minor": 2
}
