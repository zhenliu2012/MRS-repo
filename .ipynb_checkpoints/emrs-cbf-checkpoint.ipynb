{
 "cells": [
  {
   "cell_type": "code",
   "execution_count": 1,
   "metadata": {
    "collapsed": true
   },
   "outputs": [],
   "source": [
    "import pandas as pd\n",
    "import ast\n",
    "from sklearn.feature_extraction.text import TfidfVectorizer, CountVectorizer\n",
    "from sklearn.metrics.pairwise import linear_kernel, cosine_similarity\n",
    "from nltk.stem.snowball import SnowballStemmer #porterstemmer?\n",
    "import numpy as np"
   ]
  },
  {
   "cell_type": "code",
   "execution_count": 2,
   "metadata": {
    "collapsed": true
   },
   "outputs": [],
   "source": [
    "def getdirector( crew ):\n",
    "    for i in crew:\n",
    "        if i['job'] == 'Director':\n",
    "            return i['name']\n",
    "    return np.nan"
   ]
  },
  {
   "cell_type": "code",
   "execution_count": 3,
   "metadata": {
    "collapsed": true
   },
   "outputs": [],
   "source": [
    "def getrecommendation( movie_title, sim_matrix, df, perc = 0.80 ):\n",
    "    \"\"\" \n",
    "    the similarity matrix and data frame MUST have the same indices\n",
    "    MAKE SURE: df.reset_index()\n",
    "    \n",
    "    imdb weighted rating:\n",
    "    v is the number of votes for the movie\n",
    "    m is the minimum votes required to be listed in the chart\n",
    "    R is the average rating of the movie\n",
    "    C is the mean vote across the whole report\n",
    "    \"\"\"\n",
    "    idx = np.asscalar( df.loc[ df['title'] == movie_title ].index.values[0] )\n",
    "    sim_idx = sim_matrix[ idx ].argsort()[::-1][1:41].flatten().tolist()\n",
    "    df_top = df[ ['title','director','cast','genres','keywords','vote_count', 'vote_average']].iloc[ sim_idx ]\n",
    "    df_top['similarity'] = sorted( sim_matrix[ idx ], reverse = True )[1:41]\n",
    "\n",
    "    m = df_top.loc[ df_top['vote_count'].notnull(), 'vote_count' ].quantile(0.5)\n",
    "    C = df_top.loc[ df_top['vote_average'].notnull(), 'vote_average' ].mean()\n",
    "    \n",
    "    df_top = df_top.loc[( df_top['vote_count'] >= m ) &\n",
    "                          ( df_top['vote_count'].notnull() ) &\n",
    "                          ( df_top['vote_average'].notnull() ) ]    \n",
    "    v = df_top['vote_count'].values\n",
    "    R = df_top['vote_average'].values\n",
    "    r =  ( v * R / ( v + m ) + m * C / ( v + m ) ) / 10. * ( 1 - perc )\n",
    "#    r = df_top['vote_average'].values / 10 * ( 1 - perc )\n",
    "    sim_ = df_top['similarity'].values * perc\n",
    "    score = sim_ + r \n",
    "    df_top['score'] = score.tolist()\n",
    "    return( df_top.sort_values( by='score', ascending=False ) )"
   ]
  },
  {
   "cell_type": "code",
   "execution_count": 4,
   "metadata": {},
   "outputs": [
    {
     "name": "stderr",
     "output_type": "stream",
     "text": [
      "I:\\Anaconda\\lib\\site-packages\\IPython\\core\\interactiveshell.py:2698: DtypeWarning: Columns (10) have mixed types. Specify dtype option on import or set low_memory=False.\n",
      "  interactivity=interactivity, compiler=compiler, result=result)\n"
     ]
    }
   ],
   "source": [
    "df_md = pd. read_csv('../movielens_small/movies_metadata.csv')\n",
    "df_link = pd.read_csv('../movielens_small/links_small.csv')\n",
    "df_credits = pd.read_csv( '../movielens_small/credits.csv' )\n",
    "df_keywords = pd.read_csv( '../movielens_small/keywords.csv' )"
   ]
  },
  {
   "cell_type": "code",
   "execution_count": 5,
   "metadata": {
    "collapsed": true
   },
   "outputs": [],
   "source": [
    "df_link = df_link[df_link['tmdbId'].notnull()]['tmdbId'].astype('int')"
   ]
  },
  {
   "cell_type": "code",
   "execution_count": 6,
   "metadata": {
    "collapsed": true
   },
   "outputs": [],
   "source": [
    "df_md['genres'] = ( df_md['genres'].fillna('[]').\n",
    "                   apply(ast.literal_eval).\n",
    "                   apply( lambda x: [i['name'] for i in x] if isinstance(x, list) else []) )"
   ]
  },
  {
   "cell_type": "code",
   "execution_count": 7,
   "metadata": {
    "collapsed": true
   },
   "outputs": [],
   "source": [
    "df_md = df_md.drop([19730, 29503, 35587]) # invalid input in cols id & imdb_id"
   ]
  },
  {
   "cell_type": "code",
   "execution_count": 8,
   "metadata": {
    "collapsed": true
   },
   "outputs": [],
   "source": [
    "df_md['id'] = df_md['id'].astype('int')\n",
    "df_keywords['id'] = df_keywords['id'].astype('int')\n",
    "df_credits['id'] = df_credits['id'].astype('int')"
   ]
  },
  {
   "cell_type": "code",
   "execution_count": 9,
   "metadata": {
    "collapsed": true
   },
   "outputs": [],
   "source": [
    "df_md_small = ( df_md[ df_md['id'].isin(df_link)].\n",
    "               merge(df_credits, on='id').\n",
    "               merge(df_keywords, on='id').\n",
    "               reset_index() )"
   ]
  },
  {
   "cell_type": "code",
   "execution_count": 10,
   "metadata": {
    "collapsed": true
   },
   "outputs": [],
   "source": [
    "df_md_small['director'] = ( df_md_small['crew'].\n",
    "                           apply(ast.literal_eval).\n",
    "                           apply(getdirector).astype('str') )\n",
    "df_md_small['cast'] = ( df_md_small['cast'].\n",
    "                       apply(ast.literal_eval).\n",
    "                       apply( lambda x: [i['name'] for i in x] if isinstance(x, list) else []).\n",
    "                       apply( lambda x: x[:3] if len(x) >=3 else x) )\n",
    "df_md_small['keywords'] = ( df_md_small['keywords'].\n",
    "                           apply(ast.literal_eval).\n",
    "                           apply( lambda x: [i['name'] for i in x] if isinstance(x, list) else []) )"
   ]
  },
  {
   "cell_type": "code",
   "execution_count": 11,
   "metadata": {
    "collapsed": true
   },
   "outputs": [],
   "source": [
    "df_md_small['director_'] = ( df_md_small['director'].\n",
    "                           apply( lambda x: x.lower().replace( \" \", \"\") ).\n",
    "                           apply( lambda x: [x]) ) # more weights?"
   ]
  },
  {
   "cell_type": "code",
   "execution_count": 12,
   "metadata": {
    "collapsed": true
   },
   "outputs": [],
   "source": [
    "df_md_small['cast_'] = ( df_md_small['cast'].\n",
    "                       apply( lambda x: [i.lower().replace( \" \", \"\") for i in x ]) )"
   ]
  },
  {
   "cell_type": "code",
   "execution_count": 13,
   "metadata": {
    "collapsed": true
   },
   "outputs": [],
   "source": [
    "df_md_small['keywords_'] = ( df_md_small['keywords'].\n",
    "                           apply( lambda x: [SnowballStemmer( 'english' ).stem( i ) for i in x]).\n",
    "                           apply( lambda x: [i.lower().replace( \" \", \"\") for i in x ]) )"
   ]
  },
  {
   "cell_type": "code",
   "execution_count": 14,
   "metadata": {
    "collapsed": true
   },
   "outputs": [],
   "source": [
    "df_md_small['content'] = ( df_md_small['cast_'] +\n",
    "                          df_md_small['director_'] +\n",
    "                          df_md_small['keywords_'] +\n",
    "                          df_md_small['genres'] ).apply( lambda x: ' '.join( x ) ) # combine all content features"
   ]
  },
  {
   "cell_type": "code",
   "execution_count": 15,
   "metadata": {
    "collapsed": true
   },
   "outputs": [],
   "source": [
    "content_matrix = CountVectorizer(\n",
    "    analyzer = 'word',\n",
    "    ngram_range = (1, 2),\n",
    "    min_df = 0,\n",
    "    stop_words = 'english').fit_transform(df_md_small['content'])\n",
    "cosine_sim = cosine_similarity(content_matrix, content_matrix)"
   ]
  },
  {
   "cell_type": "code",
   "execution_count": 16,
   "metadata": {},
   "outputs": [
    {
     "data": {
      "text/html": [
       "<div>\n",
       "<style>\n",
       "    .dataframe thead tr:only-child th {\n",
       "        text-align: right;\n",
       "    }\n",
       "\n",
       "    .dataframe thead th {\n",
       "        text-align: left;\n",
       "    }\n",
       "\n",
       "    .dataframe tbody tr th {\n",
       "        vertical-align: top;\n",
       "    }\n",
       "</style>\n",
       "<table border=\"1\" class=\"dataframe\">\n",
       "  <thead>\n",
       "    <tr style=\"text-align: right;\">\n",
       "      <th></th>\n",
       "      <th>title</th>\n",
       "      <th>director</th>\n",
       "      <th>cast</th>\n",
       "      <th>genres</th>\n",
       "      <th>keywords</th>\n",
       "      <th>vote_count</th>\n",
       "      <th>vote_average</th>\n",
       "      <th>similarity</th>\n",
       "      <th>score</th>\n",
       "    </tr>\n",
       "  </thead>\n",
       "  <tbody>\n",
       "    <tr>\n",
       "      <th>6939</th>\n",
       "      <td>Cleaner</td>\n",
       "      <td>Renny Harlin</td>\n",
       "      <td>[Samuel L. Jackson, Ed Harris, Eva Mendes]</td>\n",
       "      <td>[Crime, Thriller, Mystery]</td>\n",
       "      <td>[cover-up]</td>\n",
       "      <td>201.0</td>\n",
       "      <td>5.9</td>\n",
       "      <td>0.173240</td>\n",
       "      <td>0.258104</td>\n",
       "    </tr>\n",
       "    <tr>\n",
       "      <th>4595</th>\n",
       "      <td>Basic</td>\n",
       "      <td>John McTiernan</td>\n",
       "      <td>[John Travolta, Connie Nielsen, Samuel L. Jack...</td>\n",
       "      <td>[Action, Drama, Mystery, Thriller, Crime]</td>\n",
       "      <td>[drug addiction, military court, panama, milit...</td>\n",
       "      <td>290.0</td>\n",
       "      <td>6.2</td>\n",
       "      <td>0.164399</td>\n",
       "      <td>0.254774</td>\n",
       "    </tr>\n",
       "    <tr>\n",
       "      <th>1381</th>\n",
       "      <td>Jackie Brown</td>\n",
       "      <td>Quentin Tarantino</td>\n",
       "      <td>[Pam Grier, Samuel L. Jackson, Robert Forster]</td>\n",
       "      <td>[Comedy, Crime, Romance]</td>\n",
       "      <td>[airport, underworld, arms deal, weapon, polic...</td>\n",
       "      <td>1580.0</td>\n",
       "      <td>7.3</td>\n",
       "      <td>0.137464</td>\n",
       "      <td>0.254007</td>\n",
       "    </tr>\n",
       "    <tr>\n",
       "      <th>4764</th>\n",
       "      <td>S.W.A.T.</td>\n",
       "      <td>Clark Johnson</td>\n",
       "      <td>[Samuel L. Jackson, Colin Farrell, Michelle Ro...</td>\n",
       "      <td>[Action, Thriller, Crime]</td>\n",
       "      <td>[liberation, transport of prisoners, special u...</td>\n",
       "      <td>780.0</td>\n",
       "      <td>5.8</td>\n",
       "      <td>0.171429</td>\n",
       "      <td>0.254005</td>\n",
       "    </tr>\n",
       "    <tr>\n",
       "      <th>8905</th>\n",
       "      <td>The Hateful Eight</td>\n",
       "      <td>Quentin Tarantino</td>\n",
       "      <td>[Samuel L. Jackson, Kurt Russell, Jennifer Jas...</td>\n",
       "      <td>[Crime, Drama, Mystery, Western]</td>\n",
       "      <td>[bounty hunter, wyoming, mountain, narration, ...</td>\n",
       "      <td>4405.0</td>\n",
       "      <td>7.6</td>\n",
       "      <td>0.124341</td>\n",
       "      <td>0.250546</td>\n",
       "    </tr>\n",
       "    <tr>\n",
       "      <th>4306</th>\n",
       "      <td>The 51st State</td>\n",
       "      <td>Ronny Yu</td>\n",
       "      <td>[Samuel L. Jackson, Robert Carlyle, Emily Mort...</td>\n",
       "      <td>[Thriller, Action, Comedy, Crime]</td>\n",
       "      <td>[chemical, laxative, skinheads]</td>\n",
       "      <td>173.0</td>\n",
       "      <td>5.9</td>\n",
       "      <td>0.148939</td>\n",
       "      <td>0.238799</td>\n",
       "    </tr>\n",
       "    <tr>\n",
       "      <th>4084</th>\n",
       "      <td>Changing Lanes</td>\n",
       "      <td>Roger Michell</td>\n",
       "      <td>[Ben Affleck, Samuel L. Jackson, Kim Staunton]</td>\n",
       "      <td>[Action, Adventure, Crime, Thriller]</td>\n",
       "      <td>[new york, custody battle, suspense, lawyer]</td>\n",
       "      <td>306.0</td>\n",
       "      <td>5.9</td>\n",
       "      <td>0.142857</td>\n",
       "      <td>0.233441</td>\n",
       "    </tr>\n",
       "    <tr>\n",
       "      <th>7673</th>\n",
       "      <td>Animal Kingdom</td>\n",
       "      <td>David Michôd</td>\n",
       "      <td>[James Frecheville, Ben Mendelsohn, Joel Edger...</td>\n",
       "      <td>[Drama, Thriller, Crime]</td>\n",
       "      <td>[]</td>\n",
       "      <td>240.0</td>\n",
       "      <td>6.7</td>\n",
       "      <td>0.118864</td>\n",
       "      <td>0.224580</td>\n",
       "    </tr>\n",
       "    <tr>\n",
       "      <th>7104</th>\n",
       "      <td>The Spirit</td>\n",
       "      <td>Frank Miller</td>\n",
       "      <td>[Gabriel Macht, Scarlett Johansson, Samuel L. ...</td>\n",
       "      <td>[Action, Comedy, Thriller, Crime, Science Fict...</td>\n",
       "      <td>[secret identity, robber, mask, frog, based on...</td>\n",
       "      <td>323.0</td>\n",
       "      <td>4.7</td>\n",
       "      <td>0.149209</td>\n",
       "      <td>0.221702</td>\n",
       "    </tr>\n",
       "    <tr>\n",
       "      <th>8408</th>\n",
       "      <td>Fast &amp; Furious 6</td>\n",
       "      <td>Justin Lin</td>\n",
       "      <td>[Vin Diesel, Paul Walker, Dwayne Johnson]</td>\n",
       "      <td>[Action, Thriller, Crime]</td>\n",
       "      <td>[car race, sequel, crime, car, automobile raci...</td>\n",
       "      <td>5282.0</td>\n",
       "      <td>6.7</td>\n",
       "      <td>0.109971</td>\n",
       "      <td>0.221662</td>\n",
       "    </tr>\n",
       "    <tr>\n",
       "      <th>1297</th>\n",
       "      <td>One Eight Seven</td>\n",
       "      <td>Kevin Reynolds</td>\n",
       "      <td>[Samuel L. Jackson, John Heard, Kelly Rowan]</td>\n",
       "      <td>[Drama, Thriller]</td>\n",
       "      <td>[new york, high school, teacher, attack, stabb...</td>\n",
       "      <td>141.0</td>\n",
       "      <td>6.5</td>\n",
       "      <td>0.119151</td>\n",
       "      <td>0.221201</td>\n",
       "    </tr>\n",
       "    <tr>\n",
       "      <th>3012</th>\n",
       "      <td>Shaft</td>\n",
       "      <td>John Singleton</td>\n",
       "      <td>[Samuel L. Jackson, Jeffrey Wright, Christian ...</td>\n",
       "      <td>[Action, Adventure, Crime, Thriller]</td>\n",
       "      <td>[corruption, black people, italo-american, bro...</td>\n",
       "      <td>316.0</td>\n",
       "      <td>5.5</td>\n",
       "      <td>0.133863</td>\n",
       "      <td>0.220665</td>\n",
       "    </tr>\n",
       "    <tr>\n",
       "      <th>6903</th>\n",
       "      <td>Awake</td>\n",
       "      <td>Joby Harold</td>\n",
       "      <td>[Hayden Christensen, Jessica Alba, Terrence Ho...</td>\n",
       "      <td>[Thriller, Crime, Mystery]</td>\n",
       "      <td>[]</td>\n",
       "      <td>403.0</td>\n",
       "      <td>6.3</td>\n",
       "      <td>0.118864</td>\n",
       "      <td>0.219989</td>\n",
       "    </tr>\n",
       "    <tr>\n",
       "      <th>7621</th>\n",
       "      <td>Unthinkable</td>\n",
       "      <td>Gregor Jordan</td>\n",
       "      <td>[Samuel L. Jackson, Carrie-Anne Moss, Michael ...</td>\n",
       "      <td>[Drama, Thriller]</td>\n",
       "      <td>[suspense, psychological thriller, violence, b...</td>\n",
       "      <td>430.0</td>\n",
       "      <td>6.7</td>\n",
       "      <td>0.109971</td>\n",
       "      <td>0.218972</td>\n",
       "    </tr>\n",
       "    <tr>\n",
       "      <th>1636</th>\n",
       "      <td>The Negotiator</td>\n",
       "      <td>F. Gary Gray</td>\n",
       "      <td>[Samuel L. Jackson, Kevin Spacey, David Morse]</td>\n",
       "      <td>[Action, Adventure, Crime, Drama, Mystery, Thr...</td>\n",
       "      <td>[corruption, hostage, pension, innocence, poli...</td>\n",
       "      <td>593.0</td>\n",
       "      <td>6.8</td>\n",
       "      <td>0.106479</td>\n",
       "      <td>0.218468</td>\n",
       "    </tr>\n",
       "  </tbody>\n",
       "</table>\n",
       "</div>"
      ],
      "text/plain": [
       "                  title           director  \\\n",
       "6939            Cleaner       Renny Harlin   \n",
       "4595              Basic     John McTiernan   \n",
       "1381       Jackie Brown  Quentin Tarantino   \n",
       "4764           S.W.A.T.      Clark Johnson   \n",
       "8905  The Hateful Eight  Quentin Tarantino   \n",
       "4306     The 51st State           Ronny Yu   \n",
       "4084     Changing Lanes      Roger Michell   \n",
       "7673     Animal Kingdom       David Michôd   \n",
       "7104         The Spirit       Frank Miller   \n",
       "8408   Fast & Furious 6         Justin Lin   \n",
       "1297    One Eight Seven     Kevin Reynolds   \n",
       "3012              Shaft     John Singleton   \n",
       "6903              Awake        Joby Harold   \n",
       "7621        Unthinkable      Gregor Jordan   \n",
       "1636     The Negotiator       F. Gary Gray   \n",
       "\n",
       "                                                   cast  \\\n",
       "6939         [Samuel L. Jackson, Ed Harris, Eva Mendes]   \n",
       "4595  [John Travolta, Connie Nielsen, Samuel L. Jack...   \n",
       "1381     [Pam Grier, Samuel L. Jackson, Robert Forster]   \n",
       "4764  [Samuel L. Jackson, Colin Farrell, Michelle Ro...   \n",
       "8905  [Samuel L. Jackson, Kurt Russell, Jennifer Jas...   \n",
       "4306  [Samuel L. Jackson, Robert Carlyle, Emily Mort...   \n",
       "4084     [Ben Affleck, Samuel L. Jackson, Kim Staunton]   \n",
       "7673  [James Frecheville, Ben Mendelsohn, Joel Edger...   \n",
       "7104  [Gabriel Macht, Scarlett Johansson, Samuel L. ...   \n",
       "8408          [Vin Diesel, Paul Walker, Dwayne Johnson]   \n",
       "1297       [Samuel L. Jackson, John Heard, Kelly Rowan]   \n",
       "3012  [Samuel L. Jackson, Jeffrey Wright, Christian ...   \n",
       "6903  [Hayden Christensen, Jessica Alba, Terrence Ho...   \n",
       "7621  [Samuel L. Jackson, Carrie-Anne Moss, Michael ...   \n",
       "1636     [Samuel L. Jackson, Kevin Spacey, David Morse]   \n",
       "\n",
       "                                                 genres  \\\n",
       "6939                         [Crime, Thriller, Mystery]   \n",
       "4595          [Action, Drama, Mystery, Thriller, Crime]   \n",
       "1381                           [Comedy, Crime, Romance]   \n",
       "4764                          [Action, Thriller, Crime]   \n",
       "8905                   [Crime, Drama, Mystery, Western]   \n",
       "4306                  [Thriller, Action, Comedy, Crime]   \n",
       "4084               [Action, Adventure, Crime, Thriller]   \n",
       "7673                           [Drama, Thriller, Crime]   \n",
       "7104  [Action, Comedy, Thriller, Crime, Science Fict...   \n",
       "8408                          [Action, Thriller, Crime]   \n",
       "1297                                  [Drama, Thriller]   \n",
       "3012               [Action, Adventure, Crime, Thriller]   \n",
       "6903                         [Thriller, Crime, Mystery]   \n",
       "7621                                  [Drama, Thriller]   \n",
       "1636  [Action, Adventure, Crime, Drama, Mystery, Thr...   \n",
       "\n",
       "                                               keywords  vote_count  \\\n",
       "6939                                         [cover-up]       201.0   \n",
       "4595  [drug addiction, military court, panama, milit...       290.0   \n",
       "1381  [airport, underworld, arms deal, weapon, polic...      1580.0   \n",
       "4764  [liberation, transport of prisoners, special u...       780.0   \n",
       "8905  [bounty hunter, wyoming, mountain, narration, ...      4405.0   \n",
       "4306                    [chemical, laxative, skinheads]       173.0   \n",
       "4084       [new york, custody battle, suspense, lawyer]       306.0   \n",
       "7673                                                 []       240.0   \n",
       "7104  [secret identity, robber, mask, frog, based on...       323.0   \n",
       "8408  [car race, sequel, crime, car, automobile raci...      5282.0   \n",
       "1297  [new york, high school, teacher, attack, stabb...       141.0   \n",
       "3012  [corruption, black people, italo-american, bro...       316.0   \n",
       "6903                                                 []       403.0   \n",
       "7621  [suspense, psychological thriller, violence, b...       430.0   \n",
       "1636  [corruption, hostage, pension, innocence, poli...       593.0   \n",
       "\n",
       "      vote_average  similarity     score  \n",
       "6939           5.9    0.173240  0.258104  \n",
       "4595           6.2    0.164399  0.254774  \n",
       "1381           7.3    0.137464  0.254007  \n",
       "4764           5.8    0.171429  0.254005  \n",
       "8905           7.6    0.124341  0.250546  \n",
       "4306           5.9    0.148939  0.238799  \n",
       "4084           5.9    0.142857  0.233441  \n",
       "7673           6.7    0.118864  0.224580  \n",
       "7104           4.7    0.149209  0.221702  \n",
       "8408           6.7    0.109971  0.221662  \n",
       "1297           6.5    0.119151  0.221201  \n",
       "3012           5.5    0.133863  0.220665  \n",
       "6903           6.3    0.118864  0.219989  \n",
       "7621           6.7    0.109971  0.218972  \n",
       "1636           6.8    0.106479  0.218468  "
      ]
     },
     "execution_count": 16,
     "metadata": {},
     "output_type": "execute_result"
    }
   ],
   "source": [
    "getrecommendation( 'Pulp Fiction', cosine_sim, df_md_small ).head(15)"
   ]
  },
  {
   "cell_type": "code",
   "execution_count": 17,
   "metadata": {
    "collapsed": true
   },
   "outputs": [],
   "source": [
    "#getrecommendation( 'The Godfather', cosine_sim, df_md_small ).head(15)"
   ]
  },
  {
   "cell_type": "code",
   "execution_count": 18,
   "metadata": {
    "collapsed": true
   },
   "outputs": [],
   "source": [
    "#getrecommendation( 'Batman', cosine_sim, df_md_small ).head(15)"
   ]
  }
 ],
 "metadata": {
  "kernelspec": {
   "display_name": "Python 3",
   "language": "python",
   "name": "python3"
  },
  "language_info": {
   "codemirror_mode": {
    "name": "ipython",
    "version": 3
   },
   "file_extension": ".py",
   "mimetype": "text/x-python",
   "name": "python",
   "nbconvert_exporter": "python",
   "pygments_lexer": "ipython3",
   "version": "3.6.2"
  }
 },
 "nbformat": 4,
 "nbformat_minor": 2
}
