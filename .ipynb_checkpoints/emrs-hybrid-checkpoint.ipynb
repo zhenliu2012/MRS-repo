{
 "cells": [
  {
   "cell_type": "code",
   "execution_count": null,
   "metadata": {
    "collapsed": true
   },
   "outputs": [],
   "source": [
    "import pandas as pd\n",
    "import ast\n",
    "from sklearn.feature_extraction.text import CountVectorizer\n",
    "from sklearn.metrics.pairwise import cosine_similarity\n",
    "from nltk.stem.snowball import SnowballStemmer #porterstemmer?\n",
    "import numpy as np\n",
    "from scipy.sparse.linalg import svds"
   ]
  },
  {
   "cell_type": "code",
   "execution_count": 1,
   "metadata": {
    "collapsed": true
   },
   "outputs": [],
   "source": [
    "def getratingmat( df_rating ):\n",
    "    df = df_rating.pivot(index='movieId', columns='userId', values='rating')\n",
    "    df.index.name = 'Movie ID'\n",
    "    df.columns.name = 'User ID'\n",
    "    Y = df.as_matrix()\n",
    "    R = ( Y > 0. ).astype(int)\n",
    "    return( Y, R );\n",
    "\n",
    "def normalizeratings2( Y, R ):\n",
    "    Y_sum = np.sum( Y, axis = 0 )\n",
    "    R_sum = np.sum( R, axis = 0 )\n",
    "    Y_mean = Y_sum / R_sum\n",
    "    Y_norm = np.zeros( Y.shape )\n",
    "    for i in range( Y.shape[1] ):\n",
    "        j = np.where( R[:,i] == 1 )\n",
    "        Y_norm[j,i] = Y[j,i] - Y_mean[i]       \n",
    "    return( Y_norm, Y_mean );"
   ]
  },
  {
   "cell_type": "code",
   "execution_count": 4,
   "metadata": {
    "collapsed": true
   },
   "outputs": [],
   "source": [
    "df_md_small = pd.read_csv('../movielens_small/metadata_clean.csv')"
   ]
  },
  {
   "cell_type": "code",
   "execution_count": 5,
   "metadata": {
    "collapsed": true
   },
   "outputs": [],
   "source": [
    "df_md_small['genres'] = df_md_small['genres'].apply(ast.literal_eval)\n",
    "df_md_small['cast'] = df_md_small['cast'].apply(ast.literal_eval)\n",
    "df_md_small['keywords'] = df_md_small['keywords'].apply(ast.literal_eval)"
   ]
  },
  {
   "cell_type": "code",
   "execution_count": 6,
   "metadata": {
    "collapsed": true
   },
   "outputs": [],
   "source": [
    "df_md_small['director_'] = ( df_md_small['director'].\n",
    "                            astype(str).\n",
    "                            apply( lambda x: x.lower().replace( \" \", \"\") ).\n",
    "                            apply( lambda x: [x]) ) # more weights?"
   ]
  },
  {
   "cell_type": "code",
   "execution_count": 7,
   "metadata": {
    "collapsed": true
   },
   "outputs": [],
   "source": [
    "df_md_small['cast_'] = ( df_md_small['cast'].\n",
    "                        apply( lambda x: [i.lower().replace( \" \", \"\") for i in x ]) )"
   ]
  },
  {
   "cell_type": "code",
   "execution_count": 8,
   "metadata": {
    "collapsed": true
   },
   "outputs": [],
   "source": [
    "df_md_small['keywords_'] = ( df_md_small['keywords'].\n",
    "                            apply( lambda x: [SnowballStemmer( 'english' ).stem( i ) for i in x]).\n",
    "                            apply( lambda x: [i.lower().replace( \" \", \"\") for i in x ]) )"
   ]
  },
  {
   "cell_type": "code",
   "execution_count": 9,
   "metadata": {
    "collapsed": true
   },
   "outputs": [],
   "source": [
    "df_md_small['content'] = ( df_md_small['cast_'] +\n",
    "                          df_md_small['director_'] +\n",
    "                          df_md_small['keywords_'] +\n",
    "                          df_md_small['genres'] ).apply( lambda x: ' '.join( x ) ) # combine all content features"
   ]
  },
  {
   "cell_type": "code",
   "execution_count": 10,
   "metadata": {
    "collapsed": true
   },
   "outputs": [],
   "source": [
    "content_matrix = CountVectorizer(\n",
    "    analyzer = 'word',\n",
    "    ngram_range = (1, 2),\n",
    "    min_df = 0,\n",
    "    stop_words = 'english').fit_transform(df_md_small['content'])\n",
    "cosine_sim = cosine_similarity(content_matrix, content_matrix)"
   ]
  },
  {
   "cell_type": "code",
   "execution_count": null,
   "metadata": {
    "collapsed": true
   },
   "outputs": [],
   "source": [
    "Y, R = getratingmat( df_small )"
   ]
  },
  {
   "cell_type": "code",
   "execution_count": null,
   "metadata": {
    "collapsed": true
   },
   "outputs": [],
   "source": [
    "Y_norm, Y_mean = normalizeratings2( Y, R )\n",
    "U, sigma, Vt = svds(Y_norm, k = 50)\n",
    "sigma = np.diag(sigma)"
   ]
  },
  {
   "cell_type": "code",
   "execution_count": null,
   "metadata": {
    "collapsed": true
   },
   "outputs": [],
   "source": [
    "all_user_predicted_ratings = np.dot(np.dot(U, sigma), Vt) + Y_mean"
   ]
  }
 ],
 "metadata": {
  "kernelspec": {
   "display_name": "Python 3",
   "language": "python",
   "name": "python3"
  },
  "language_info": {
   "codemirror_mode": {
    "name": "ipython",
    "version": 3
   },
   "file_extension": ".py",
   "mimetype": "text/x-python",
   "name": "python",
   "nbconvert_exporter": "python",
   "pygments_lexer": "ipython3",
   "version": "3.6.2"
  }
 },
 "nbformat": 4,
 "nbformat_minor": 2
}
