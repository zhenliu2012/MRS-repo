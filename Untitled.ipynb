{
 "cells": [
  {
   "cell_type": "code",
   "execution_count": 29,
   "metadata": {
    "collapsed": true
   },
   "outputs": [],
   "source": [
    "import pandas as pd\n",
    "import ast\n",
    "import numpy as np"
   ]
  },
  {
   "cell_type": "code",
   "execution_count": 30,
   "metadata": {
    "collapsed": true
   },
   "outputs": [],
   "source": [
    "def getdirector( crew ):\n",
    "    for i in crew:\n",
    "        if i['job'] == 'Director':\n",
    "            return i['name']\n",
    "    return np.nan"
   ]
  },
  {
   "cell_type": "code",
   "execution_count": 31,
   "metadata": {},
   "outputs": [
    {
     "name": "stderr",
     "output_type": "stream",
     "text": [
      "/Users/zhenliu/anaconda3/lib/python3.6/site-packages/IPython/core/interactiveshell.py:2698: DtypeWarning: Columns (10) have mixed types. Specify dtype option on import or set low_memory=False.\n",
      "  interactivity=interactivity, compiler=compiler, result=result)\n"
     ]
    }
   ],
   "source": [
    "df_md = pd. read_csv('../movielens_small/movies_metadata.csv')\n",
    "df_links = pd.read_csv('../movielens_small/links_small.csv')\n",
    "df_credits = pd.read_csv( '../movielens_small/credits.csv' )\n",
    "df_keywords = pd.read_csv( '../movielens_small/keywords.csv' )"
   ]
  },
  {
   "cell_type": "code",
   "execution_count": 32,
   "metadata": {},
   "outputs": [],
   "source": [
    "df_link = df_links[df_links['tmdbId'].notnull()]['tmdbId'].astype('int')\n",
    "df_md['genres'] = ( df_md['genres'].fillna('[]').\n",
    "                   apply(ast.literal_eval).\n",
    "                   apply( lambda x: [i['name'] for i in x] if isinstance(x, list) else []) )\n",
    "df_md = df_md.drop([19730, 29503, 35587]) # invalid input in cols id & imdb_id"
   ]
  },
  {
   "cell_type": "code",
   "execution_count": 33,
   "metadata": {
    "collapsed": true
   },
   "outputs": [],
   "source": [
    "df_md['id'] = df_md['id'].astype('int')\n",
    "df_keywords['id'] = df_keywords['id'].astype('int')\n",
    "df_credits['id'] = df_credits['id'].astype('int')"
   ]
  },
  {
   "cell_type": "code",
   "execution_count": 34,
   "metadata": {
    "collapsed": true
   },
   "outputs": [],
   "source": [
    "df_md_small = ( df_md[ df_md['id'].isin(df_link)].\n",
    "               merge(df_credits, on='id').\n",
    "               merge(df_keywords, on='id').\n",
    "               reset_index() )"
   ]
  },
  {
   "cell_type": "code",
   "execution_count": 35,
   "metadata": {},
   "outputs": [],
   "source": [
    "df_md_small['director'] = ( df_md_small['crew'].\n",
    "                           apply(ast.literal_eval).\n",
    "                           apply(getdirector).astype('str') )\n",
    "df_md_small['cast'] = ( df_md_small['cast'].\n",
    "                       apply(ast.literal_eval).\n",
    "                       apply( lambda x: [i['name'] for i in x] if isinstance(x, list) else []).\n",
    "                       apply( lambda x: x[:5] if len(x) >=5 else x) )\n",
    "df_md_small['keywords'] = ( df_md_small['keywords'].\n",
    "                           apply(ast.literal_eval).\n",
    "                           apply( lambda x: [i['name'] for i in x] if isinstance(x, list) else []) )"
   ]
  },
  {
   "cell_type": "code",
   "execution_count": 36,
   "metadata": {},
   "outputs": [],
   "source": [
    "df_movies = pd.read_csv( '../movielens_small/movies.csv' )"
   ]
  },
  {
   "cell_type": "code",
   "execution_count": 44,
   "metadata": {},
   "outputs": [
    {
     "data": {
      "text/plain": [
       "(9125, 5)"
      ]
     },
     "execution_count": 44,
     "metadata": {},
     "output_type": "execute_result"
    }
   ],
   "source": [
    "df_all = df_movies.merge( df_links, on = 'movieId')\n",
    "df_all.shape"
   ]
  },
  {
   "cell_type": "code",
   "execution_count": 46,
   "metadata": {},
   "outputs": [
    {
     "data": {
      "text/html": [
       "<div>\n",
       "<style>\n",
       "    .dataframe thead tr:only-child th {\n",
       "        text-align: right;\n",
       "    }\n",
       "\n",
       "    .dataframe thead th {\n",
       "        text-align: left;\n",
       "    }\n",
       "\n",
       "    .dataframe tbody tr th {\n",
       "        vertical-align: top;\n",
       "    }\n",
       "</style>\n",
       "<table border=\"1\" class=\"dataframe\">\n",
       "  <thead>\n",
       "    <tr style=\"text-align: right;\">\n",
       "      <th></th>\n",
       "      <th>movieId</th>\n",
       "      <th>title</th>\n",
       "      <th>genres</th>\n",
       "      <th>imdbId</th>\n",
       "      <th>tmdbId</th>\n",
       "    </tr>\n",
       "  </thead>\n",
       "  <tbody>\n",
       "    <tr>\n",
       "      <th>607</th>\n",
       "      <td>720</td>\n",
       "      <td>Wallace &amp; Gromit: The Best of Aardman Animatio...</td>\n",
       "      <td>Adventure|Animation|Comedy</td>\n",
       "      <td>118114</td>\n",
       "      <td>NaN</td>\n",
       "    </tr>\n",
       "    <tr>\n",
       "      <th>608</th>\n",
       "      <td>721</td>\n",
       "      <td>Halfmoon (Paul Bowles - Halbmond) (1995)</td>\n",
       "      <td>Drama</td>\n",
       "      <td>114103</td>\n",
       "      <td>NaN</td>\n",
       "    </tr>\n",
       "    <tr>\n",
       "      <th>640</th>\n",
       "      <td>769</td>\n",
       "      <td>Marlene Dietrich: Shadow and Light (1996)</td>\n",
       "      <td>Documentary</td>\n",
       "      <td>116992</td>\n",
       "      <td>NaN</td>\n",
       "    </tr>\n",
       "    <tr>\n",
       "      <th>910</th>\n",
       "      <td>1133</td>\n",
       "      <td>Talking About Sex (1994)</td>\n",
       "      <td>Comedy|Drama</td>\n",
       "      <td>111357</td>\n",
       "      <td>NaN</td>\n",
       "    </tr>\n",
       "    <tr>\n",
       "      <th>2282</th>\n",
       "      <td>2851</td>\n",
       "      <td>Saturn 3 (1980)</td>\n",
       "      <td>Adventure|Sci-Fi|Thriller</td>\n",
       "      <td>81454</td>\n",
       "      <td>NaN</td>\n",
       "    </tr>\n",
       "    <tr>\n",
       "      <th>3246</th>\n",
       "      <td>4051</td>\n",
       "      <td>Horrors of Spider Island (Ein Toter Hing im Ne...</td>\n",
       "      <td>Horror|Sci-Fi</td>\n",
       "      <td>56600</td>\n",
       "      <td>NaN</td>\n",
       "    </tr>\n",
       "    <tr>\n",
       "      <th>5826</th>\n",
       "      <td>26587</td>\n",
       "      <td>Decalogue, The (Dekalog) (1989)</td>\n",
       "      <td>Crime|Drama|Romance</td>\n",
       "      <td>92337</td>\n",
       "      <td>NaN</td>\n",
       "    </tr>\n",
       "    <tr>\n",
       "      <th>7408</th>\n",
       "      <td>72781</td>\n",
       "      <td>Red Chapel (Røde kapel) (2006)</td>\n",
       "      <td>Comedy|Documentary</td>\n",
       "      <td>1104746</td>\n",
       "      <td>NaN</td>\n",
       "    </tr>\n",
       "    <tr>\n",
       "      <th>7438</th>\n",
       "      <td>73759</td>\n",
       "      <td>Hellsing Ultimate OVA Series (2006)</td>\n",
       "      <td>Action|Animation|Horror</td>\n",
       "      <td>495212</td>\n",
       "      <td>NaN</td>\n",
       "    </tr>\n",
       "    <tr>\n",
       "      <th>7588</th>\n",
       "      <td>79299</td>\n",
       "      <td>No. 1 Ladies' Detective Agency, The (2008)</td>\n",
       "      <td>Comedy|Crime|Mystery</td>\n",
       "      <td>874957</td>\n",
       "      <td>NaN</td>\n",
       "    </tr>\n",
       "    <tr>\n",
       "      <th>8045</th>\n",
       "      <td>94466</td>\n",
       "      <td>Black Mirror (2011)</td>\n",
       "      <td>Drama|Sci-Fi</td>\n",
       "      <td>2085059</td>\n",
       "      <td>NaN</td>\n",
       "    </tr>\n",
       "    <tr>\n",
       "      <th>8505</th>\n",
       "      <td>108548</td>\n",
       "      <td>Big Bang Theory, The (2007-)</td>\n",
       "      <td>Comedy</td>\n",
       "      <td>898266</td>\n",
       "      <td>NaN</td>\n",
       "    </tr>\n",
       "    <tr>\n",
       "      <th>8507</th>\n",
       "      <td>108583</td>\n",
       "      <td>Fawlty Towers (1975-1979)</td>\n",
       "      <td>Comedy</td>\n",
       "      <td>72500</td>\n",
       "      <td>NaN</td>\n",
       "    </tr>\n",
       "  </tbody>\n",
       "</table>\n",
       "</div>"
      ],
      "text/plain": [
       "      movieId                                              title  \\\n",
       "607       720  Wallace & Gromit: The Best of Aardman Animatio...   \n",
       "608       721           Halfmoon (Paul Bowles - Halbmond) (1995)   \n",
       "640       769          Marlene Dietrich: Shadow and Light (1996)   \n",
       "910      1133                           Talking About Sex (1994)   \n",
       "2282     2851                                    Saturn 3 (1980)   \n",
       "3246     4051  Horrors of Spider Island (Ein Toter Hing im Ne...   \n",
       "5826    26587                    Decalogue, The (Dekalog) (1989)   \n",
       "7408    72781                     Red Chapel (Røde kapel) (2006)   \n",
       "7438    73759                Hellsing Ultimate OVA Series (2006)   \n",
       "7588    79299         No. 1 Ladies' Detective Agency, The (2008)   \n",
       "8045    94466                                Black Mirror (2011)   \n",
       "8505   108548                       Big Bang Theory, The (2007-)   \n",
       "8507   108583                          Fawlty Towers (1975-1979)   \n",
       "\n",
       "                          genres   imdbId  tmdbId  \n",
       "607   Adventure|Animation|Comedy   118114     NaN  \n",
       "608                        Drama   114103     NaN  \n",
       "640                  Documentary   116992     NaN  \n",
       "910                 Comedy|Drama   111357     NaN  \n",
       "2282   Adventure|Sci-Fi|Thriller    81454     NaN  \n",
       "3246               Horror|Sci-Fi    56600     NaN  \n",
       "5826         Crime|Drama|Romance    92337     NaN  \n",
       "7408          Comedy|Documentary  1104746     NaN  \n",
       "7438     Action|Animation|Horror   495212     NaN  \n",
       "7588        Comedy|Crime|Mystery   874957     NaN  \n",
       "8045                Drama|Sci-Fi  2085059     NaN  \n",
       "8505                      Comedy   898266     NaN  \n",
       "8507                      Comedy    72500     NaN  "
      ]
     },
     "execution_count": 46,
     "metadata": {},
     "output_type": "execute_result"
    }
   ],
   "source": [
    "df_all[ df_all['tmdbId'].isnull()]"
   ]
  },
  {
   "cell_type": "code",
   "execution_count": 40,
   "metadata": {},
   "outputs": [
    {
     "data": {
      "text/plain": [
       "(9125, 3)"
      ]
     },
     "execution_count": 40,
     "metadata": {},
     "output_type": "execute_result"
    }
   ],
   "source": [
    "df_movies.shape"
   ]
  },
  {
   "cell_type": "code",
   "execution_count": 41,
   "metadata": {},
   "outputs": [
    {
     "data": {
      "text/plain": [
       "(9219, 29)"
      ]
     },
     "execution_count": 41,
     "metadata": {},
     "output_type": "execute_result"
    }
   ],
   "source": [
    "df_md_small.shape"
   ]
  },
  {
   "cell_type": "code",
   "execution_count": 43,
   "metadata": {},
   "outputs": [
    {
     "data": {
      "text/plain": [
       "(9099, 24)"
      ]
     },
     "execution_count": 43,
     "metadata": {},
     "output_type": "execute_result"
    }
   ],
   "source": [
    "df_md[ df_md['id'].isin(df_link) ].shape"
   ]
  }
 ],
 "metadata": {
  "kernelspec": {
   "display_name": "Python 3",
   "language": "python",
   "name": "python3"
  },
  "language_info": {
   "codemirror_mode": {
    "name": "ipython",
    "version": 3
   },
   "file_extension": ".py",
   "mimetype": "text/x-python",
   "name": "python",
   "nbconvert_exporter": "python",
   "pygments_lexer": "ipython3",
   "version": "3.6.2"
  }
 },
 "nbformat": 4,
 "nbformat_minor": 2
}
