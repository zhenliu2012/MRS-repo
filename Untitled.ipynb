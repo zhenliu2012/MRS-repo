{
 "cells": [
  {
   "cell_type": "code",
   "execution_count": 2,
   "metadata": {
    "collapsed": true
   },
   "outputs": [],
   "source": [
    "import pandas as pd\n",
    "import ast\n",
    "import numpy as np"
   ]
  },
  {
   "cell_type": "code",
   "execution_count": 3,
   "metadata": {
    "collapsed": true
   },
   "outputs": [],
   "source": [
    "def getdirector( crew ):\n",
    "    for i in crew:\n",
    "        if i['job'] == 'Director':\n",
    "            return i['name']\n",
    "    return np.nan"
   ]
  },
  {
   "cell_type": "code",
   "execution_count": 4,
   "metadata": {},
   "outputs": [
    {
     "name": "stderr",
     "output_type": "stream",
     "text": [
      "I:\\Anaconda\\lib\\site-packages\\IPython\\core\\interactiveshell.py:2698: DtypeWarning: Columns (10) have mixed types. Specify dtype option on import or set low_memory=False.\n",
      "  interactivity=interactivity, compiler=compiler, result=result)\n"
     ]
    }
   ],
   "source": [
    "df_md = pd. read_csv('../movielens_small/movies_metadata.csv')\n",
    "df_links = pd.read_csv('../movielens_small/links_small.csv')\n",
    "df_credits = pd.read_csv( '../movielens_small/credits.csv' )\n",
    "df_keywords = pd.read_csv( '../movielens_small/keywords.csv' )"
   ]
  },
  {
   "cell_type": "code",
   "execution_count": 5,
   "metadata": {
    "collapsed": true
   },
   "outputs": [],
   "source": [
    "df_link = df_links[df_links['tmdbId'].notnull()]['tmdbId'].astype('int')\n",
    "df_md['genres'] = ( df_md['genres'].fillna('[]').\n",
    "                   apply(ast.literal_eval).\n",
    "                   apply( lambda x: [i['name'] for i in x] if isinstance(x, list) else []) )\n",
    "df_md = df_md.drop([19730, 29503, 35587]) # invalid input in cols id & imdb_id"
   ]
  },
  {
   "cell_type": "code",
   "execution_count": 6,
   "metadata": {
    "collapsed": true
   },
   "outputs": [],
   "source": [
    "df_md['id'] = df_md['id'].astype('int')\n",
    "df_keywords['id'] = df_keywords['id'].astype('int')\n",
    "df_credits['id'] = df_credits['id'].astype('int')"
   ]
  },
  {
   "cell_type": "code",
   "execution_count": 7,
   "metadata": {
    "collapsed": true
   },
   "outputs": [],
   "source": [
    "df_md_small = ( df_md[ df_md['id'].isin(df_link)].\n",
    "               merge(df_credits, on='id').\n",
    "               merge(df_keywords, on='id').\n",
    "               reset_index() )"
   ]
  },
  {
   "cell_type": "code",
   "execution_count": 8,
   "metadata": {
    "collapsed": true
   },
   "outputs": [],
   "source": [
    "df_md_small['director'] = ( df_md_small['crew'].\n",
    "                           apply(ast.literal_eval).\n",
    "                           apply(getdirector).astype('str') )\n",
    "df_md_small['cast'] = ( df_md_small['cast'].\n",
    "                       apply(ast.literal_eval).\n",
    "                       apply( lambda x: [i['name'] for i in x] if isinstance(x, list) else []).\n",
    "                       apply( lambda x: x[:5] if len(x) >=5 else x) )\n",
    "df_md_small['keywords'] = ( df_md_small['keywords'].\n",
    "                           apply(ast.literal_eval).\n",
    "                           apply( lambda x: [i['name'] for i in x] if isinstance(x, list) else []) )"
   ]
  },
  {
   "cell_type": "code",
   "execution_count": 16,
   "metadata": {},
   "outputs": [],
   "source": [
    "df_movies = pd.read_csv( '../movielens_small/movies.csv' )\n",
    "df_links['imdbId'] = df_links['imdbId'].astype(int)"
   ]
  },
  {
   "cell_type": "code",
   "execution_count": 19,
   "metadata": {},
   "outputs": [],
   "source": [
    "df_all = df_movies.merge( df_links, on = 'movieId')\n",
    "df_all = df_all[ df_all['tmdbId'].notnull()] #13 movies have no tmdbId\n",
    "df_all['tmdbId'] = df_all['tmdbId'].astype(int)"
   ]
  },
  {
   "cell_type": "code",
   "execution_count": 21,
   "metadata": {},
   "outputs": [
    {
     "data": {
      "text/plain": [
       "(9112, 5)"
      ]
     },
     "execution_count": 21,
     "metadata": {},
     "output_type": "execute_result"
    }
   ],
   "source": [
    "df_all.shape"
   ]
  },
  {
   "cell_type": "code",
   "execution_count": 44,
   "metadata": {},
   "outputs": [
    {
     "data": {
      "text/plain": [
       "tmdbId\n",
       "2         1\n",
       "5         1\n",
       "6         1\n",
       "11        1\n",
       "12        1\n",
       "13        1\n",
       "14        1\n",
       "15        1\n",
       "16        1\n",
       "18        1\n",
       "19        1\n",
       "20        1\n",
       "21        1\n",
       "22        1\n",
       "24        1\n",
       "25        1\n",
       "26        1\n",
       "28        1\n",
       "33        1\n",
       "35        1\n",
       "38        1\n",
       "55        1\n",
       "58        1\n",
       "59        1\n",
       "62        1\n",
       "63        1\n",
       "64        1\n",
       "65        1\n",
       "66        1\n",
       "67        1\n",
       "         ..\n",
       "343921    1\n",
       "344041    1\n",
       "345468    1\n",
       "347969    1\n",
       "353069    1\n",
       "353571    1\n",
       "362045    1\n",
       "364067    1\n",
       "368620    1\n",
       "369557    1\n",
       "370646    1\n",
       "372315    1\n",
       "372981    1\n",
       "373348    1\n",
       "373355    1\n",
       "374454    1\n",
       "376570    1\n",
       "384798    1\n",
       "387893    1\n",
       "390734    1\n",
       "390989    1\n",
       "391698    1\n",
       "392572    1\n",
       "399106    1\n",
       "401387    1\n",
       "402672    1\n",
       "410612    1\n",
       "410803    1\n",
       "410921    1\n",
       "416437    1\n",
       "Length: 9112, dtype: int64"
      ]
     },
     "execution_count": 44,
     "metadata": {},
     "output_type": "execute_result"
    }
   ],
   "source": [
    "df_all.groupby('tmdbId').size()"
   ]
  },
  {
   "cell_type": "code",
   "execution_count": 24,
   "metadata": {},
   "outputs": [],
   "source": [
    "df_md_small.rename(columns = {'id':'tmdbId', 'genres':'genres_tmdb'}, inplace = True)"
   ]
  },
  {
   "cell_type": "code",
   "execution_count": 36,
   "metadata": {},
   "outputs": [
    {
     "data": {
      "text/plain": [
       "tmdbId\n",
       "2         1\n",
       "5         1\n",
       "6         1\n",
       "11        1\n",
       "12        1\n",
       "13        1\n",
       "14        1\n",
       "15        1\n",
       "16        1\n",
       "18        1\n",
       "19        1\n",
       "20        1\n",
       "21        1\n",
       "22        1\n",
       "24        1\n",
       "25        1\n",
       "26        1\n",
       "28        1\n",
       "33        1\n",
       "35        1\n",
       "38        1\n",
       "55        1\n",
       "58        1\n",
       "59        1\n",
       "62        1\n",
       "63        1\n",
       "64        1\n",
       "65        1\n",
       "66        1\n",
       "67        1\n",
       "         ..\n",
       "339527    1\n",
       "341012    1\n",
       "342521    1\n",
       "342786    1\n",
       "343921    1\n",
       "344041    2\n",
       "345468    1\n",
       "347969    1\n",
       "353069    1\n",
       "353571    1\n",
       "362045    2\n",
       "364067    1\n",
       "368620    1\n",
       "369557    1\n",
       "372315    2\n",
       "372981    2\n",
       "373348    1\n",
       "373355    2\n",
       "376570    1\n",
       "384798    1\n",
       "387893    1\n",
       "390734    1\n",
       "390989    1\n",
       "391698    1\n",
       "392572    1\n",
       "399106    1\n",
       "401387    1\n",
       "402672    1\n",
       "410921    1\n",
       "416437    1\n",
       "Length: 9082, dtype: int64"
      ]
     },
     "execution_count": 36,
     "metadata": {},
     "output_type": "execute_result"
    }
   ],
   "source": [
    "df_md_small.groupby('tmdbId').size()"
   ]
  },
  {
   "cell_type": "code",
   "execution_count": 37,
   "metadata": {},
   "outputs": [
    {
     "data": {
      "text/html": [
       "<div>\n",
       "<style>\n",
       "    .dataframe thead tr:only-child th {\n",
       "        text-align: right;\n",
       "    }\n",
       "\n",
       "    .dataframe thead th {\n",
       "        text-align: left;\n",
       "    }\n",
       "\n",
       "    .dataframe tbody tr th {\n",
       "        vertical-align: top;\n",
       "    }\n",
       "</style>\n",
       "<table border=\"1\" class=\"dataframe\">\n",
       "  <thead>\n",
       "    <tr style=\"text-align: right;\">\n",
       "      <th></th>\n",
       "      <th>index</th>\n",
       "      <th>adult</th>\n",
       "      <th>belongs_to_collection</th>\n",
       "      <th>budget</th>\n",
       "      <th>genres_tmdb</th>\n",
       "      <th>homepage</th>\n",
       "      <th>tmdbId</th>\n",
       "      <th>imdb_id</th>\n",
       "      <th>original_language</th>\n",
       "      <th>original_title</th>\n",
       "      <th>...</th>\n",
       "      <th>status</th>\n",
       "      <th>tagline</th>\n",
       "      <th>title</th>\n",
       "      <th>video</th>\n",
       "      <th>vote_average</th>\n",
       "      <th>vote_count</th>\n",
       "      <th>cast</th>\n",
       "      <th>crew</th>\n",
       "      <th>keywords</th>\n",
       "      <th>director</th>\n",
       "    </tr>\n",
       "  </thead>\n",
       "  <tbody>\n",
       "    <tr>\n",
       "      <th>9140</th>\n",
       "      <td>9140</td>\n",
       "      <td>False</td>\n",
       "      <td>NaN</td>\n",
       "      <td>8000000</td>\n",
       "      <td>[Drama, Thriller]</td>\n",
       "      <td>NaN</td>\n",
       "      <td>344041</td>\n",
       "      <td>tt3703908</td>\n",
       "      <td>en</td>\n",
       "      <td>Standoff</td>\n",
       "      <td>...</td>\n",
       "      <td>Released</td>\n",
       "      <td>A deadly game only one can survive</td>\n",
       "      <td>Standoff</td>\n",
       "      <td>False</td>\n",
       "      <td>6.0</td>\n",
       "      <td>96.0</td>\n",
       "      <td>[Thomas Jane, Laurence Fishburne, Jim Watson, ...</td>\n",
       "      <td>[{'credit_id': '5682bf70c3a368227b00a841', 'de...</td>\n",
       "      <td>[camera, mask, death of a child, murder, rifle...</td>\n",
       "      <td>Adam Alleca</td>\n",
       "    </tr>\n",
       "    <tr>\n",
       "      <th>9141</th>\n",
       "      <td>9141</td>\n",
       "      <td>False</td>\n",
       "      <td>NaN</td>\n",
       "      <td>8000000</td>\n",
       "      <td>[Drama, Thriller]</td>\n",
       "      <td>NaN</td>\n",
       "      <td>344041</td>\n",
       "      <td>tt3703908</td>\n",
       "      <td>en</td>\n",
       "      <td>Standoff</td>\n",
       "      <td>...</td>\n",
       "      <td>Released</td>\n",
       "      <td>A deadly game only one can survive</td>\n",
       "      <td>Standoff</td>\n",
       "      <td>False</td>\n",
       "      <td>6.0</td>\n",
       "      <td>96.0</td>\n",
       "      <td>[Thomas Jane, Laurence Fishburne, Jim Watson, ...</td>\n",
       "      <td>[{'credit_id': '5682bf70c3a368227b00a841', 'de...</td>\n",
       "      <td>[camera, mask, death of a child, murder, rifle...</td>\n",
       "      <td>Adam Alleca</td>\n",
       "    </tr>\n",
       "  </tbody>\n",
       "</table>\n",
       "<p>2 rows × 29 columns</p>\n",
       "</div>"
      ],
      "text/plain": [
       "      index  adult belongs_to_collection   budget        genres_tmdb homepage  \\\n",
       "9140   9140  False                   NaN  8000000  [Drama, Thriller]      NaN   \n",
       "9141   9141  False                   NaN  8000000  [Drama, Thriller]      NaN   \n",
       "\n",
       "      tmdbId    imdb_id original_language original_title     ...       \\\n",
       "9140  344041  tt3703908                en       Standoff     ...        \n",
       "9141  344041  tt3703908                en       Standoff     ...        \n",
       "\n",
       "        status                             tagline     title  video  \\\n",
       "9140  Released  A deadly game only one can survive  Standoff  False   \n",
       "9141  Released  A deadly game only one can survive  Standoff  False   \n",
       "\n",
       "     vote_average vote_count  \\\n",
       "9140          6.0       96.0   \n",
       "9141          6.0       96.0   \n",
       "\n",
       "                                                   cast  \\\n",
       "9140  [Thomas Jane, Laurence Fishburne, Jim Watson, ...   \n",
       "9141  [Thomas Jane, Laurence Fishburne, Jim Watson, ...   \n",
       "\n",
       "                                                   crew  \\\n",
       "9140  [{'credit_id': '5682bf70c3a368227b00a841', 'de...   \n",
       "9141  [{'credit_id': '5682bf70c3a368227b00a841', 'de...   \n",
       "\n",
       "                                               keywords     director  \n",
       "9140  [camera, mask, death of a child, murder, rifle...  Adam Alleca  \n",
       "9141  [camera, mask, death of a child, murder, rifle...  Adam Alleca  \n",
       "\n",
       "[2 rows x 29 columns]"
      ]
     },
     "execution_count": 37,
     "metadata": {},
     "output_type": "execute_result"
    }
   ],
   "source": [
    "df_md_small.loc[ df_md_small['tmdbId'] == 344041 ]"
   ]
  },
  {
   "cell_type": "code",
   "execution_count": 34,
   "metadata": {
    "scrolled": true
   },
   "outputs": [
    {
     "data": {
      "text/plain": [
       "(9082,)"
      ]
     },
     "execution_count": 34,
     "metadata": {},
     "output_type": "execute_result"
    }
   ],
   "source": [
    "df_md_small['tmdbId'].unique().shape"
   ]
  },
  {
   "cell_type": "code",
   "execution_count": 42,
   "metadata": {},
   "outputs": [
    {
     "data": {
      "text/plain": [
       "(9082, 29)"
      ]
     },
     "execution_count": 42,
     "metadata": {},
     "output_type": "execute_result"
    }
   ],
   "source": [
    "df_md_small.drop_duplicates('tmdbId').shape"
   ]
  }
 ],
 "metadata": {
  "kernelspec": {
   "display_name": "Python 3",
   "language": "python",
   "name": "python3"
  },
  "language_info": {
   "codemirror_mode": {
    "name": "ipython",
    "version": 3
   },
   "file_extension": ".py",
   "mimetype": "text/x-python",
   "name": "python",
   "nbconvert_exporter": "python",
   "pygments_lexer": "ipython3",
   "version": "3.6.2"
  }
 },
 "nbformat": 4,
 "nbformat_minor": 2
}
