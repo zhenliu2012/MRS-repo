{
 "cells": [
  {
   "cell_type": "code",
   "execution_count": 81,
   "metadata": {
    "collapsed": true
   },
   "outputs": [],
   "source": [
    "import indicoio\n",
    "import os\n",
    "import requests\n",
    "import simplejson as json\n",
    "import pandas as pd"
   ]
  },
  {
   "cell_type": "code",
   "execution_count": 100,
   "metadata": {
    "collapsed": true
   },
   "outputs": [],
   "source": [
    "def emoReviews(movie_title):\n",
    "    df_sel = df_md_small.loc[ df_md_small['title'] == movie_title ]\n",
    "    movie_id = str( df_sel['tmdbId'].values[0] )\n",
    "    request_url = 'http://api.themoviedb.org/3/movie/' + movie_id + '/reviews?api_key=' + tmdb_api_key\n",
    "    json_response = requests.get( request_url )\n",
    "    json_review = json.loads( json_response.content )\n",
    "    df_review = pd.DataFrame( json_review['results'])\n",
    "    for row in df_review.itertuples():\n",
    "        print( row.author, \":\\n\",row.content, \"\\n\", indicoio.emotion( row.content ), \"\\n\" )\n",
    "    return"
   ]
  },
  {
   "cell_type": "code",
   "execution_count": 83,
   "metadata": {},
   "outputs": [],
   "source": [
    "indico_api_key = os.environ[\"INDICO_API_KEY\"]\n",
    "tmdb_api_key = os.environ[\"TMDB_API_KEY\"]\n",
    "indicoio.config.api_key = indico_api_key"
   ]
  },
  {
   "cell_type": "code",
   "execution_count": 84,
   "metadata": {},
   "outputs": [],
   "source": [
    "df_md_small = pd.read_csv('../movielens_small/metadata_clean.csv')"
   ]
  },
  {
   "cell_type": "code",
   "execution_count": 101,
   "metadata": {},
   "outputs": [
    {
     "name": "stdout",
     "output_type": "stream",
     "text": [
      "Phileas Fogg :\n",
      " Fabulous action movie. Lots of interesting characters. They don't make many movies like this. The whole movie from start to finish was entertaining I'm looking forward to seeing it again. I definitely recommend seeing it. \n",
      " {'anger': 0.0955605358, 'joy': 0.2750841379, 'sadness': 0.27559366820000003, 'fear': 0.0981899947, 'surprise': 0.2555716932} \n",
      "\n",
      "Andres Gomez :\n",
      " Good action movie with a decent script for the genre. The photography is really good too but, in the end, it is quite repeating itself from beginning to end and the stormy OST is exhausting. \n",
      " {'anger': 0.18514215950000001, 'joy': 0.30064535140000004, 'sadness': 0.2588971257, 'fear': 0.15900212530000002, 'surprise': 0.0963131934} \n",
      "\n",
      "extoix :\n",
      " Awesome movie!  WITNESS ME will stick with me forever! \n",
      " {'anger': 0.19814696910000001, 'joy': 0.5265854001, 'sadness': 0.1608141363, 'fear': 0.0705448836, 'surprise': 0.0439086333} \n",
      "\n",
      "Cineport :\n",
      " Fantastic action that makes up for some plot holes. \n",
      " {'anger': 0.2881938815, 'joy': 0.3610377312, 'fear': 0.1991437078, 'sadness': 0.12211790680000001, 'surprise': 0.029506851} \n",
      "\n",
      "balumahendran :\n",
      " Wonderful action movie. Scenes are unimaginable. Lots of graphics used in this movie. This is totally a very good action movie. \n",
      " {'anger': 0.026435185200000003, 'joy': 0.44144481420000004, 'sadness': 0.0900498182, 'fear': 0.046313233700000005, 'surprise': 0.3957569003} \n",
      "\n",
      "simonTheDiver :\n",
      " I was never a fan of the original Mad Max films but this one just blew me away. There was something so powerfully visceral about this on the big screen. It was a fun on assault on the sense , in a good way. Its spectacle rather than plot driven so may not fare as well on the smaller screen. Watch on the largest possible tv in a darkened room with the phone and other gadgets off. Crank up the volume. \n",
      " {'anger': 0.45248651500000003, 'joy': 0.1682119966, 'sadness': 0.2615767717, 'fear': 0.051703162500000004, 'surprise': 0.0660215616} \n",
      "\n",
      "Per Gunnar Jonsson :\n",
      " I would say that this movie is pretty much the kind of movie that I expected it to be. That being said I think it was a bit softer than I hoped it to be. I think that, again, the Hollywood plonkers have opted to make a movie that got a more palate rating (to them and their cash registers) than what it should have been. It is not as obvious as with Robocop and a few other movies but the feeling is there.\n",
      "\n",
      "It is still a fairly entertaining movie. It is of course yet another special effects movie and as such it does not disappoint. It differs from a lot of the usual special effects movies in that the effects are pretty down to Earth in a bizarre way. We are not talking about superheroes or near magical technologies here but instead we have a devastated landscape, scrounged together equipment and a totally ludicrous desire to blow up the last remains of human civilisation. The bizarre vehicle designs and the totally ridicules behaviour of a lot of people in this movie is alone worth watching it to be honest.\n",
      "\n",
      "As with the previous Mad Max movies this one stretches the bounds of reality (I hope) when it comes to human behaviour and how they waste the few precious resources, specifically gasoline and bullets, that remains after the apocalypse. It provides some spectacular scenery but it also puts a bit of “what the f…” feeling to it all. Not that this part is not expected from a Mad Max movie though.\n",
      "\n",
      "What I think was my largest let-down in the movie was the Mad Max character itself. To me he is supposed to be a real bad-ass. In this movie he was not really that impressive. He certainly was far from the original Mad Max character in my opinion and was really overshadowed by the Furiosa character. I could have lived with that if this character would have been really impressive but she was not. She was cool but she was still underwhelming when comparing to anything in the original bad-ass Mad Max universe. I would say that Tina Turner and Mel Gibson still rules!\n",
      "\n",
      "Still it is a decent futuristic, apocalyptic action movie, maybe not living up to this old movie geeks expectations, but not at all a wasted movie evening. The sound track of the Blu-ray certainly gave my subwoofer an exercise as well. \n",
      " {'anger': 0.2791196406, 'surprise': 0.1541021764, 'sadness': 0.4046505094, 'fear': 0.06984833630000001, 'joy': 0.0922793746} \n",
      "\n"
     ]
    }
   ],
   "source": [
    "emoReviews('Mad Max: Fury Road')\n"
   ]
  },
  {
   "cell_type": "code",
   "execution_count": 87,
   "metadata": {},
   "outputs": [
    {
     "name": "stdout",
     "output_type": "stream",
     "text": [
      "Andres Gomez : Hilarious and frightened: shaken, not stirred.\n",
      "\n",
      "Great movie, one of the best in this \"genre\" for quite a while. {'anger': 0.019620245300000002, 'surprise': 0.7412016392, 'sadness': 0.0677980185, 'fear': 0.0418685488, 'joy': 0.1295114756}\n",
      "LastCaress1972 : Finally got around to The Cabin in the Woods. 8/10, great fun. A Joss Whedon-(co)written (also co-written and directed by Drew Goddard, who wrote Cloverfield) take on an old horror staple in which 5 stereotypical teenagers (an academic, a jock, a stoner, a slut and a \"nice\" girl) venture out into the woods for a dirty weekend. It's no spoiler to say that these unfortunate young naïfs appear to have been cherry-picked and are being heavily monitored all the way into the woods by some very (very) high-tech manner of... what? Government agency? It's with these fellows that we visit first, before we ever meet our protagonists; two middle-aged, white collar I.T. types, a little brow-beaten by what appears to be a fairly monotonous job (although it really ****ing isn't) but full of typical office cameraderie and essentially confident in their own competence and that of the numerous other departments that make up this rather large-scale operation. Whoever is watching our heroes/heroines, they're big-time. So, what's happening? To say more would be to start giving things away, but those kids are very deliberate archetypes, placed in a very deliberately typical horror scenario. Because it's an American film set in America, it's called The Cabin in the Woods as is befitting the conventions of God-knows-how-many American horror flicks. Were it a J-Horror set in Tokyo, it would be called The Freaky Long-Haired Schoolgirl Ghost, an assertion ably illustrated in the film itself to great and rather humourous effect.\n",
      "\n",
      "Decent performances all-round, even the deliberately irritating characters are kind-of likeable. A pre-Thor Chris Hemsworth is particularly good as is Richard Jenkins (Nathaniel \"The Dead Patriarch\" Fisher from Six Feet Under). It threw me a bit, this film, because in purposely not looking too deeply at what it was about prior to seeing it, I mistakenly thought I was about to watch a seriously scary and effective horror, and this isn't the case at all. It's a slick product with what looks like a decent budget as you'd expect from a Joss Whedon project (in case you've been under a rock somewhere, he of Buffy/Angel and latterly of The Avengers fame) and it's loaded with nods to other horror literary and cinematic classics (The Evil Dead, Hellraiser, The Strangers and HP Lovecraft's Cthulhu Mythos are all fairly explicitly referenced), but it's not especially gory, it's intentionally funny more often than it's intentionally scary and it's a real thrill-ride, a slice of fun. It's not quite there, but it's a damn site closer to \"Horror-Comedy\" than it is to balls-out \"Horror\". It's not perfect by a long way - it instills bags of concerned curiosity in the viewer, but provokes almost zero real tension whatsoever. And late-on a special effects extravaganza treads clumsily into Night at the Museum-for-grown-ups territory. But it remains a great way to spend a couple of hours. {'anger': 0.2707052231, 'joy': 0.2312438488, 'sadness': 0.31532868740000003, 'fear': 0.1337279975, 'surprise': 0.048994209600000005}\n",
      "Per Gunnar Jonsson : This is another one of those movies where I cannot understand why so many people give it so high scores. Sure it’s not a really bad movie but, personally, I found it only moderately good. I’m not sure whether the movie was intended to be scary or funny or both. It wasn’t very funny though and only moderately scary.\n",
      "\n",
      "It has been presented as a not-your-usual-teenage-slasher-horror movie. Well, it sure has an interesting twist but…it is still a teenage slasher horror movie. The twist could really have lifted the movie but unfortunately this good idea is pretty much wasted in a poor implementation.\n",
      "\n",
      "Instead of holding on to the surprise it’s spoiled right away with that eagle flying in to the force field (since when did we learn to build force fields by the way?). Another thing that really drags down the film are these utter morons in the control room. If this was really a matter of survival of mankind then you would have thought that it would have been left to professional people and not these jerks.\n",
      "\n",
      "The movie isn’t all bad though. With the exception of these major flaws it does pass as a decent slasher/horror movie and makes for a reasonably entertaining hour and a half of not too intelligent movie watching. The part nearing the end where all the monsters goes on a rampage is rather fun to watch. I was not very impressed by the end itself though. That was rather uninspired I would say. {'anger': 0.2942368984, 'surprise': 0.2425249964, 'sadness': 0.3013180196, 'fear': 0.1384895742, 'joy': 0.023430489000000002}\n"
     ]
    }
   ],
   "source": [
    "emoReviews('The Cabin in the Woods')"
   ]
  },
  {
   "cell_type": "code",
   "execution_count": 97,
   "metadata": {},
   "outputs": [
    {
     "data": {
      "text/plain": [
       "{'anger': 0.08342876290000001,\n",
       " 'fear': 0.0376882963,\n",
       " 'joy': 0.1218031794,\n",
       " 'sadness': 0.5852322578,\n",
       " 'surprise': 0.1718474925}"
      ]
     },
     "execution_count": 97,
     "metadata": {},
     "output_type": "execute_result"
    }
   ],
   "source": [
    "indicoio.emotion(\" The moment they kissed each other was very moving, it made me cry. I like it it's a great movie, I highly recommend this movie to everyone \")"
   ]
  }
 ],
 "metadata": {
  "kernelspec": {
   "display_name": "Python 3",
   "language": "python",
   "name": "python3"
  },
  "language_info": {
   "codemirror_mode": {
    "name": "ipython",
    "version": 3
   },
   "file_extension": ".py",
   "mimetype": "text/x-python",
   "name": "python",
   "nbconvert_exporter": "python",
   "pygments_lexer": "ipython3",
   "version": "3.6.2"
  }
 },
 "nbformat": 4,
 "nbformat_minor": 2
}
